{
 "cells": [
  {
   "cell_type": "markdown",
   "metadata": {},
   "source": [
    "# Resampling\n",
    "\n",
    "Allen Downey\n",
    "\n",
    "[MIT License](https://en.wikipedia.org/wiki/MIT_License)"
   ]
  },
  {
   "cell_type": "code",
   "execution_count": 1,
   "metadata": {},
   "outputs": [],
   "source": [
    "import pandas as pd\n",
    "import numpy as np\n",
    "import matplotlib.pyplot as plt\n",
    "import seaborn as sns"
   ]
  },
  {
   "cell_type": "markdown",
   "metadata": {},
   "source": [
    "## Inference by resampling\n",
    "\n",
    "This notebook demonstrates a process for computing **confidence intervals** and **standard errors** by resampling.\n",
    "\n",
    "As an example, we'll look at a survey question from the General Social Survey (GSS).\n",
    "\n",
    "First, I'll load the dataset."
   ]
  },
  {
   "cell_type": "code",
   "execution_count": 2,
   "metadata": {},
   "outputs": [],
   "source": [
    "# Load the data file\n",
    "\n",
    "import os\n",
    "\n",
    "datafile = 'gss_eda.hdf5'\n",
    "if not os.path.exists(datafile):\n",
    "    !wget https://github.com/AllenDowney/PoliticalAlignmentCaseStudy/raw/master/gss_eda.hdf5"
   ]
  },
  {
   "cell_type": "code",
   "execution_count": 3,
   "metadata": {},
   "outputs": [
    {
     "data": {
      "text/plain": [
       "(64814, 169)"
      ]
     },
     "execution_count": 3,
     "metadata": {},
     "output_type": "execute_result"
    }
   ],
   "source": [
    "gss = pd.read_hdf(datafile, 'gss')\n",
    "gss.shape"
   ]
  },
  {
   "cell_type": "markdown",
   "metadata": {},
   "source": [
    "It includes 64814 respondents and 169 variables for each respondent.  This is the original dataset, before resampling."
   ]
  },
  {
   "cell_type": "markdown",
   "metadata": {},
   "source": [
    "## Is life exciting?\n",
    "\n",
    "The variable we'll consider is [life](https://gssdataexplorer.norc.org/variables/438/vshow), which encodes reponses to this question:\n",
    "\n",
    "> In general, do you find life exciting, pretty routine, or dull?\n",
    "\n",
    "\n",
    "The responses are:\n",
    "\n",
    "```\n",
    "1\tExciting\n",
    "2\tRoutine\n",
    "3\tDull\n",
    "```"
   ]
  },
  {
   "cell_type": "markdown",
   "metadata": {},
   "source": [
    "Here's a summary of the responses:"
   ]
  },
  {
   "cell_type": "code",
   "execution_count": 4,
   "metadata": {},
   "outputs": [
    {
     "data": {
      "text/plain": [
       "count    39242.000000\n",
       "mean         1.578742\n",
       "std          0.586999\n",
       "min          1.000000\n",
       "25%          1.000000\n",
       "50%          2.000000\n",
       "75%          2.000000\n",
       "max          3.000000\n",
       "Name: life, dtype: float64"
      ]
     },
     "execution_count": 4,
     "metadata": {},
     "output_type": "execute_result"
    }
   ],
   "source": [
    "life = gss['life']\n",
    "life.describe()"
   ]
  },
  {
   "cell_type": "markdown",
   "metadata": {},
   "source": [
    "I'll use the following function to compute the number of times each response appears."
   ]
  },
  {
   "cell_type": "code",
   "execution_count": 5,
   "metadata": {},
   "outputs": [],
   "source": [
    "def values(series, **options):\n",
    "    \"\"\"Count the values and sort.\n",
    "    \n",
    "    series: pd.Series\n",
    "    \n",
    "    returns: series mapping from values to frequencies\n",
    "    \"\"\"\n",
    "    return series.value_counts(**options).sort_index()"
   ]
  },
  {
   "cell_type": "code",
   "execution_count": 6,
   "metadata": {},
   "outputs": [
    {
     "data": {
      "text/plain": [
       "1.0    18508\n",
       "2.0    18757\n",
       "3.0     1977\n",
       "NaN    25572\n",
       "Name: life, dtype: int64"
      ]
     },
     "execution_count": 6,
     "metadata": {},
     "output_type": "execute_result"
    }
   ],
   "source": [
    "values(life, dropna=False)"
   ]
  },
  {
   "cell_type": "markdown",
   "metadata": {},
   "source": [
    "For the analysis that follows, I'll create a Series that's `1` for each respondent who said life is exciting, `0` for the other responses, and `NaN` for invalid data (mostly respondents who were not asked this question)."
   ]
  },
  {
   "cell_type": "code",
   "execution_count": 7,
   "metadata": {},
   "outputs": [
    {
     "data": {
      "text/plain": [
       "0.0    20734\n",
       "1.0    18508\n",
       "NaN    25572\n",
       "Name: is_exciting, dtype: int64"
      ]
     },
     "execution_count": 7,
     "metadata": {},
     "output_type": "execute_result"
    }
   ],
   "source": [
    "gss['is_exciting'] = life.replace({1:1, 2:0, 3:0})\n",
    "values(gss['is_exciting'], dropna=False)"
   ]
  },
  {
   "cell_type": "markdown",
   "metadata": {},
   "source": [
    "The mean of this column is the fraction of respondents who said life is exciting."
   ]
  },
  {
   "cell_type": "code",
   "execution_count": 8,
   "metadata": {},
   "outputs": [
    {
     "data": {
      "text/plain": [
       "0.47163752"
      ]
     },
     "execution_count": 8,
     "metadata": {},
     "output_type": "execute_result"
    }
   ],
   "source": [
    "gss['is_exciting'].mean()"
   ]
  },
  {
   "cell_type": "markdown",
   "metadata": {},
   "source": [
    "But remember that the GSS uses stratified sampling, so some groups are overrepresented and others are underrepresented.  If we compute the mean of this data, it might be biased due to this sampling design.\n",
    "\n",
    "We can correct this bias using weighted resampling.  To make that easier, we'll use the following function, which takes a `DataFrame` and computes the mean of `is_exciting`."
   ]
  },
  {
   "cell_type": "code",
   "execution_count": 9,
   "metadata": {},
   "outputs": [],
   "source": [
    "def mean_exciting(df):\n",
    "    return df['is_exciting'].mean()"
   ]
  },
  {
   "cell_type": "code",
   "execution_count": 10,
   "metadata": {},
   "outputs": [
    {
     "data": {
      "text/plain": [
       "0.47163752"
      ]
     },
     "execution_count": 10,
     "metadata": {},
     "output_type": "execute_result"
    }
   ],
   "source": [
    "mean_exciting(gss)"
   ]
  },
  {
   "cell_type": "markdown",
   "metadata": {},
   "source": [
    "## Resampling\n",
    "\n",
    "I'll use the following function to resample the data for each year."
   ]
  },
  {
   "cell_type": "code",
   "execution_count": 11,
   "metadata": {},
   "outputs": [],
   "source": [
    "def resample_rows_weighted(df, column):\n",
    "    \"\"\"Resamples a DataFrame using probabilities proportional to given column.\n",
    "\n",
    "    df: DataFrame\n",
    "    column: string column name to use as weights\n",
    "\n",
    "    returns: DataFrame\n",
    "    \"\"\"\n",
    "    weights = df[column]\n",
    "    sample = df.sample(n=len(df), replace=True, weights=weights)\n",
    "    return sample"
   ]
  },
  {
   "cell_type": "markdown",
   "metadata": {},
   "source": [
    "The following function takes the entire `DataFrame`, groups by year, resamples within each year, and then rejoins the results into a single `DataFrame`."
   ]
  },
  {
   "cell_type": "code",
   "execution_count": 12,
   "metadata": {},
   "outputs": [],
   "source": [
    "def resample_by_year(df, column):\n",
    "    \"\"\"Resample rows within each year.\n",
    "\n",
    "    df: DataFrame\n",
    "    column: string name of weight variable\n",
    "\n",
    "    returns DataFrame\n",
    "    \"\"\"\n",
    "    grouped = df.groupby('year')\n",
    "    samples = [resample_rows_weighted(group, column)\n",
    "               for _, group in grouped]\n",
    "    sample = pd.concat(samples, ignore_index=True)\n",
    "    return sample"
   ]
  },
  {
   "cell_type": "markdown",
   "metadata": {},
   "source": [
    "Since this function takes a little while to run, I'll create 101 resampled `DataFrames` once, and use them several times."
   ]
  },
  {
   "cell_type": "code",
   "execution_count": 13,
   "metadata": {},
   "outputs": [
    {
     "data": {
      "text/plain": [
       "101"
      ]
     },
     "execution_count": 13,
     "metadata": {},
     "output_type": "execute_result"
    }
   ],
   "source": [
    "resampled_dfs = []\n",
    "\n",
    "for i in range(101):\n",
    "    np.random.seed(i)\n",
    "    sample = resample_by_year(gss, 'wtssall')\n",
    "    resampled_dfs.append(sample)\n",
    "    \n",
    "len(resampled_dfs)"
   ]
  },
  {
   "cell_type": "markdown",
   "metadata": {},
   "source": [
    "Now we can use `mean_exciting` to compute the mean of `is_exciting` for each resampled `DataFrame`."
   ]
  },
  {
   "cell_type": "code",
   "execution_count": 14,
   "metadata": {},
   "outputs": [],
   "source": [
    "resampled_means = [mean_exciting(df) for df in resampled_dfs]"
   ]
  },
  {
   "cell_type": "markdown",
   "metadata": {},
   "source": [
    "The result is a list of 101 estimated means.  The following is the distribution of these values."
   ]
  },
  {
   "cell_type": "code",
   "execution_count": 15,
   "metadata": {},
   "outputs": [
    {
     "data": {
      "image/png": "[encoded data removed]",
      "text/plain": [
       "<Figure size 432x288 with 1 Axes>"
      ]
     },
     "metadata": {
      "needs_background": "light"
     },
     "output_type": "display_data"
    }
   ],
   "source": [
    "sns.distplot(resampled_means, axlabel='Fraction who say life is exciting');"
   ]
  },
  {
   "cell_type": "markdown",
   "metadata": {},
   "source": [
    "This is the **sampling distribution of the mean**; it gives us a sense of how much we expect our estimate to vary due to random sampling.\n",
    "\n",
    "The answer is, not very much.  Because the sample size is so large, variation due to random sampling is probably the least of our problems.\n",
    "\n",
    "To summarize this distribution, we can compute the median, 5th, and 95th percentiles."
   ]
  },
  {
   "cell_type": "code",
   "execution_count": 16,
   "metadata": {},
   "outputs": [
    {
     "name": "stdout",
     "output_type": "stream",
     "text": [
      "0.4767599105834961 (0.47336825728416443, 0.48064443469047546)\n"
     ]
    }
   ],
   "source": [
    "low, median, high = np.percentile(resampled_means, [5, 50, 95])\n",
    "\n",
    "print(median, (low, high))"
   ]
  },
  {
   "cell_type": "markdown",
   "metadata": {},
   "source": [
    "The 5th and 95th percentiles form a **90% confidence interval**.\n",
    "\n",
    "The median is a point estimate unbiased by stratified sampling.  In this example, it is not substantially different from the mean we computed from the unresampled data."
   ]
  },
  {
   "cell_type": "code",
   "execution_count": 17,
   "metadata": {},
   "outputs": [
    {
     "data": {
      "text/plain": [
       "0.47163752"
      ]
     },
     "execution_count": 17,
     "metadata": {},
     "output_type": "execute_result"
    }
   ],
   "source": [
    "mean_exciting(gss)"
   ]
  },
  {
   "cell_type": "markdown",
   "metadata": {},
   "source": [
    "As an alternative to a confidence interval, we could also compute a **standard error**, which is the standard deviation of the sampling distribution."
   ]
  },
  {
   "cell_type": "code",
   "execution_count": 18,
   "metadata": {},
   "outputs": [
    {
     "data": {
      "text/plain": [
       "0.002354511"
      ]
     },
     "execution_count": 18,
     "metadata": {},
     "output_type": "execute_result"
    }
   ],
   "source": [
    "np.std(resampled_means)"
   ]
  },
  {
   "cell_type": "markdown",
   "metadata": {},
   "source": [
    "But the standard error doesn't contain additional information beyond the confidence interval, and I think it is harder to interpret.  So I am generally inclined to report the CI alone."
   ]
  },
  {
   "cell_type": "markdown",
   "metadata": {},
   "source": [
    "## Trend over time\n",
    "\n",
    "Now let's see how the responses to this question are changing over time.\n",
    "\n",
    "First I'll compute the mean response for each year."
   ]
  },
  {
   "cell_type": "code",
   "execution_count": 19,
   "metadata": {},
   "outputs": [],
   "source": [
    "gss_by_year = gss.groupby('year')\n",
    "exciting_by_year = gss_by_year['is_exciting'].mean()"
   ]
  },
  {
   "cell_type": "markdown",
   "metadata": {},
   "source": [
    "And plot the results."
   ]
  },
  {
   "cell_type": "code",
   "execution_count": 20,
   "metadata": {},
   "outputs": [],
   "source": [
    "def decorate(**options):\n",
    "    \"\"\"Decorate the current axes.\n",
    "    Call decorate with keyword arguments like\n",
    "    decorate(title='Title',\n",
    "             xlabel='x',\n",
    "             ylabel='y')\n",
    "    The keyword arguments can be any of the axis properties\n",
    "    https://matplotlib.org/api/axes_api.html\n",
    "    \"\"\"\n",
    "    ax = plt.gca()\n",
    "    ax.set(**options)\n",
    "    handles, labels = ax.get_legend_handles_labels()\n",
    "    if labels:\n",
    "        plt.legend()\n",
    "    plt.tight_layout()"
   ]
  },
  {
   "cell_type": "code",
   "execution_count": 21,
   "metadata": {},
   "outputs": [
    {
     "data": {
      "image/png": "[encoded data removed]",
      "text/plain": [
       "<Figure size 432x288 with 1 Axes>"
      ]
     },
     "metadata": {
      "needs_background": "light"
     },
     "output_type": "display_data"
    }
   ],
   "source": [
    "exciting_by_year.plot(style='o', alpha=0.5)\n",
    "\n",
    "decorate(xlabel='Year',\n",
    "         ylabel='Fraction saying life is exciting',\n",
    "         xlim=[1970, 2020])"
   ]
  },
  {
   "cell_type": "markdown",
   "metadata": {},
   "source": [
    "It looks like more people think life is exciting over time, but since the data are quite noisy, we might wonder if this observation is reliable.\n",
    "\n",
    "To answer that, I'll use logistic regression to estimate the parameter associated with time, and use resampling to quantify the precision of that estimate."
   ]
  },
  {
   "cell_type": "markdown",
   "metadata": {},
   "source": [
    "## Resampled parameters\n",
    "\n",
    "We'll use StatsModels to compute the parameters of a logistic regression."
   ]
  },
  {
   "cell_type": "code",
   "execution_count": 22,
   "metadata": {},
   "outputs": [
    {
     "name": "stdout",
     "output_type": "stream",
     "text": [
      "Optimization terminated successfully.\n",
      "         Current function value: 0.690640\n",
      "         Iterations 4\n"
     ]
    }
   ],
   "source": [
    "import statsmodels.formula.api as smf\n",
    "\n",
    "results = smf.logit('is_exciting ~ year', data=gss).fit()"
   ]
  },
  {
   "cell_type": "code",
   "execution_count": 23,
   "metadata": {},
   "outputs": [
    {
     "data": {
      "text/plain": [
       "Intercept   -12.671421\n",
       "year          0.006296\n",
       "dtype: float64"
      ]
     },
     "execution_count": 23,
     "metadata": {},
     "output_type": "execute_result"
    }
   ],
   "source": [
    "results.params"
   ]
  },
  {
   "cell_type": "markdown",
   "metadata": {},
   "source": [
    "The parameter of `year` is a log-odds ratio that indicates how the fraction of positive responses increases from one year to the next.\n",
    "\n",
    "To see what the regression line looks like, I'll generate predictions for a range of years."
   ]
  },
  {
   "cell_type": "code",
   "execution_count": 24,
   "metadata": {},
   "outputs": [],
   "source": [
    "df_pred = pd.DataFrame()\n",
    "years = np.arange(1972, 2019)\n",
    "df_pred['year'] = years\n",
    "pred = results.predict(df_pred)"
   ]
  },
  {
   "cell_type": "markdown",
   "metadata": {},
   "source": [
    "The following plot shows the original data and the logistic regression line."
   ]
  },
  {
   "cell_type": "code",
   "execution_count": 25,
   "metadata": {},
   "outputs": [
    {
     "data": {
      "image/png": "[encoded data removed]",
      "text/plain": [
       "<Figure size 432x288 with 1 Axes>"
      ]
     },
     "metadata": {
      "needs_background": "light"
     },
     "output_type": "display_data"
    }
   ],
   "source": [
    "exciting_by_year.plot(style='o', alpha=0.5)\n",
    "plt.plot(years, pred, color='C0', label='logit model')\n",
    "\n",
    "decorate(xlabel='Year',\n",
    "         ylabel='Fraction saying life is exciting',\n",
    "         xlim=[1970, 2020])"
   ]
  },
  {
   "cell_type": "markdown",
   "metadata": {},
   "source": [
    "The regression line is not actually a straight line, but in the range of probabilities near 0.5, a logistic curve appears as a nearly straight line.\n",
    "\n",
    "To make it easier to resample this result, I'll use the following function, which takes a resampled `DataFrame` and returns the LOR for one year."
   ]
  },
  {
   "cell_type": "code",
   "execution_count": 26,
   "metadata": {},
   "outputs": [],
   "source": [
    "def estimate_lor(df):\n",
    "    results = smf.logit('is_exciting ~ year', data=df).fit(disp=0)\n",
    "    return results.params['year']"
   ]
  },
  {
   "cell_type": "markdown",
   "metadata": {},
   "source": [
    "Now we call this function with each resampling, and plot the results."
   ]
  },
  {
   "cell_type": "code",
   "execution_count": 27,
   "metadata": {},
   "outputs": [
    {
     "data": {
      "image/png": "[encoded data removed]",
      "text/plain": [
       "<Figure size 432x288 with 1 Axes>"
      ]
     },
     "metadata": {
      "needs_background": "light"
     },
     "output_type": "display_data"
    }
   ],
   "source": [
    "resampled_params = [estimate_lor(df) for df in resampled_dfs]\n",
    "\n",
    "sns.distplot(resampled_params, axlabel='Log odds ratio per year');"
   ]
  },
  {
   "cell_type": "markdown",
   "metadata": {},
   "source": [
    "This figure shows the sampling distribution of the estimated parameter.  In every resampling, the estimate is positive, which suggests that the slope we see in the data is probably not due to random sampling.\n",
    "\n",
    "To summarize the distribution, we can use the mean:"
   ]
  },
  {
   "cell_type": "code",
   "execution_count": 28,
   "metadata": {},
   "outputs": [
    {
     "data": {
      "text/plain": [
       "0.006810176484606039"
      ]
     },
     "execution_count": 28,
     "metadata": {},
     "output_type": "execute_result"
    }
   ],
   "source": [
    "np.mean(resampled_params)"
   ]
  },
  {
   "cell_type": "markdown",
   "metadata": {},
   "source": [
    "Or, as in the previous example, the median and a 90% CI."
   ]
  },
  {
   "cell_type": "code",
   "execution_count": 29,
   "metadata": {},
   "outputs": [
    {
     "name": "stdout",
     "output_type": "stream",
     "text": [
      "0.006814480320533563 (0.005698731722232167, 0.007790602070529365)\n"
     ]
    }
   ],
   "source": [
    "low, median, high = np.percentile(resampled_params, [5, 50, 95])\n",
    "\n",
    "print(median, (low, high))"
   ]
  },
  {
   "cell_type": "markdown",
   "metadata": {},
   "source": [
    "The standard deviation of the sampling distribution is the standard error."
   ]
  },
  {
   "cell_type": "code",
   "execution_count": 30,
   "metadata": {},
   "outputs": [
    {
     "data": {
      "text/plain": [
       "0.0006762217562391258"
      ]
     },
     "execution_count": 30,
     "metadata": {},
     "output_type": "execute_result"
    }
   ],
   "source": [
    "np.std(resampled_params)"
   ]
  },
  {
   "cell_type": "markdown",
   "metadata": {},
   "source": [
    "So far we've computed point estimates and confidence intervals for the mean and the log odds ratio.  We can use the same tools to show how the predictions vary due to random sampling."
   ]
  },
  {
   "cell_type": "markdown",
   "metadata": {},
   "source": [
    "## Resampled predictions\n",
    "\n",
    "The following function takes a resampled `DataFrame`, fits a logistic regression model, and generates predictions for a range of dates, including projections into the near future."
   ]
  },
  {
   "cell_type": "code",
   "execution_count": 31,
   "metadata": {},
   "outputs": [],
   "source": [
    "df_pred = pd.DataFrame()\n",
    "years = np.arange(1972, 2023)\n",
    "df_pred['year'] = years\n",
    "\n",
    "def make_predictions(df):\n",
    "    results = smf.logit('is_exciting ~ year', data=df).fit(disp=0)\n",
    "    pred = results.predict(df_pred)    \n",
    "    return pred"
   ]
  },
  {
   "cell_type": "markdown",
   "metadata": {},
   "source": [
    "We can use this function to compute predictions for each resampled `DataFrame`:"
   ]
  },
  {
   "cell_type": "code",
   "execution_count": 32,
   "metadata": {},
   "outputs": [],
   "source": [
    "resampled_preds = [make_predictions(df) for df in resampled_dfs]"
   ]
  },
  {
   "cell_type": "markdown",
   "metadata": {},
   "source": [
    "The result is a list of arrays, which we can think of as a 2-D array with one rows for each resampling and one column for each year.\n",
    "\n",
    "If we compute percentiles along `axis=0`, we'll get percentiles from each column."
   ]
  },
  {
   "cell_type": "code",
   "execution_count": 33,
   "metadata": {},
   "outputs": [],
   "source": [
    "low, med, high = np.percentile(resampled_preds, [5, 50, 95], axis=0)"
   ]
  },
  {
   "cell_type": "markdown",
   "metadata": {},
   "source": [
    "So `low`, `med`, and `high` are arrays with the same length as `years`, which we can plot like this."
   ]
  },
  {
   "cell_type": "code",
   "execution_count": 34,
   "metadata": {},
   "outputs": [
    {
     "data": {
      "image/png": "[encoded data removed]",
      "text/plain": [
       "<Figure size 432x288 with 1 Axes>"
      ]
     },
     "metadata": {
      "needs_background": "light"
     },
     "output_type": "display_data"
    }
   ],
   "source": [
    "exciting_by_year.plot(style='o', alpha=0.5)\n",
    "plt.fill_between(years, low, high, alpha=0.3)\n",
    "plt.plot(years, med, color='C0', label='logit model')\n",
    "\n",
    "decorate(xlabel='Year',\n",
    "         ylabel='Fraction saying life is exciting',\n",
    "         xlim=[1970, 2024])"
   ]
  },
  {
   "cell_type": "markdown",
   "metadata": {},
   "source": [
    "The shaded area shows the 90% CI for each year; the solid line shows the median.\n",
    "\n",
    "Most of the data points don't fall in the CI, but that's OK; we should not expect them to.  This CI shows uncertainty in the model due to random sampling, but it does not include the variation from year to year that we see in the data."
   ]
  },
  {
   "cell_type": "markdown",
   "metadata": {},
   "source": [
    "## Summary\n",
    "\n",
    "This notebook demonstrates a process for using resampling to quantify uncertainty in estimated parameters due to random sampling.\n",
    "\n",
    "The key steps of this process are:\n",
    "\n",
    "1. Generate a collection of resampled `DataFrame`s.\n",
    "\n",
    "2. Write a function that takes a `DataFrame` and returns an estimate of some kind.\n",
    "\n",
    "3. Run the function with each resampling and collect the results.\n",
    "\n",
    "4. Plot the results as a sampling distribution or summarize it using a mean, median, confidence interval, or standard error.\n",
    "\n",
    "We applied this process to estimating a mean, estimating a regression parameter, and generating predictions from a regression model.\n",
    "\n",
    "The following figure shows the elements of this process more generally:\n",
    "\n",
    "<img src=\"https://github.com/AllenDowney/ElementsOfDataScience/raw/master/figs/resampling.png\" width=\"400\">\n"
   ]
  },
  {
   "cell_type": "code",
   "execution_count": null,
   "metadata": {},
   "outputs": [],
   "source": []
  }
 ],
 "metadata": {
  "kernelspec": {
   "display_name": "Python 3",
   "language": "python",
   "name": "python3"
  },
  "language_info": {
   "codemirror_mode": {
    "name": "ipython",
    "version": 3
   },
   "file_extension": ".py",
   "mimetype": "text/x-python",
   "name": "python",
   "nbconvert_exporter": "python",
   "pygments_lexer": "ipython3",
   "version": "3.7.7"
  }
 },
 "nbformat": 4,
 "nbformat_minor": 4
}
