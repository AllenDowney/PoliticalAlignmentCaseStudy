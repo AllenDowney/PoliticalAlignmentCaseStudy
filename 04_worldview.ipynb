{
 "cells": [
  {
   "cell_type": "markdown",
   "metadata": {},
   "source": [
    "# Political Alignment Case Study\n",
    "\n",
    "Allen Downey\n",
    "\n",
    "[MIT License](https://en.wikipedia.org/wiki/MIT_License)\n",
    "\n",
    "\n",
    "### Introduction\n",
    "\n",
    "This notebook is a template for a do-it-yourself, choose-your-own-adventure mini-project that explores the relationship between political alignment and other attitudes and beliefs.\n",
    "\n",
    "I will outline the steps and provide sample code.  You can choose which survey question to explore, adapt my code for your data, and write a report presenting the results."
   ]
  },
  {
   "cell_type": "markdown",
   "metadata": {},
   "source": [
    "In previous notebooks, we looked at changes in political alignment over time, and explored the relationship between political alignment and survey questions related to \"outlook\".\n",
    "\n",
    "The analysis in this notebook follows the steps we have seen:\n",
    "\n",
    "1) For your variable of interest, you will read the code book to understand the question and valid responses.\n",
    "\n",
    "2) You will compute and display the distribution (PMF) of responses and the distribution within each political group.\n",
    "\n",
    "3) You will recode the variable on a numerical scale that makes it possible to interpret the mean, and then plot the mean over time.\n",
    "\n",
    "4) You will use a pivot table to compute the mean of your variable over time for each political alignment group (liberal, moderate, and conservative).\n",
    "\n",
    "5) Finally, you will look at results from three resamplings of the data to see whether the patterns you observed might be due to random sampling."
   ]
  },
  {
   "cell_type": "markdown",
   "metadata": {},
   "source": [
    "### Setup\n",
    "\n",
    "If you are running this notebook in Colab, the following cell installs the `empiricaldist` library.\n",
    "\n",
    "If you are running in another environment, you will need to install it yourself."
   ]
  },
  {
   "cell_type": "code",
   "execution_count": 7,
   "metadata": {},
   "outputs": [],
   "source": [
    "# If we're running in Colab, set up the environment\n",
    "\n",
    "import sys\n",
    "IN_COLAB = 'google.colab' in sys.modules\n",
    "\n",
    "if IN_COLAB:\n",
    "    !pip install empiricaldist"
   ]
  },
  {
   "cell_type": "markdown",
   "metadata": {},
   "source": [
    "If everything we need is installed, the following cell should run without error."
   ]
  },
  {
   "cell_type": "code",
   "execution_count": 8,
   "metadata": {},
   "outputs": [],
   "source": [
    "import pandas as pd\n",
    "import numpy as np\n",
    "import matplotlib.pyplot as plt\n",
    "import seaborn as sns\n",
    "\n",
    "from empiricaldist import Pmf"
   ]
  },
  {
   "cell_type": "markdown",
   "metadata": {},
   "source": [
    "The following cells define functions from previous notebooks we will use again."
   ]
  },
  {
   "cell_type": "code",
   "execution_count": 9,
   "metadata": {},
   "outputs": [],
   "source": [
    "def values(series):\n",
    "    \"\"\"Count the values and sort.\n",
    "    \n",
    "    series: pd.Series\n",
    "    \n",
    "    returns: series mapping from values to frequencies\n",
    "    \"\"\"\n",
    "    return series.value_counts().sort_index()"
   ]
  },
  {
   "cell_type": "code",
   "execution_count": 10,
   "metadata": {},
   "outputs": [],
   "source": [
    "def decorate(**options):\n",
    "    \"\"\"Decorate the current axes.\n",
    "    Call decorate with keyword arguments like\n",
    "    decorate(title='Title',\n",
    "             xlabel='x',\n",
    "             ylabel='y')\n",
    "    The keyword arguments can be any of the axis properties\n",
    "    https://matplotlib.org/api/axes_api.html\n",
    "    \"\"\"\n",
    "    plt.gca().set(**options)\n",
    "    plt.tight_layout()"
   ]
  },
  {
   "cell_type": "code",
   "execution_count": 11,
   "metadata": {},
   "outputs": [],
   "source": [
    "from statsmodels.nonparametric.smoothers_lowess import lowess\n",
    "\n",
    "def make_lowess(series):\n",
    "    \"\"\"Use LOWESS to compute a smooth line.\n",
    "    \n",
    "    series: pd.Series\n",
    "    \n",
    "    returns: pd.Series\n",
    "    \"\"\"\n",
    "    y = series.values\n",
    "    x = series.index.values\n",
    "\n",
    "    smooth = lowess(y, x)\n",
    "    index, data = np.transpose(smooth)\n",
    "\n",
    "    return pd.Series(data, index=index) "
   ]
  },
  {
   "cell_type": "code",
   "execution_count": 12,
   "metadata": {},
   "outputs": [],
   "source": [
    "def plot_series_lowess(series, color):\n",
    "    \"\"\"Plots a series of data points and a smooth line.\n",
    "    \n",
    "    series: pd.Series\n",
    "    color: string or tuple\n",
    "    \"\"\"\n",
    "    series.plot(linewidth=0, marker='o', color=color, alpha=0.5)\n",
    "    smooth = make_lowess(series)\n",
    "    smooth.plot(label='_', color=color)"
   ]
  },
  {
   "cell_type": "code",
   "execution_count": 13,
   "metadata": {},
   "outputs": [],
   "source": [
    "def plot_columns_lowess(table, columns, color_map):\n",
    "    \"\"\"Plot the columns in a DataFrame.\n",
    "    \n",
    "    table: DataFrame with a cross tabulation\n",
    "    columns: list of column names, in the desired order\n",
    "    color_map: mapping from column names to color_map\n",
    "    \"\"\"\n",
    "    for col in columns:\n",
    "        series = table[col]\n",
    "        plot_series_lowess(series, color_map[col])"
   ]
  },
  {
   "cell_type": "markdown",
   "metadata": {},
   "source": [
    "### Loading the data\n",
    "\n",
    "In the first notebook, we downloaded GSS data, loaded and cleaned it, resampled it to correct for stratified sampling, and then saved the data in an HDF5 file, which is much faster to load.\n",
    "\n",
    "The following cells downloads the file."
   ]
  },
  {
   "cell_type": "code",
   "execution_count": 14,
   "metadata": {},
   "outputs": [],
   "source": [
    "# Load the data file\n",
    "\n",
    "import os\n",
    "\n",
    "datafile = 'gss_eda.3.hdf5'\n",
    "if not os.path.exists(datafile):\n",
    "    !wget https://github.com/AllenDowney/PoliticalAlignmentCaseStudy/raw/master/gss_eda.3.hdf5\n"
   ]
  },
  {
   "cell_type": "markdown",
   "metadata": {},
   "source": [
    "Now I'll load one of the resampled DataFrames."
   ]
  },
  {
   "cell_type": "code",
   "execution_count": 15,
   "metadata": {},
   "outputs": [
    {
     "data": {
      "text/plain": [
       "(64814, 165)"
      ]
     },
     "execution_count": 15,
     "metadata": {},
     "output_type": "execute_result"
    }
   ],
   "source": [
    "gss = pd.read_hdf(datafile, 'gss0')\n",
    "gss.shape"
   ]
  },
  {
   "cell_type": "markdown",
   "metadata": {},
   "source": [
    "## Changes in social attitudes\n",
    "\n",
    "The General Social Survey includes questions about a variety of social attitudes and beliefs.  We can use this dataset to explore changes in the responses over time and the relationship with political alignment.\n",
    "\n",
    "In my subset of the GSS data, I selected questions that were asked repeatedly over the interval of the survey.  [You can see the variables I chose on the GSS web site](https://gssdataexplorer.norc.org/projects/52787/variables/data_cart).\n",
    "\n",
    "To do the exercises in this notebook, you should choose a variable that you think might be interesting.\n",
    "\n",
    "I will walk you through a process for exploring the variable you choose, but you should feel free to ignore my suggestions if you have a better idea."
   ]
  },
  {
   "cell_type": "markdown",
   "metadata": {},
   "source": [
    "If you are not sure which variable to explore, here is a [random selection of three that you can choose from](https://en.wikipedia.org/wiki/The_Paradox_of_Choice):"
   ]
  },
  {
   "cell_type": "code",
   "execution_count": 16,
   "metadata": {},
   "outputs": [
    {
     "name": "stdout",
     "output_type": "stream",
     "text": [
      "class_\n",
      "satjob\n",
      "hunt\n"
     ]
    }
   ],
   "source": [
    "cols = list(gss.columns)\n",
    "for col in ['ballot', 'id_', 'year']:\n",
    "    cols.remove(col)\n",
    "    \n",
    "np.random.shuffle(cols)\n",
    "for col in cols[:3]:\n",
    "    print(col)"
   ]
  },
  {
   "cell_type": "markdown",
   "metadata": {},
   "source": [
    "\n",
    "## Attitudes about homosexuality\n",
    "\n",
    "As my example, I will look at responses to the following [question related to attitudes about homosexuality](https://gssdataexplorer.norc.org/projects/52787/variables/634/vshow).\n",
    "\n",
    "> What about sexual relations between two adults of the same sex--do you think it is always wrong, almost always wrong, wrong only sometimes, or not wrong at all?\n",
    "\n",
    "The valid responses are:\n",
    "\n",
    "```\n",
    "1\tAlways wrong\n",
    "2\tAlmost always wrong\n",
    "3\tSometimes wrong\n",
    "4\tNot wrong at all\n",
    "```\n",
    "\n",
    "When you modify this notebook, you should replace this variable with the one you chose.\n",
    "\n",
    "Here's the distribution of responses:"
   ]
  },
  {
   "cell_type": "code",
   "execution_count": 17,
   "metadata": {},
   "outputs": [
    {
     "data": {
      "text/plain": [
       "1.0    23545\n",
       "2.0     1678\n",
       "3.0     2586\n",
       "4.0     9863\n",
       "Name: homosex, dtype: int64"
      ]
     },
     "execution_count": 17,
     "metadata": {},
     "output_type": "execute_result"
    }
   ],
   "source": [
    "values(gss['homosex'])"
   ]
  },
  {
   "cell_type": "markdown",
   "metadata": {},
   "source": [
    "And here's what the distribution looks like."
   ]
  },
  {
   "cell_type": "code",
   "execution_count": 18,
   "metadata": {},
   "outputs": [
    {
     "data": {
      "image/png": "[encoded data removed]",
      "text/plain": [
       "<Figure size 432x288 with 1 Axes>"
      ]
     },
     "metadata": {
      "needs_background": "light"
     },
     "output_type": "display_data"
    }
   ],
   "source": [
    "pmf = Pmf.from_seq(gss['homosex'])\n",
    "pmf.bar(alpha=0.7)\n",
    "\n",
    "decorate(xlabel='Response',\n",
    "         ylabel='PMF',\n",
    "         title='Distribution of responses')\n",
    "\n",
    "responses = [1, 2, 3, 4]\n",
    "\n",
    "labels = ['Always wrong',\n",
    "          'Almost always wrong',\n",
    "          'Sometimes wrong',\n",
    "          'Not at all wrong']\n",
    "\n",
    "plt.xticks(responses, labels, rotation=30);"
   ]
  },
  {
   "cell_type": "markdown",
   "metadata": {},
   "source": [
    "When you write your report, you should add a few sentences here to interpret the results you get for your variable.\n",
    "\n",
    "But remember that the results are an average over the entire interval of the survey, so you should not interpet it as a current condition."
   ]
  },
  {
   "cell_type": "markdown",
   "metadata": {},
   "source": [
    "## Responses over time\n",
    "\n",
    "If we make a cross tabulation of `year` and the variable of interest, we get the distribution of responses over time."
   ]
  },
  {
   "cell_type": "code",
   "execution_count": 19,
   "metadata": {},
   "outputs": [
    {
     "data": {
      "text/html": [
       "<div>\n",
       "<style scoped>\n",
       "    .dataframe tbody tr th:only-of-type {\n",
       "        vertical-align: middle;\n",
       "    }\n",
       "\n",
       "    .dataframe tbody tr th {\n",
       "        vertical-align: top;\n",
       "    }\n",
       "\n",
       "    .dataframe thead th {\n",
       "        text-align: right;\n",
       "    }\n",
       "</style>\n",
       "<table border=\"1\" class=\"dataframe\">\n",
       "  <thead>\n",
       "    <tr style=\"text-align: right;\">\n",
       "      <th>homosex</th>\n",
       "      <th>1.0</th>\n",
       "      <th>2.0</th>\n",
       "      <th>3.0</th>\n",
       "      <th>4.0</th>\n",
       "    </tr>\n",
       "    <tr>\n",
       "      <th>year</th>\n",
       "      <th></th>\n",
       "      <th></th>\n",
       "      <th></th>\n",
       "      <th></th>\n",
       "    </tr>\n",
       "  </thead>\n",
       "  <tbody>\n",
       "    <tr>\n",
       "      <th>1973</th>\n",
       "      <td>0.740977</td>\n",
       "      <td>0.058740</td>\n",
       "      <td>0.084926</td>\n",
       "      <td>0.115357</td>\n",
       "    </tr>\n",
       "    <tr>\n",
       "      <th>1974</th>\n",
       "      <td>0.741746</td>\n",
       "      <td>0.049156</td>\n",
       "      <td>0.077036</td>\n",
       "      <td>0.132062</td>\n",
       "    </tr>\n",
       "    <tr>\n",
       "      <th>1976</th>\n",
       "      <td>0.679806</td>\n",
       "      <td>0.057400</td>\n",
       "      <td>0.089212</td>\n",
       "      <td>0.173582</td>\n",
       "    </tr>\n",
       "    <tr>\n",
       "      <th>1977</th>\n",
       "      <td>0.729767</td>\n",
       "      <td>0.062414</td>\n",
       "      <td>0.071331</td>\n",
       "      <td>0.136488</td>\n",
       "    </tr>\n",
       "    <tr>\n",
       "      <th>1980</th>\n",
       "      <td>0.725772</td>\n",
       "      <td>0.055994</td>\n",
       "      <td>0.058148</td>\n",
       "      <td>0.160086</td>\n",
       "    </tr>\n",
       "  </tbody>\n",
       "</table>\n",
       "</div>"
      ],
      "text/plain": [
       "homosex       1.0       2.0       3.0       4.0\n",
       "year                                           \n",
       "1973     0.740977  0.058740  0.084926  0.115357\n",
       "1974     0.741746  0.049156  0.077036  0.132062\n",
       "1976     0.679806  0.057400  0.089212  0.173582\n",
       "1977     0.729767  0.062414  0.071331  0.136488\n",
       "1980     0.725772  0.055994  0.058148  0.160086"
      ]
     },
     "execution_count": 19,
     "metadata": {},
     "output_type": "execute_result"
    }
   ],
   "source": [
    "xtab = pd.crosstab(gss['year'], gss['homosex'], normalize='index')\n",
    "xtab.head()"
   ]
  },
  {
   "cell_type": "code",
   "execution_count": 20,
   "metadata": {},
   "outputs": [
    {
     "data": {
      "text/html": [
       "<div>\n",
       "<style scoped>\n",
       "    .dataframe tbody tr th:only-of-type {\n",
       "        vertical-align: middle;\n",
       "    }\n",
       "\n",
       "    .dataframe tbody tr th {\n",
       "        vertical-align: top;\n",
       "    }\n",
       "\n",
       "    .dataframe thead th {\n",
       "        text-align: right;\n",
       "    }\n",
       "</style>\n",
       "<table border=\"1\" class=\"dataframe\">\n",
       "  <thead>\n",
       "    <tr style=\"text-align: right;\">\n",
       "      <th>homosex</th>\n",
       "      <th>1.0</th>\n",
       "      <th>2.0</th>\n",
       "      <th>3.0</th>\n",
       "      <th>4.0</th>\n",
       "    </tr>\n",
       "    <tr>\n",
       "      <th>year</th>\n",
       "      <th></th>\n",
       "      <th></th>\n",
       "      <th></th>\n",
       "      <th></th>\n",
       "    </tr>\n",
       "  </thead>\n",
       "  <tbody>\n",
       "    <tr>\n",
       "      <th>2010</th>\n",
       "      <td>0.474838</td>\n",
       "      <td>0.033279</td>\n",
       "      <td>0.077922</td>\n",
       "      <td>0.413961</td>\n",
       "    </tr>\n",
       "    <tr>\n",
       "      <th>2012</th>\n",
       "      <td>0.449878</td>\n",
       "      <td>0.029340</td>\n",
       "      <td>0.075795</td>\n",
       "      <td>0.444988</td>\n",
       "    </tr>\n",
       "    <tr>\n",
       "      <th>2014</th>\n",
       "      <td>0.388069</td>\n",
       "      <td>0.029520</td>\n",
       "      <td>0.077491</td>\n",
       "      <td>0.504920</td>\n",
       "    </tr>\n",
       "    <tr>\n",
       "      <th>2016</th>\n",
       "      <td>0.379444</td>\n",
       "      <td>0.036667</td>\n",
       "      <td>0.075000</td>\n",
       "      <td>0.508889</td>\n",
       "    </tr>\n",
       "    <tr>\n",
       "      <th>2018</th>\n",
       "      <td>0.332471</td>\n",
       "      <td>0.034282</td>\n",
       "      <td>0.057568</td>\n",
       "      <td>0.575679</td>\n",
       "    </tr>\n",
       "  </tbody>\n",
       "</table>\n",
       "</div>"
      ],
      "text/plain": [
       "homosex       1.0       2.0       3.0       4.0\n",
       "year                                           \n",
       "2010     0.474838  0.033279  0.077922  0.413961\n",
       "2012     0.449878  0.029340  0.075795  0.444988\n",
       "2014     0.388069  0.029520  0.077491  0.504920\n",
       "2016     0.379444  0.036667  0.075000  0.508889\n",
       "2018     0.332471  0.034282  0.057568  0.575679"
      ]
     },
     "execution_count": 20,
     "metadata": {},
     "output_type": "execute_result"
    }
   ],
   "source": [
    "xtab.tail()"
   ]
  },
  {
   "cell_type": "markdown",
   "metadata": {},
   "source": [
    "Now we can plot the results."
   ]
  },
  {
   "cell_type": "code",
   "execution_count": 21,
   "metadata": {},
   "outputs": [
    {
     "data": {
      "image/png": "[encoded data removed]",
      "text/plain": [
       "<Figure size 432x288 with 1 Axes>"
      ]
     },
     "metadata": {
      "needs_background": "light"
     },
     "output_type": "display_data"
    }
   ],
   "source": [
    "for response, label in zip(responses, labels):\n",
    "    xtab[response].plot(label=label)\n",
    "\n",
    "decorate(xlabel='Year',\n",
    "         ylabel='Percentage',\n",
    "         xlim=[1972, 2019],\n",
    "         title='Attitudes about same-sex relations')\n",
    "\n",
    "plt.legend();"
   ]
  },
  {
   "cell_type": "markdown",
   "metadata": {},
   "source": [
    "When you write your report, you should add a few sentences here to interpret the results you get for your variable."
   ]
  },
  {
   "cell_type": "markdown",
   "metadata": {},
   "source": [
    "## Political alignment\n",
    "\n",
    "To explore the relationship between this variable and political alignment, I'll recode political alignment into three groups:"
   ]
  },
  {
   "cell_type": "code",
   "execution_count": 22,
   "metadata": {},
   "outputs": [],
   "source": [
    "d_polviews = {1: 'Liberal', \n",
    "              2: 'Liberal', \n",
    "              3: 'Liberal', \n",
    "              4: 'Moderate', \n",
    "              5: 'Conservative', \n",
    "              6: 'Conservative', \n",
    "              7: 'Conservative'}"
   ]
  },
  {
   "cell_type": "markdown",
   "metadata": {},
   "source": [
    "I'll use `replace`, as we've seen before, and store the result as a new column in the DataFrame."
   ]
  },
  {
   "cell_type": "code",
   "execution_count": 23,
   "metadata": {},
   "outputs": [],
   "source": [
    "gss['polviews3'] = gss['polviews'].replace(d_polviews)"
   ]
  },
  {
   "cell_type": "markdown",
   "metadata": {},
   "source": [
    "With this scale, there are roughly the same number of people in each group."
   ]
  },
  {
   "cell_type": "code",
   "execution_count": 24,
   "metadata": {},
   "outputs": [
    {
     "data": {
      "text/plain": [
       "Conservative    19129\n",
       "Liberal         14979\n",
       "Moderate        21444\n",
       "Name: polviews3, dtype: int64"
      ]
     },
     "execution_count": 24,
     "metadata": {},
     "output_type": "execute_result"
    }
   ],
   "source": [
    "values(gss['polviews3'])"
   ]
  },
  {
   "cell_type": "code",
   "execution_count": 25,
   "metadata": {},
   "outputs": [
    {
     "data": {
      "image/png": "[encoded data removed]",
      "text/plain": [
       "<Figure size 432x288 with 1 Axes>"
      ]
     },
     "metadata": {
      "needs_background": "light"
     },
     "output_type": "display_data"
    }
   ],
   "source": [
    "pmf = Pmf.from_seq(gss['polviews3'])\n",
    "pmf.bar(color='C1', alpha=0.7)\n",
    "\n",
    "decorate(xlabel='Political alignment',\n",
    "         ylabel='PMF',\n",
    "         title='Distribution of political alignment')"
   ]
  },
  {
   "cell_type": "markdown",
   "metadata": {},
   "source": [
    "## Group by political alignment\n",
    "\n",
    "Now we can use `groupby` to group the respondents by political alignment."
   ]
  },
  {
   "cell_type": "code",
   "execution_count": 26,
   "metadata": {},
   "outputs": [],
   "source": [
    "by_polviews = gss.groupby('polviews3')"
   ]
  },
  {
   "cell_type": "markdown",
   "metadata": {},
   "source": [
    "Next I will plot the distribution of responses in each group.\n",
    "\n",
    "But first I'll make a dictionary that maps from each group to a color."
   ]
  },
  {
   "cell_type": "code",
   "execution_count": 27,
   "metadata": {},
   "outputs": [
    {
     "data": {
      "image/png": "[encoded data removed]",
      "text/plain": [
       "<Figure size 360x72 with 1 Axes>"
      ]
     },
     "metadata": {
      "needs_background": "light"
     },
     "output_type": "display_data"
    }
   ],
   "source": [
    "muted = sns.color_palette('muted', 5)\n",
    "sns.palplot(muted)"
   ]
  },
  {
   "cell_type": "code",
   "execution_count": 28,
   "metadata": {},
   "outputs": [],
   "source": [
    "color_map = {'Conservative': muted[3], \n",
    "              'Moderate': muted[4], \n",
    "               'Liberal': muted[0]}"
   ]
  },
  {
   "cell_type": "markdown",
   "metadata": {},
   "source": [
    "Now I'll make a PMF of responses for each group."
   ]
  },
  {
   "cell_type": "code",
   "execution_count": 29,
   "metadata": {},
   "outputs": [
    {
     "data": {
      "image/png": "[encoded data removed]",
      "text/plain": [
       "<Figure size 432x288 with 1 Axes>"
      ]
     },
     "metadata": {
      "needs_background": "light"
     },
     "output_type": "display_data"
    },
    {
     "data": {
      "image/png": "[encoded data removed]",
      "text/plain": [
       "<Figure size 432x288 with 1 Axes>"
      ]
     },
     "metadata": {
      "needs_background": "light"
     },
     "output_type": "display_data"
    },
    {
     "data": {
      "image/png": "[encoded data removed]",
      "text/plain": [
       "<Figure size 432x288 with 1 Axes>"
      ]
     },
     "metadata": {
      "needs_background": "light"
     },
     "output_type": "display_data"
    }
   ],
   "source": [
    "for name in color_map:\n",
    "    group = by_polviews.get_group(name)\n",
    "    \n",
    "    plt.figure()\n",
    "    pmf = Pmf.from_seq(group['homosex'])\n",
    "    pmf.bar(label=name, color=color_map[name], alpha=0.7)\n",
    "    \n",
    "    decorate(xlabel='Response',\n",
    "             ylabel='PMF',\n",
    "             title='Distribution of responses')\n",
    "    \n",
    "    plt.legend()"
   ]
  },
  {
   "cell_type": "markdown",
   "metadata": {},
   "source": [
    "When you write your report, you should add a few sentences here to interpret the results.\n",
    "\n",
    "But again, the results are an average over the entire interval of the survey, so you should not interpet it as a current condition."
   ]
  },
  {
   "cell_type": "markdown",
   "metadata": {},
   "source": [
    "## Recode\n",
    "\n",
    "For each group, we could compute the mean of the responses, but it would be hard to interpret. So we'll recode the variable of interest to make the mean more... meaningful.\n",
    "\n",
    "For the variable I chose, a majority of respondents chose \"always wrong\".  I'll use that as my baseline response with code 1, and lump the other responses with code 0."
   ]
  },
  {
   "cell_type": "code",
   "execution_count": 30,
   "metadata": {},
   "outputs": [],
   "source": [
    "d_recode = {1:1, 2:0, 3:0, 4:0}"
   ]
  },
  {
   "cell_type": "markdown",
   "metadata": {},
   "source": [
    "We can use `replace` to recode the values and store the result as a new column in the DataFrame."
   ]
  },
  {
   "cell_type": "code",
   "execution_count": 31,
   "metadata": {},
   "outputs": [],
   "source": [
    "gss['recoded'] = gss['homosex'].replace(d_recode)"
   ]
  },
  {
   "cell_type": "markdown",
   "metadata": {},
   "source": [
    "And we'll use `values` to check whether it worked."
   ]
  },
  {
   "cell_type": "code",
   "execution_count": 32,
   "metadata": {},
   "outputs": [
    {
     "data": {
      "text/plain": [
       "0.0    14127\n",
       "1.0    23545\n",
       "Name: recoded, dtype: int64"
      ]
     },
     "execution_count": 32,
     "metadata": {},
     "output_type": "execute_result"
    }
   ],
   "source": [
    "values(gss['recoded'])"
   ]
  },
  {
   "cell_type": "markdown",
   "metadata": {},
   "source": [
    "Now if we compute the mean, we can interpret it as \"the fraction of respondents who think same-sex sexual relations are always wrong\"."
   ]
  },
  {
   "cell_type": "code",
   "execution_count": 33,
   "metadata": {},
   "outputs": [
    {
     "data": {
      "text/plain": [
       "0.625"
      ]
     },
     "execution_count": 33,
     "metadata": {},
     "output_type": "execute_result"
    }
   ],
   "source": [
    "gss['recoded'].mean()"
   ]
  },
  {
   "cell_type": "markdown",
   "metadata": {},
   "source": [
    "## Average by group\n",
    "\n"
   ]
  },
  {
   "cell_type": "markdown",
   "metadata": {},
   "source": [
    "Now we can compute the mean of the recoded variable in each group."
   ]
  },
  {
   "cell_type": "code",
   "execution_count": 34,
   "metadata": {},
   "outputs": [
    {
     "data": {
      "text/plain": [
       "polviews3\n",
       "Conservative    0.740192\n",
       "Liberal         0.435024\n",
       "Moderate        0.629199\n",
       "Name: recoded, dtype: float32"
      ]
     },
     "execution_count": 34,
     "metadata": {},
     "output_type": "execute_result"
    }
   ],
   "source": [
    "means = by_polviews['recoded'].mean()\n",
    "means"
   ]
  },
  {
   "cell_type": "markdown",
   "metadata": {},
   "source": [
    "To get the values in a particular order, we can use the group names as an index:"
   ]
  },
  {
   "cell_type": "code",
   "execution_count": 35,
   "metadata": {},
   "outputs": [
    {
     "data": {
      "text/plain": [
       "dict_keys(['Conservative', 'Moderate', 'Liberal'])"
      ]
     },
     "execution_count": 35,
     "metadata": {},
     "output_type": "execute_result"
    }
   ],
   "source": [
    "names = color_map.keys()\n",
    "names"
   ]
  },
  {
   "cell_type": "code",
   "execution_count": 36,
   "metadata": {},
   "outputs": [
    {
     "data": {
      "text/plain": [
       "polviews3\n",
       "Conservative    0.740192\n",
       "Moderate        0.629199\n",
       "Liberal         0.435024\n",
       "Name: recoded, dtype: float32"
      ]
     },
     "execution_count": 36,
     "metadata": {},
     "output_type": "execute_result"
    }
   ],
   "source": [
    "means[names]"
   ]
  },
  {
   "cell_type": "markdown",
   "metadata": {},
   "source": [
    "Now we can make a bar plot with color-coded bars:"
   ]
  },
  {
   "cell_type": "code",
   "execution_count": 37,
   "metadata": {},
   "outputs": [
    {
     "data": {
      "image/png": "[encoded data removed]",
      "text/plain": [
       "<Figure size 432x288 with 1 Axes>"
      ]
     },
     "metadata": {
      "needs_background": "light"
     },
     "output_type": "display_data"
    }
   ],
   "source": [
    "colors = color_map.values()\n",
    "\n",
    "means[names].plot(kind='bar', color=colors, alpha=0.7)\n",
    "\n",
    "decorate(xlabel='Political alignment',\n",
    "         ylabel='Fraction saying yes',\n",
    "         title='Are same-sex sexual relations always wrong?')\n",
    "\n",
    "plt.xticks(rotation='30');"
   ]
  },
  {
   "cell_type": "markdown",
   "metadata": {},
   "source": [
    "When you write your report, you should add a few sentences here to interpret the results you get for your variable."
   ]
  },
  {
   "cell_type": "markdown",
   "metadata": {},
   "source": [
    "## Time series\n",
    "\n",
    "As we saw in previous notebooks, we can use `groupby` to group responses by year."
   ]
  },
  {
   "cell_type": "code",
   "execution_count": 38,
   "metadata": {},
   "outputs": [],
   "source": [
    "by_year = gss.groupby('year')"
   ]
  },
  {
   "cell_type": "markdown",
   "metadata": {},
   "source": [
    "From the result we can select the recoded variable and compute the mean."
   ]
  },
  {
   "cell_type": "code",
   "execution_count": 39,
   "metadata": {},
   "outputs": [],
   "source": [
    "time_series = by_year['recoded'].mean()"
   ]
  },
  {
   "cell_type": "markdown",
   "metadata": {},
   "source": [
    "And we can plot the results with the data points themselves as circles and a local regression model as a line."
   ]
  },
  {
   "cell_type": "code",
   "execution_count": 40,
   "metadata": {},
   "outputs": [
    {
     "data": {
      "image/png": "[encoded data removed]",
      "text/plain": [
       "<Figure size 432x288 with 1 Axes>"
      ]
     },
     "metadata": {
      "needs_background": "light"
     },
     "output_type": "display_data"
    }
   ],
   "source": [
    "plot_series_lowess(time_series, 'C1')\n",
    "\n",
    "decorate(xlabel='Year',\n",
    "         ylabel='Fraction saying yes',\n",
    "         xlim=[1970, 2020],\n",
    "         title='Are same-sex sexual relations always wrong?')"
   ]
  },
  {
   "cell_type": "markdown",
   "metadata": {},
   "source": [
    "Again, you should add some text here to interpret the results you get for your variable."
   ]
  },
  {
   "cell_type": "markdown",
   "metadata": {},
   "source": [
    "## Time series by group\n",
    "\n",
    "So far, we have grouped by `polviews3` and computed the mean of the variable of interest in each group.\n",
    "\n",
    "Then we grouped by `year` and computed the mean for each year.\n",
    "\n",
    "Now we'll use `pivot_table` to compute the mean in each group for each year."
   ]
  },
  {
   "cell_type": "code",
   "execution_count": 41,
   "metadata": {},
   "outputs": [],
   "source": [
    "table = gss.pivot_table(values='recoded', \n",
    "                        index='year', \n",
    "                        columns='polviews3', \n",
    "                        aggfunc='mean')"
   ]
  },
  {
   "cell_type": "markdown",
   "metadata": {},
   "source": [
    "The result is a table that has years running down the rows and political alignment running across the columns.\n",
    "\n",
    "Each entry in the table is the mean of the variable of interest for a given group in a given year."
   ]
  },
  {
   "cell_type": "code",
   "execution_count": 42,
   "metadata": {},
   "outputs": [
    {
     "data": {
      "text/html": [
       "<div>\n",
       "<style scoped>\n",
       "    .dataframe tbody tr th:only-of-type {\n",
       "        vertical-align: middle;\n",
       "    }\n",
       "\n",
       "    .dataframe tbody tr th {\n",
       "        vertical-align: top;\n",
       "    }\n",
       "\n",
       "    .dataframe thead th {\n",
       "        text-align: right;\n",
       "    }\n",
       "</style>\n",
       "<table border=\"1\" class=\"dataframe\">\n",
       "  <thead>\n",
       "    <tr style=\"text-align: right;\">\n",
       "      <th>polviews3</th>\n",
       "      <th>Conservative</th>\n",
       "      <th>Liberal</th>\n",
       "      <th>Moderate</th>\n",
       "    </tr>\n",
       "    <tr>\n",
       "      <th>year</th>\n",
       "      <th></th>\n",
       "      <th></th>\n",
       "      <th></th>\n",
       "    </tr>\n",
       "  </thead>\n",
       "  <tbody>\n",
       "    <tr>\n",
       "      <th>1974</th>\n",
       "      <td>0.825758</td>\n",
       "      <td>0.584577</td>\n",
       "      <td>0.790837</td>\n",
       "    </tr>\n",
       "    <tr>\n",
       "      <th>1976</th>\n",
       "      <td>0.775000</td>\n",
       "      <td>0.489848</td>\n",
       "      <td>0.716698</td>\n",
       "    </tr>\n",
       "    <tr>\n",
       "      <th>1977</th>\n",
       "      <td>0.823666</td>\n",
       "      <td>0.564165</td>\n",
       "      <td>0.769772</td>\n",
       "    </tr>\n",
       "    <tr>\n",
       "      <th>1980</th>\n",
       "      <td>0.834906</td>\n",
       "      <td>0.539130</td>\n",
       "      <td>0.740171</td>\n",
       "    </tr>\n",
       "    <tr>\n",
       "      <th>1982</th>\n",
       "      <td>0.801126</td>\n",
       "      <td>0.599198</td>\n",
       "      <td>0.811820</td>\n",
       "    </tr>\n",
       "  </tbody>\n",
       "</table>\n",
       "</div>"
      ],
      "text/plain": [
       "polviews3  Conservative   Liberal  Moderate\n",
       "year                                       \n",
       "1974           0.825758  0.584577  0.790837\n",
       "1976           0.775000  0.489848  0.716698\n",
       "1977           0.823666  0.564165  0.769772\n",
       "1980           0.834906  0.539130  0.740171\n",
       "1982           0.801126  0.599198  0.811820"
      ]
     },
     "execution_count": 42,
     "metadata": {},
     "output_type": "execute_result"
    }
   ],
   "source": [
    "table.head()"
   ]
  },
  {
   "cell_type": "markdown",
   "metadata": {},
   "source": [
    "## Plotting the results"
   ]
  },
  {
   "cell_type": "markdown",
   "metadata": {},
   "source": [
    "Now we can use `plot_columns_lowess` to see the results."
   ]
  },
  {
   "cell_type": "code",
   "execution_count": 43,
   "metadata": {},
   "outputs": [],
   "source": [
    "columns = ['Conservative', 'Moderate', 'Liberal']"
   ]
  },
  {
   "cell_type": "code",
   "execution_count": 47,
   "metadata": {},
   "outputs": [
    {
     "data": {
      "image/png": "[encoded data removed]",
      "text/plain": [
       "<Figure size 432x288 with 1 Axes>"
      ]
     },
     "metadata": {
      "needs_background": "light"
     },
     "output_type": "display_data"
    }
   ],
   "source": [
    "plot_columns_lowess(table, columns, color_map)\n",
    "\n",
    "decorate(xlabel='Year',\n",
    "         ylabel='Fraction saying yes',\n",
    "         xlim=[1970, 2020],\n",
    "         title='Are same-sex sexual relations always wrong?')\n",
    "\n",
    "plt.legend();"
   ]
  },
  {
   "cell_type": "markdown",
   "metadata": {},
   "source": [
    "You should write a few sentences here to interpret the results."
   ]
  },
  {
   "cell_type": "markdown",
   "metadata": {},
   "source": [
    "## Resampling\n",
    "\n",
    "The figures we have generated so far in this notebook are based on a single resampling of the GSS data.  Some of the features we see in these figures might be due to random sampling rather than actual changes in the world.\n",
    "\n",
    "By generating the same figures with different resampled datasets, we can get a sense of how much variation there is due to random sampling.\n",
    "\n",
    "To make that easier, the following function contains the code from the previous analysis all in one place.\n",
    "\n",
    "You will probably have to update this function with any changes you made in my code."
   ]
  },
  {
   "cell_type": "code",
   "execution_count": 45,
   "metadata": {},
   "outputs": [],
   "source": [
    "def plot_by_polviews(gss):\n",
    "    \"\"\"Plot mean response by polviews and year.\n",
    "    \n",
    "    gss: DataFrame\n",
    "    \"\"\"\n",
    "    gss['polviews3'] = gss['polviews'].replace(d_polviews)\n",
    "    gss['recoded'] = gss['homosex'].replace(d_recode)\n",
    "    \n",
    "    table = gss.pivot_table(values='recoded', \n",
    "                        index='year', \n",
    "                        columns='polviews3', \n",
    "                        aggfunc='mean')\n",
    "\n",
    "    plot_columns_lowess(table, columns, color_map)\n",
    "\n",
    "    decorate(xlabel='Year',\n",
    "             ylabel='Fraction saying yes',\n",
    "             xlim=[1970, 2020],\n",
    "             title='Are same-sex relations always wrong?')"
   ]
  },
  {
   "cell_type": "markdown",
   "metadata": {},
   "source": [
    "Now we can loop through the three resampled datasets in the HDF5 file and generate a figure for each one."
   ]
  },
  {
   "cell_type": "code",
   "execution_count": 46,
   "metadata": {},
   "outputs": [
    {
     "data": {
      "image/png": "[encoded data removed]",
      "text/plain": [
       "<Figure size 432x288 with 1 Axes>"
      ]
     },
     "metadata": {
      "needs_background": "light"
     },
     "output_type": "display_data"
    },
    {
     "data": {
      "image/png": "[encoded data removed]",
      "text/plain": [
       "<Figure size 432x288 with 1 Axes>"
      ]
     },
     "metadata": {
      "needs_background": "light"
     },
     "output_type": "display_data"
    },
    {
     "data": {
      "image/png": "[encoded data removed]",
      "text/plain": [
       "<Figure size 432x288 with 1 Axes>"
      ]
     },
     "metadata": {
      "needs_background": "light"
     },
     "output_type": "display_data"
    }
   ],
   "source": [
    "for key in ['gss0', 'gss1', 'gss2']:\n",
    "    df = pd.read_hdf('gss_eda.3.hdf5', key)\n",
    "\n",
    "    plt.figure()\n",
    "    plot_by_polviews(df)"
   ]
  },
  {
   "cell_type": "markdown",
   "metadata": {},
   "source": [
    "You should review your interpretation in the previous section to see how it holds up to resampling.  If you see an effect that is consistent in all three figures, it is less likely to be an artifact of random sampling.\n",
    "\n",
    "If it varies from one resampling to the next, you should probably not take it too seriously."
   ]
  },
  {
   "cell_type": "markdown",
   "metadata": {},
   "source": [
    "## Publishing your report\n",
    "\n",
    "If you would like to publish your results as a report, here's how:\n",
    "\n",
    "0) Make sure you have saved your modified version of this notebook with an appropriate file name.\n",
    "\n",
    "1) Write your report by filling in the template below.\n",
    "\n",
    "2) Move your filled-in template to the top of the notebook.\n",
    "\n",
    "3) Hide or delete the cells a reader does not need to see.\n",
    "\n",
    "4) If you are running on Colab, use the Share button in the upper right to get a link you can share.\n",
    "\n",
    "5) Share the link with anyone who might be interested in your report.\n",
    "\n",
    "If you would like your report to be included in my collection, and possibly published on my blog, you can [use this form to submit it](https://forms.gle/ak3srpQM5qsMwRbA8).\n",
    "\n",
    "As an example, I wrote up [the results from this notebook in a blog article](https://www.allendowney.com/blog/2019/12/03/political-alignment-and-beliefs-about-homosexuality/)."
   ]
  },
  {
   "cell_type": "markdown",
   "metadata": {},
   "source": [
    "(This is the report template: Fill in the information below, then delete everything in parentheses.)\n",
    "\n",
    "## Headline that summarizes your results\n",
    "\n",
    "By (Put your name here)\n",
    "\n",
    "(Today's date)\n",
    "\n",
    "(Write a sentence or two that summarizes what you found.  Maybe include a few numbers, rounded off to about 2 significant digits.)\n",
    "\n",
    "(Explain where the variable you chose to explore, what years it covers, and the number of respondents)\n",
    "\n",
    "(Explain the methodology)\n",
    "\n",
    "(Present 1-2 figures that show your results)\n",
    "\n",
    "(Interpret the figures for the reader)\n",
    "\n",
    "(Having seen these results, what other questions are raised?)\n",
    "\n",
    "(Include the following text, which attributes the source of this material)\n",
    "\n",
    "This is a modified version of a notebook by Allen Downey, [available here](https://github.com/AllenDowney/PoliticalAlignmentCaseStudy) under the [MIT License](https://en.wikipedia.org/wiki/MIT_License).\n",
    "\n",
    "(If you agree to make your modified version available under the MIT license, you should include the following text.)\n",
    "\n",
    "This modified version is also under the [MIT License](https://en.wikipedia.org/wiki/MIT_License)."
   ]
  },
  {
   "cell_type": "code",
   "execution_count": null,
   "metadata": {},
   "outputs": [],
   "source": []
  }
 ],
 "metadata": {
  "kernelspec": {
   "display_name": "Python 3",
   "language": "python",
   "name": "python3"
  },
  "language_info": {
   "codemirror_mode": {
    "name": "ipython",
    "version": 3
   },
   "file_extension": ".py",
   "mimetype": "text/x-python",
   "name": "python",
   "nbconvert_exporter": "python",
   "pygments_lexer": "ipython3",
   "version": "3.7.6"
  }
 },
 "nbformat": 4,
 "nbformat_minor": 4
}
