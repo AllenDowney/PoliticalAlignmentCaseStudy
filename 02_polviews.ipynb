{
 "cells": [
  {
   "cell_type": "markdown",
   "metadata": {},
   "source": [
    "# Political Views"
   ]
  },
  {
   "cell_type": "markdown",
   "metadata": {
    "tags": [
     "remove-print"
    ]
   },
   "source": [
    "This is the second in a series of notebooks that make up a [case study in exploratory data analysis](https://allendowney.github.io/PoliticalAlignmentCaseStudy/).\n",
    "This case study is part of the [*Elements of Data Science*](https://allendowney.github.io/ElementsOfDataScience/) curriculum."
   ]
  },
  {
   "cell_type": "markdown",
   "metadata": {},
   "source": [
    "This case study explores the relationship between political alignment (conservative, moderate, or liberal) and other attitudes and beliefs.\n",
    "\n",
    "In this chapter, we:\n",
    "\n",
    "1. Explore data from the General Social Survey (GSS), starting with political alignment.\n",
    "\n",
    "2. Compare the distribution of responses in 1974 and 1990.\n",
    "\n",
    "3. Plot the mean and standard deviation of responses over time as a way of quantifying shifts in political alignment and polarization.\n",
    "\n",
    "4. Use local regression to plot a smooth line through noisy data.\n",
    "\n",
    "5. Use cross tabulation to compute the fraction of respondents in each category over time.\n",
    "\n",
    "6. Plot the results using a custom color palette.\n",
    "\n",
    "As an exercise, you will look at changes in political party affiliation over the same period."
   ]
  },
  {
   "cell_type": "markdown",
   "metadata": {
    "tags": [
     "remove-cell"
    ]
   },
   "source": [
    "The following cell installs the `empiricaldist` library if necessary."
   ]
  },
  {
   "cell_type": "code",
   "execution_count": 1,
   "metadata": {
    "tags": [
     "remove-cell"
    ]
   },
   "outputs": [],
   "source": [
    "try:\n",
    "    import empiricaldist\n",
    "except ImportError:\n",
    "    !pip install empiricaldist"
   ]
  },
  {
   "cell_type": "markdown",
   "metadata": {
    "tags": [
     "remove-cell"
    ]
   },
   "source": [
    "If everything we need is installed, the following cell should run without error."
   ]
  },
  {
   "cell_type": "code",
   "execution_count": 2,
   "metadata": {
    "tags": [
     "remove-cell"
    ]
   },
   "outputs": [],
   "source": [
    "import pandas as pd\n",
    "import numpy as np\n",
    "import matplotlib.pyplot as plt\n",
    "import seaborn as sns\n",
    "\n",
    "from empiricaldist import Pmf"
   ]
  },
  {
   "cell_type": "markdown",
   "metadata": {
    "tags": [
     "remove-print"
    ]
   },
   "source": [
    "## Loading the data\n",
    "\n",
    "In the previous notebook, we downloaded GSS data, loaded and cleaned it, resampled it to correct for stratified sampling, and then saved the data in an HDF file, which is much faster to load.  In this and the following notebooks, we'll download the HDF file and load it."
   ]
  },
  {
   "cell_type": "markdown",
   "metadata": {
    "tags": [
     "remove-cell"
    ]
   },
   "source": [
    "The following cell downloads the file if necessary."
   ]
  },
  {
   "cell_type": "code",
   "execution_count": 3,
   "metadata": {
    "tags": [
     "remove-cell"
    ]
   },
   "outputs": [],
   "source": [
    "from os.path import basename, exists\n",
    "\n",
    "def download(url):\n",
    "    filename = basename(url)\n",
    "    if not exists(filename):\n",
    "        from urllib.request import urlretrieve\n",
    "        local, _ = urlretrieve(url, filename)\n",
    "        print('Downloaded ' + local)\n",
    "\n",
    "download('https://github.com/AllenDowney/PoliticalAlignmentCaseStudy/' +\n",
    "         'raw/update2021/gss_eds.3.hdf5')"
   ]
  },
  {
   "cell_type": "markdown",
   "metadata": {},
   "source": [
    "I've created an HDF file that contains three `DataFrame` objects with resampled GSS data.  We'll work with the first resampling, `gss0`, to get started."
   ]
  },
  {
   "cell_type": "code",
   "execution_count": 4,
   "metadata": {},
   "outputs": [
    {
     "data": {
      "text/plain": [
       "(68846, 204)"
      ]
     },
     "execution_count": 4,
     "metadata": {},
     "output_type": "execute_result"
    }
   ],
   "source": [
    "datafile = 'gss_eds.3.hdf5'\n",
    "gss = pd.read_hdf(datafile, 'gss0')\n",
    "gss.shape"
   ]
  },
  {
   "cell_type": "markdown",
   "metadata": {},
   "source": [
    "## Political alignment\n",
    "\n",
    "The people surveyed as part of the GSS were asked about their \"political alignment\", which is where they place themselves on a spectrum from liberal to conservative.\n",
    "\n",
    "The variable `polviews` contains responses to the following question (see <https://gssdataexplorer.norc.org/projects/52787/variables/178/vshow>):\n",
    "\n",
    "> We hear a lot of talk these days about liberals and conservatives. \n",
    "I'm going to show you a seven-point scale on which the political views that people might hold are arranged from extremely liberal--point 1--to extremely conservative--point 7. Where would you place yourself on this scale?"
   ]
  },
  {
   "cell_type": "markdown",
   "metadata": {},
   "source": [
    "Here are the valid responses:\n",
    "\n",
    "```\n",
    "1\tExtremely liberal\n",
    "2\tLiberal\n",
    "3\tSlightly liberal\n",
    "4\tModerate\n",
    "5\tSlightly conservative\n",
    "6\tConservative\n",
    "7\tExtremely conservative\n",
    "```\n",
    "\n",
    "To see how the responses have changed over time, we'll inspect them at the beginning and end of the observation period.\n",
    "First I'll select the column."
   ]
  },
  {
   "cell_type": "code",
   "execution_count": 5,
   "metadata": {},
   "outputs": [],
   "source": [
    "polviews = gss['polviews']"
   ]
  },
  {
   "cell_type": "markdown",
   "metadata": {},
   "source": [
    "Then compute a Boolean Series that's `True` for responses from 1974."
   ]
  },
  {
   "cell_type": "code",
   "execution_count": 6,
   "metadata": {},
   "outputs": [],
   "source": [
    "year74 = (gss['year'] == 1974)"
   ]
  },
  {
   "cell_type": "markdown",
   "metadata": {},
   "source": [
    "Now we can select the responses from 1974."
   ]
  },
  {
   "cell_type": "code",
   "execution_count": 7,
   "metadata": {},
   "outputs": [],
   "source": [
    "polviews74 = polviews[year74]"
   ]
  },
  {
   "cell_type": "markdown",
   "metadata": {},
   "source": [
    "We'll use the following function to count the number of times each response occurs."
   ]
  },
  {
   "cell_type": "code",
   "execution_count": 8,
   "metadata": {},
   "outputs": [],
   "source": [
    "def values(series):\n",
    "    \"\"\"Count the values and sort.\n",
    "    \n",
    "    series: pd.Series\n",
    "    \n",
    "    returns: series mapping from values to frequencies\n",
    "    \"\"\"\n",
    "    return series.value_counts().sort_index()"
   ]
  },
  {
   "cell_type": "markdown",
   "metadata": {},
   "source": [
    "Here are the responses from 1974."
   ]
  },
  {
   "cell_type": "code",
   "execution_count": 9,
   "metadata": {},
   "outputs": [
    {
     "data": {
      "text/plain": [
       "1.0     31\n",
       "2.0    201\n",
       "3.0    211\n",
       "4.0    538\n",
       "5.0    223\n",
       "6.0    181\n",
       "7.0     30\n",
       "Name: polviews, dtype: int64"
      ]
     },
     "execution_count": 9,
     "metadata": {},
     "output_type": "execute_result"
    }
   ],
   "source": [
    "values(polviews74)"
   ]
  },
  {
   "cell_type": "markdown",
   "metadata": {},
   "source": [
    "And here are the responses from 2021."
   ]
  },
  {
   "cell_type": "code",
   "execution_count": 10,
   "metadata": {},
   "outputs": [
    {
     "data": {
      "text/plain": [
       "1.0     212\n",
       "2.0     577\n",
       "3.0     427\n",
       "4.0    1506\n",
       "5.0     480\n",
       "6.0     569\n",
       "7.0     181\n",
       "Name: polviews, dtype: int64"
      ]
     },
     "execution_count": 10,
     "metadata": {},
     "output_type": "execute_result"
    }
   ],
   "source": [
    "year21 = (gss['year'] == 2021)\n",
    "polviews21 = polviews[year21]\n",
    "values(polviews21)"
   ]
  },
  {
   "cell_type": "markdown",
   "metadata": {},
   "source": [
    "## PMFs\n",
    "\n",
    "To visualize these distributions, we'll use a Probability Mass Function (PMF), which is similar to a histogram, but there are two differences:\n",
    "\n",
    "* In a histogram, values are often put in bins, with more than one value in each bin. In a PMF each value gets its own bin.\n",
    "\n",
    "* A histogram computes a count, that is, how many times each value appears; a PMF computes a probability, that is, what fraction of the time each value appears. \n",
    "\n",
    "I'll use the `Pmf` class from `empiricaldist` to compute a PMF."
   ]
  },
  {
   "cell_type": "code",
   "execution_count": 11,
   "metadata": {},
   "outputs": [
    {
     "data": {
      "text/html": [
       "<div>\n",
       "<style scoped>\n",
       "    .dataframe tbody tr th:only-of-type {\n",
       "        vertical-align: middle;\n",
       "    }\n",
       "\n",
       "    .dataframe tbody tr th {\n",
       "        vertical-align: top;\n",
       "    }\n",
       "\n",
       "    .dataframe thead th {\n",
       "        text-align: right;\n",
       "    }\n",
       "</style>\n",
       "<table border=\"1\" class=\"dataframe\">\n",
       "  <thead>\n",
       "    <tr style=\"text-align: right;\">\n",
       "      <th></th>\n",
       "      <th>probs</th>\n",
       "    </tr>\n",
       "  </thead>\n",
       "  <tbody>\n",
       "    <tr>\n",
       "      <th>1.0</th>\n",
       "      <td>0.021908</td>\n",
       "    </tr>\n",
       "    <tr>\n",
       "      <th>2.0</th>\n",
       "      <td>0.142049</td>\n",
       "    </tr>\n",
       "    <tr>\n",
       "      <th>3.0</th>\n",
       "      <td>0.149117</td>\n",
       "    </tr>\n",
       "    <tr>\n",
       "      <th>4.0</th>\n",
       "      <td>0.380212</td>\n",
       "    </tr>\n",
       "    <tr>\n",
       "      <th>5.0</th>\n",
       "      <td>0.157597</td>\n",
       "    </tr>\n",
       "    <tr>\n",
       "      <th>6.0</th>\n",
       "      <td>0.127915</td>\n",
       "    </tr>\n",
       "    <tr>\n",
       "      <th>7.0</th>\n",
       "      <td>0.021201</td>\n",
       "    </tr>\n",
       "  </tbody>\n",
       "</table>\n",
       "</div>"
      ],
      "text/plain": [
       "1.0    0.021908\n",
       "2.0    0.142049\n",
       "3.0    0.149117\n",
       "4.0    0.380212\n",
       "5.0    0.157597\n",
       "6.0    0.127915\n",
       "7.0    0.021201\n",
       "Name: polviews, dtype: float64"
      ]
     },
     "execution_count": 11,
     "metadata": {},
     "output_type": "execute_result"
    }
   ],
   "source": [
    "from empiricaldist import Pmf\n",
    "\n",
    "pmf74 = Pmf.from_seq(polviews74)\n",
    "pmf74"
   ]
  },
  {
   "cell_type": "markdown",
   "metadata": {
    "tags": [
     "remove-cell"
    ]
   },
   "source": [
    "The following cell defines a function I use to decorate the axes in plots."
   ]
  },
  {
   "cell_type": "code",
   "execution_count": 12,
   "metadata": {
    "tags": [
     "remove-cell"
    ]
   },
   "outputs": [],
   "source": [
    "def decorate(**options):\n",
    "    \"\"\"Decorate the current axes.\n",
    "    \n",
    "    Call decorate with keyword arguments like\n",
    "    decorate(title='Title',\n",
    "             xlabel='x',\n",
    "             ylabel='y')\n",
    "             \n",
    "    The keyword arguments can be any of the axis properties\n",
    "    https://matplotlib.org/api/axes_api.html\n",
    "    \"\"\"\n",
    "    ax = plt.gca()\n",
    "    ax.set(**options)\n",
    "    \n",
    "    handles, labels = ax.get_legend_handles_labels()\n",
    "    if handles:\n",
    "        ax.legend(handles, labels)\n",
    "\n",
    "    plt.tight_layout()"
   ]
  },
  {
   "cell_type": "markdown",
   "metadata": {},
   "source": [
    "Here's the distribution from 1974:"
   ]
  },
  {
   "cell_type": "code",
   "execution_count": 13,
   "metadata": {},
   "outputs": [
    {
     "data": {
      "image/png": "[encoded data removed]",
      "text/plain": [
       "<Figure size 432x288 with 1 Axes>"
      ]
     },
     "metadata": {
      "needs_background": "light"
     },
     "output_type": "display_data"
    }
   ],
   "source": [
    "pmf74.bar(label='1974', color='C0', alpha=0.7)\n",
    "\n",
    "decorate(xlabel='Political view on a 7-point scale',\n",
    "         ylabel='Fraction of population',\n",
    "         title='Distribution of political views')"
   ]
  },
  {
   "cell_type": "markdown",
   "metadata": {},
   "source": [
    "And from 2021:"
   ]
  },
  {
   "cell_type": "code",
   "execution_count": 14,
   "metadata": {},
   "outputs": [
    {
     "data": {
      "image/png": "[encoded data removed]",
      "text/plain": [
       "<Figure size 432x288 with 1 Axes>"
      ]
     },
     "metadata": {
      "needs_background": "light"
     },
     "output_type": "display_data"
    }
   ],
   "source": [
    "pmf21 = Pmf.from_seq(polviews21)\n",
    "pmf21.bar(label='2021', color='C1', alpha=0.7)\n",
    "\n",
    "decorate(xlabel='Political view on a 7-point scale',\n",
    "         ylabel='Fraction of population',\n",
    "         title='Distribution of political views')"
   ]
  },
  {
   "cell_type": "markdown",
   "metadata": {},
   "source": [
    "In both cases, the most common response is `4`, which is the code for \"moderate\".  Few respondents describe themselves as \"extremely\" liberal or conservative.\n",
    "So maybe we're not so polarized after all."
   ]
  },
  {
   "cell_type": "markdown",
   "metadata": {
    "tags": [
     "remove-print"
    ]
   },
   "source": [
    "To make it easier to compare the distributions, I'll plot them side by side.  "
   ]
  },
  {
   "cell_type": "code",
   "execution_count": 15,
   "metadata": {
    "tags": [
     "remove-print"
    ]
   },
   "outputs": [
    {
     "data": {
      "image/png": "[encoded data removed]",
      "text/plain": [
       "<Figure size 432x288 with 1 Axes>"
      ]
     },
     "metadata": {
      "needs_background": "light"
     },
     "output_type": "display_data"
    }
   ],
   "source": [
    "pmf74.bar(label='1974', width=-0.45, align='edge', alpha=0.7)\n",
    "\n",
    "pmf21.bar(label='2021', width=0.45, align='edge', alpha=0.7)\n",
    "\n",
    "decorate(xlabel='Political view on a 7-point scale',\n",
    "         ylabel='Fraction of population',\n",
    "         title='Distribution of political views')"
   ]
  },
  {
   "cell_type": "markdown",
   "metadata": {
    "tags": [
     "remove-print"
    ]
   },
   "source": [
    "Now we can see the changes in the distribution more clearly.  It looks like the number of people at the extremes (1 and 7) has increased, and the fraction of slightly liberal (3) and slightly conservative (5) has decreased."
   ]
  },
  {
   "cell_type": "markdown",
   "metadata": {},
   "source": [
    "**Exercise:** To summarize these changes, we can compare the mean and standard deviation of `polviews` in 1974 and 2021.\n",
    "\n",
    "The mean of the responses measures the balance of people in the population with liberal or conservative leanings.  If the mean increases over time, that might indicate a shift in the population toward conservatism.\n",
    "\n",
    "The standard deviation measures the dispersion of views in the population; if it increases over time, that might indicate an increase in polarization.\n",
    "\n",
    "Compute the mean and standard deviation of `polviews74` and `polviews21`.\n",
    "\n",
    "What do they indicate about changes over this interval?"
   ]
  },
  {
   "cell_type": "code",
   "execution_count": 16,
   "metadata": {},
   "outputs": [],
   "source": [
    "# Solution goes here"
   ]
  },
  {
   "cell_type": "code",
   "execution_count": 17,
   "metadata": {},
   "outputs": [],
   "source": [
    "# Solution goes here"
   ]
  },
  {
   "cell_type": "code",
   "execution_count": 18,
   "metadata": {},
   "outputs": [],
   "source": [
    "# Solution goes here"
   ]
  },
  {
   "cell_type": "markdown",
   "metadata": {},
   "source": [
    "## Time Series\n",
    "\n",
    "At this point we have looked at the endpoints, 1974 and 2021, but we don't know what happened in between.\n",
    "To see how the distribution changes over time, we can group by year and compute the mean of `polviews` during each year.\n",
    "First I'll use `groupby` to group the respondents by year."
   ]
  },
  {
   "cell_type": "code",
   "execution_count": 19,
   "metadata": {},
   "outputs": [
    {
     "data": {
      "text/plain": [
       "<pandas.core.groupby.generic.DataFrameGroupBy object at 0x7fb61dd3b210>"
      ]
     },
     "execution_count": 19,
     "metadata": {},
     "output_type": "execute_result"
    }
   ],
   "source": [
    "gss_by_year = gss.groupby('year')\n",
    "gss_by_year"
   ]
  },
  {
   "cell_type": "markdown",
   "metadata": {},
   "source": [
    "The result is a `DataFrameGroupBy` object that represents a collection of groups."
   ]
  },
  {
   "cell_type": "markdown",
   "metadata": {
    "tags": [
     "remove-print"
    ]
   },
   "source": [
    "We can loop through the groups and display the number of respondents in each:"
   ]
  },
  {
   "cell_type": "code",
   "execution_count": 20,
   "metadata": {
    "tags": [
     "remove-print"
    ]
   },
   "outputs": [
    {
     "name": "stdout",
     "output_type": "stream",
     "text": [
      "1972 1613\n",
      "1973 1504\n",
      "1974 1484\n",
      "1975 1490\n",
      "1976 1499\n",
      "1977 1530\n",
      "1978 1532\n",
      "1980 1468\n",
      "1982 1860\n",
      "1983 1599\n",
      "1984 1473\n",
      "1985 1534\n",
      "1986 1470\n",
      "1987 1819\n",
      "1988 1481\n",
      "1989 1537\n",
      "1990 1372\n",
      "1991 1517\n",
      "1993 1606\n",
      "1994 2992\n",
      "1996 2904\n",
      "1998 2832\n",
      "2000 2817\n",
      "2002 2765\n",
      "2004 2812\n",
      "2006 4510\n",
      "2008 2023\n",
      "2010 2044\n",
      "2012 1974\n",
      "2014 2538\n",
      "2016 2867\n",
      "2018 2348\n",
      "2021 4032\n"
     ]
    }
   ],
   "source": [
    "for year, group in gss_by_year:\n",
    "    print(year, len(group))"
   ]
  },
  {
   "cell_type": "markdown",
   "metadata": {},
   "source": [
    "In many ways the `DataFrameGroupBy` behaves like a `DataFrame`.  We can use the bracket operator to select a column: "
   ]
  },
  {
   "cell_type": "code",
   "execution_count": 21,
   "metadata": {},
   "outputs": [
    {
     "data": {
      "text/plain": [
       "<pandas.core.groupby.generic.SeriesGroupBy object at 0x7fb61dd3b5d0>"
      ]
     },
     "execution_count": 21,
     "metadata": {},
     "output_type": "execute_result"
    }
   ],
   "source": [
    "polviews_by_year = gss_by_year['polviews']\n",
    "polviews_by_year"
   ]
  },
  {
   "cell_type": "markdown",
   "metadata": {},
   "source": [
    "A column from a `DataFrameGroupBy` is a `SeriesGroupBy`.  If we invoke `mean` on it, the results is a series that contains the mean of `polviews` for each year of the survey."
   ]
  },
  {
   "cell_type": "code",
   "execution_count": 22,
   "metadata": {},
   "outputs": [],
   "source": [
    "mean_series = polviews_by_year.mean()"
   ]
  },
  {
   "cell_type": "markdown",
   "metadata": {},
   "source": [
    "And here's what it looks like."
   ]
  },
  {
   "cell_type": "code",
   "execution_count": 23,
   "metadata": {},
   "outputs": [
    {
     "data": {
      "image/png": "[encoded data removed]",
      "text/plain": [
       "<Figure size 432x288 with 1 Axes>"
      ]
     },
     "metadata": {
      "needs_background": "light"
     },
     "output_type": "display_data"
    }
   ],
   "source": [
    "mean_series.plot(color='C2', label='polviews')\n",
    "decorate(xlabel='Year', \n",
    "         ylabel='Mean (7 point scale)',\n",
    "         title='Mean of polviews')"
   ]
  },
  {
   "cell_type": "markdown",
   "metadata": {},
   "source": [
    "**Exercise:** The standard deviation quantifies the spread of the distribution, which is one way to measure polarization.\n",
    "Plot standard deviation of `polviews` for each year of the survey from 1972 to 2021.\n",
    "Does it show evidence of increasing polarization?"
   ]
  },
  {
   "cell_type": "code",
   "execution_count": 24,
   "metadata": {},
   "outputs": [],
   "source": [
    "# Solution goes here"
   ]
  },
  {
   "cell_type": "markdown",
   "metadata": {},
   "source": [
    "## Local Regression\n",
    "\n",
    "In the previous section we plotted mean and standard deviation of `polviews` over time.  Both plots are quite noisy.\n",
    "We can use **local regression** to compute a smooth line through these data points (see <https://en.wikipedia.org/wiki/Local_regression>).  \n",
    "\n",
    "The following function takes a Pandas Series and uses an algorithm called LOWESS to compute a smooth line.  LOWESS stands for \"locally weighted scatterplot smoothing\"."
   ]
  },
  {
   "cell_type": "code",
   "execution_count": 25,
   "metadata": {},
   "outputs": [],
   "source": [
    "from statsmodels.nonparametric.smoothers_lowess import lowess\n",
    "\n",
    "def make_lowess(series):\n",
    "    \"\"\"Use LOWESS to compute a smooth line.\n",
    "    \n",
    "    series: pd.Series\n",
    "    \n",
    "    returns: pd.Series\n",
    "    \"\"\"\n",
    "    y = series.values\n",
    "    x = series.index.values\n",
    "\n",
    "    smooth = lowess(y, x)\n",
    "    index, data = np.transpose(smooth)\n",
    "\n",
    "    return pd.Series(data, index=index) "
   ]
  },
  {
   "cell_type": "markdown",
   "metadata": {},
   "source": [
    "We'll use the following function to plot data points and the smoothed line."
   ]
  },
  {
   "cell_type": "code",
   "execution_count": 26,
   "metadata": {},
   "outputs": [],
   "source": [
    "def plot_series_lowess(series, color):\n",
    "    \"\"\"Plots a series of data points and a smooth line.\n",
    "    \n",
    "    series: pd.Series\n",
    "    color: string or tuple\n",
    "    \"\"\"\n",
    "    series.plot(linewidth=0, marker='o', color=color, alpha=0.5)\n",
    "    smooth = make_lowess(series)\n",
    "    smooth.plot(label='', color=color)"
   ]
  },
  {
   "cell_type": "markdown",
   "metadata": {},
   "source": [
    "The following figure shows the mean of `polviews` and a smooth line."
   ]
  },
  {
   "cell_type": "code",
   "execution_count": 27,
   "metadata": {},
   "outputs": [
    {
     "data": {
      "image/png": "[encoded data removed]",
      "text/plain": [
       "<Figure size 432x288 with 1 Axes>"
      ]
     },
     "metadata": {
      "needs_background": "light"
     },
     "output_type": "display_data"
    }
   ],
   "source": [
    "mean_series = gss_by_year['polviews'].mean()\n",
    "plot_series_lowess(mean_series, 'C2')\n",
    "decorate(ylabel='Mean (7 point scale)',\n",
    "         title='Mean of polviews',\n",
    "         xlabel='Year')"
   ]
  },
  {
   "cell_type": "markdown",
   "metadata": {},
   "source": [
    "One reason the PMFs for 1974 and 2021 did not look very different is that the mean seems to have gone up (more conservative) and then down again (more liberal).\n",
    "Generally, it looks like the U.S. has been trending toward liberal for the last 20 years, or more, at least in the sense of how people describe themselves."
   ]
  },
  {
   "cell_type": "markdown",
   "metadata": {},
   "source": [
    "**Exercise:** Use `plot_series_lowess` to plot the standard deviation of `polviews` with a smooth line."
   ]
  },
  {
   "cell_type": "code",
   "execution_count": 28,
   "metadata": {},
   "outputs": [],
   "source": [
    "# Solution goes here"
   ]
  },
  {
   "cell_type": "markdown",
   "metadata": {},
   "source": [
    "## Cross Tabulation\n",
    "\n",
    "In the previous sections, we treated `polviews` as a numerical quantity, so we were able to compute means and standard deviations.\n",
    "But the responses are really categorical, which means that each value represents a discrete category, like \"liberal\" or \"conservative\".\n",
    "In this section, we'll treat `polviews` as a categorical variable.  Specifically, we'll compute the number of respondents in each category for each year, and plot changes over time.\n",
    "\n",
    "Pandas provides a function called `crosstab` that computes a **cross tabulation** (see <https://en.wikipedia.org/wiki/Contingency_table>).\n",
    "It takes two `Series` objects as arguments and returns a `DataFrame`."
   ]
  },
  {
   "cell_type": "code",
   "execution_count": 29,
   "metadata": {},
   "outputs": [],
   "source": [
    "year = gss['year']\n",
    "column = gss['polviews']\n",
    "\n",
    "xtab = pd.crosstab(year, column)"
   ]
  },
  {
   "cell_type": "markdown",
   "metadata": {},
   "source": [
    "Here are the first few lines from the result."
   ]
  },
  {
   "cell_type": "code",
   "execution_count": 30,
   "metadata": {},
   "outputs": [
    {
     "data": {
      "text/html": [
       "<div>\n",
       "<style scoped>\n",
       "    .dataframe tbody tr th:only-of-type {\n",
       "        vertical-align: middle;\n",
       "    }\n",
       "\n",
       "    .dataframe tbody tr th {\n",
       "        vertical-align: top;\n",
       "    }\n",
       "\n",
       "    .dataframe thead th {\n",
       "        text-align: right;\n",
       "    }\n",
       "</style>\n",
       "<table border=\"1\" class=\"dataframe\">\n",
       "  <thead>\n",
       "    <tr style=\"text-align: right;\">\n",
       "      <th>polviews</th>\n",
       "      <th>1.0</th>\n",
       "      <th>2.0</th>\n",
       "      <th>3.0</th>\n",
       "      <th>4.0</th>\n",
       "      <th>5.0</th>\n",
       "      <th>6.0</th>\n",
       "      <th>7.0</th>\n",
       "    </tr>\n",
       "    <tr>\n",
       "      <th>year</th>\n",
       "      <th></th>\n",
       "      <th></th>\n",
       "      <th></th>\n",
       "      <th></th>\n",
       "      <th></th>\n",
       "      <th></th>\n",
       "      <th></th>\n",
       "    </tr>\n",
       "  </thead>\n",
       "  <tbody>\n",
       "    <tr>\n",
       "      <th>1974</th>\n",
       "      <td>31</td>\n",
       "      <td>201</td>\n",
       "      <td>211</td>\n",
       "      <td>538</td>\n",
       "      <td>223</td>\n",
       "      <td>181</td>\n",
       "      <td>30</td>\n",
       "    </tr>\n",
       "    <tr>\n",
       "      <th>1975</th>\n",
       "      <td>56</td>\n",
       "      <td>184</td>\n",
       "      <td>207</td>\n",
       "      <td>540</td>\n",
       "      <td>204</td>\n",
       "      <td>162</td>\n",
       "      <td>45</td>\n",
       "    </tr>\n",
       "    <tr>\n",
       "      <th>1976</th>\n",
       "      <td>31</td>\n",
       "      <td>198</td>\n",
       "      <td>175</td>\n",
       "      <td>564</td>\n",
       "      <td>209</td>\n",
       "      <td>206</td>\n",
       "      <td>34</td>\n",
       "    </tr>\n",
       "    <tr>\n",
       "      <th>1977</th>\n",
       "      <td>37</td>\n",
       "      <td>181</td>\n",
       "      <td>214</td>\n",
       "      <td>594</td>\n",
       "      <td>243</td>\n",
       "      <td>164</td>\n",
       "      <td>42</td>\n",
       "    </tr>\n",
       "    <tr>\n",
       "      <th>1978</th>\n",
       "      <td>21</td>\n",
       "      <td>140</td>\n",
       "      <td>255</td>\n",
       "      <td>559</td>\n",
       "      <td>265</td>\n",
       "      <td>187</td>\n",
       "      <td>25</td>\n",
       "    </tr>\n",
       "  </tbody>\n",
       "</table>\n",
       "</div>"
      ],
      "text/plain": [
       "polviews  1.0  2.0  3.0  4.0  5.0  6.0  7.0\n",
       "year                                       \n",
       "1974       31  201  211  538  223  181   30\n",
       "1975       56  184  207  540  204  162   45\n",
       "1976       31  198  175  564  209  206   34\n",
       "1977       37  181  214  594  243  164   42\n",
       "1978       21  140  255  559  265  187   25"
      ]
     },
     "execution_count": 30,
     "metadata": {},
     "output_type": "execute_result"
    }
   ],
   "source": [
    "xtab.head()"
   ]
  },
  {
   "cell_type": "markdown",
   "metadata": {},
   "source": [
    "It contains one row for each value of `year` and one column for each value of `polviews`.  Reading the first row, we see that in 1974, 31 people gave response 1, \"extremely liberal\", 201 people gave response 2, \"liberal\", and so on.\n",
    "\n",
    "The number of respondents varies from year to year, so we need to normalize the results, which means computing for each year the *fraction* of respondents in each category, rather than the count.\n",
    "\n",
    "`crosstab` takes an optional argument that normalizes each row."
   ]
  },
  {
   "cell_type": "code",
   "execution_count": 31,
   "metadata": {},
   "outputs": [],
   "source": [
    "xtab_norm = pd.crosstab(year, column, normalize='index')"
   ]
  },
  {
   "cell_type": "markdown",
   "metadata": {},
   "source": [
    "Here's what that looks like for the 7-point scale."
   ]
  },
  {
   "cell_type": "code",
   "execution_count": 32,
   "metadata": {},
   "outputs": [
    {
     "data": {
      "text/html": [
       "<div>\n",
       "<style scoped>\n",
       "    .dataframe tbody tr th:only-of-type {\n",
       "        vertical-align: middle;\n",
       "    }\n",
       "\n",
       "    .dataframe tbody tr th {\n",
       "        vertical-align: top;\n",
       "    }\n",
       "\n",
       "    .dataframe thead th {\n",
       "        text-align: right;\n",
       "    }\n",
       "</style>\n",
       "<table border=\"1\" class=\"dataframe\">\n",
       "  <thead>\n",
       "    <tr style=\"text-align: right;\">\n",
       "      <th>polviews</th>\n",
       "      <th>1.0</th>\n",
       "      <th>2.0</th>\n",
       "      <th>3.0</th>\n",
       "      <th>4.0</th>\n",
       "      <th>5.0</th>\n",
       "      <th>6.0</th>\n",
       "      <th>7.0</th>\n",
       "    </tr>\n",
       "    <tr>\n",
       "      <th>year</th>\n",
       "      <th></th>\n",
       "      <th></th>\n",
       "      <th></th>\n",
       "      <th></th>\n",
       "      <th></th>\n",
       "      <th></th>\n",
       "      <th></th>\n",
       "    </tr>\n",
       "  </thead>\n",
       "  <tbody>\n",
       "    <tr>\n",
       "      <th>1974</th>\n",
       "      <td>0.021908</td>\n",
       "      <td>0.142049</td>\n",
       "      <td>0.149117</td>\n",
       "      <td>0.380212</td>\n",
       "      <td>0.157597</td>\n",
       "      <td>0.127915</td>\n",
       "      <td>0.021201</td>\n",
       "    </tr>\n",
       "    <tr>\n",
       "      <th>1975</th>\n",
       "      <td>0.040057</td>\n",
       "      <td>0.131617</td>\n",
       "      <td>0.148069</td>\n",
       "      <td>0.386266</td>\n",
       "      <td>0.145923</td>\n",
       "      <td>0.115880</td>\n",
       "      <td>0.032189</td>\n",
       "    </tr>\n",
       "    <tr>\n",
       "      <th>1976</th>\n",
       "      <td>0.021877</td>\n",
       "      <td>0.139732</td>\n",
       "      <td>0.123500</td>\n",
       "      <td>0.398024</td>\n",
       "      <td>0.147495</td>\n",
       "      <td>0.145378</td>\n",
       "      <td>0.023994</td>\n",
       "    </tr>\n",
       "    <tr>\n",
       "      <th>1977</th>\n",
       "      <td>0.025085</td>\n",
       "      <td>0.122712</td>\n",
       "      <td>0.145085</td>\n",
       "      <td>0.402712</td>\n",
       "      <td>0.164746</td>\n",
       "      <td>0.111186</td>\n",
       "      <td>0.028475</td>\n",
       "    </tr>\n",
       "    <tr>\n",
       "      <th>1978</th>\n",
       "      <td>0.014463</td>\n",
       "      <td>0.096419</td>\n",
       "      <td>0.175620</td>\n",
       "      <td>0.384986</td>\n",
       "      <td>0.182507</td>\n",
       "      <td>0.128788</td>\n",
       "      <td>0.017218</td>\n",
       "    </tr>\n",
       "  </tbody>\n",
       "</table>\n",
       "</div>"
      ],
      "text/plain": [
       "polviews       1.0       2.0       3.0       4.0       5.0       6.0       7.0\n",
       "year                                                                          \n",
       "1974      0.021908  0.142049  0.149117  0.380212  0.157597  0.127915  0.021201\n",
       "1975      0.040057  0.131617  0.148069  0.386266  0.145923  0.115880  0.032189\n",
       "1976      0.021877  0.139732  0.123500  0.398024  0.147495  0.145378  0.023994\n",
       "1977      0.025085  0.122712  0.145085  0.402712  0.164746  0.111186  0.028475\n",
       "1978      0.014463  0.096419  0.175620  0.384986  0.182507  0.128788  0.017218"
      ]
     },
     "execution_count": 32,
     "metadata": {},
     "output_type": "execute_result"
    }
   ],
   "source": [
    "xtab_norm.head()"
   ]
  },
  {
   "cell_type": "markdown",
   "metadata": {
    "tags": [
     "remove-print"
    ]
   },
   "source": [
    "To make the results easier to interpret, I'm going to replace the numeric codes 1-7 with strings.  First I'll make a dictionary that maps from numbers to strings:"
   ]
  },
  {
   "cell_type": "code",
   "execution_count": 33,
   "metadata": {
    "tags": [
     "remove-print"
    ]
   },
   "outputs": [],
   "source": [
    "# recode the 7 point scale with words\n",
    "d7 = {1: 'Extremely liberal', \n",
    "      2: 'Liberal', \n",
    "      3: 'Slightly liberal', \n",
    "      4: 'Moderate', \n",
    "      5: 'Slightly conservative', \n",
    "      6: 'Conservative', \n",
    "      7: 'Extremely conservative'}"
   ]
  },
  {
   "cell_type": "markdown",
   "metadata": {
    "tags": [
     "remove-print"
    ]
   },
   "source": [
    "Then we can use the `replace` function like this:"
   ]
  },
  {
   "cell_type": "code",
   "execution_count": 34,
   "metadata": {
    "tags": [
     "remove-print"
    ]
   },
   "outputs": [],
   "source": [
    "polviews7 = gss['polviews'].replace(d7)"
   ]
  },
  {
   "cell_type": "markdown",
   "metadata": {
    "tags": [
     "remove-print"
    ]
   },
   "source": [
    "We can use `values` to confirm that the values in `polviews7` are strings."
   ]
  },
  {
   "cell_type": "code",
   "execution_count": 35,
   "metadata": {
    "tags": [
     "remove-print"
    ]
   },
   "outputs": [
    {
     "data": {
      "text/plain": [
       "Conservative               9064\n",
       "Extremely conservative     1951\n",
       "Extremely liberal          1911\n",
       "Liberal                    6876\n",
       "Moderate                  22950\n",
       "Slightly conservative      9344\n",
       "Slightly liberal           7408\n",
       "Name: polviews, dtype: int64"
      ]
     },
     "execution_count": 35,
     "metadata": {},
     "output_type": "execute_result"
    }
   ],
   "source": [
    "values(polviews7)"
   ]
  },
  {
   "cell_type": "markdown",
   "metadata": {
    "tags": [
     "remove-print"
    ]
   },
   "source": [
    "If we make the cross tabulation again, we can see that the column names are strings."
   ]
  },
  {
   "cell_type": "code",
   "execution_count": 36,
   "metadata": {
    "tags": [
     "remove-print"
    ]
   },
   "outputs": [
    {
     "data": {
      "text/html": [
       "<div>\n",
       "<style scoped>\n",
       "    .dataframe tbody tr th:only-of-type {\n",
       "        vertical-align: middle;\n",
       "    }\n",
       "\n",
       "    .dataframe tbody tr th {\n",
       "        vertical-align: top;\n",
       "    }\n",
       "\n",
       "    .dataframe thead th {\n",
       "        text-align: right;\n",
       "    }\n",
       "</style>\n",
       "<table border=\"1\" class=\"dataframe\">\n",
       "  <thead>\n",
       "    <tr style=\"text-align: right;\">\n",
       "      <th>polviews</th>\n",
       "      <th>Conservative</th>\n",
       "      <th>Extremely conservative</th>\n",
       "      <th>Extremely liberal</th>\n",
       "      <th>Liberal</th>\n",
       "      <th>Moderate</th>\n",
       "      <th>Slightly conservative</th>\n",
       "      <th>Slightly liberal</th>\n",
       "    </tr>\n",
       "    <tr>\n",
       "      <th>year</th>\n",
       "      <th></th>\n",
       "      <th></th>\n",
       "      <th></th>\n",
       "      <th></th>\n",
       "      <th></th>\n",
       "      <th></th>\n",
       "      <th></th>\n",
       "    </tr>\n",
       "  </thead>\n",
       "  <tbody>\n",
       "    <tr>\n",
       "      <th>1974</th>\n",
       "      <td>0.127915</td>\n",
       "      <td>0.021201</td>\n",
       "      <td>0.021908</td>\n",
       "      <td>0.142049</td>\n",
       "      <td>0.380212</td>\n",
       "      <td>0.157597</td>\n",
       "      <td>0.149117</td>\n",
       "    </tr>\n",
       "    <tr>\n",
       "      <th>1975</th>\n",
       "      <td>0.115880</td>\n",
       "      <td>0.032189</td>\n",
       "      <td>0.040057</td>\n",
       "      <td>0.131617</td>\n",
       "      <td>0.386266</td>\n",
       "      <td>0.145923</td>\n",
       "      <td>0.148069</td>\n",
       "    </tr>\n",
       "    <tr>\n",
       "      <th>1976</th>\n",
       "      <td>0.145378</td>\n",
       "      <td>0.023994</td>\n",
       "      <td>0.021877</td>\n",
       "      <td>0.139732</td>\n",
       "      <td>0.398024</td>\n",
       "      <td>0.147495</td>\n",
       "      <td>0.123500</td>\n",
       "    </tr>\n",
       "    <tr>\n",
       "      <th>1977</th>\n",
       "      <td>0.111186</td>\n",
       "      <td>0.028475</td>\n",
       "      <td>0.025085</td>\n",
       "      <td>0.122712</td>\n",
       "      <td>0.402712</td>\n",
       "      <td>0.164746</td>\n",
       "      <td>0.145085</td>\n",
       "    </tr>\n",
       "    <tr>\n",
       "      <th>1978</th>\n",
       "      <td>0.128788</td>\n",
       "      <td>0.017218</td>\n",
       "      <td>0.014463</td>\n",
       "      <td>0.096419</td>\n",
       "      <td>0.384986</td>\n",
       "      <td>0.182507</td>\n",
       "      <td>0.175620</td>\n",
       "    </tr>\n",
       "  </tbody>\n",
       "</table>\n",
       "</div>"
      ],
      "text/plain": [
       "polviews  Conservative  Extremely conservative  Extremely liberal   Liberal  \\\n",
       "year                                                                          \n",
       "1974          0.127915                0.021201           0.021908  0.142049   \n",
       "1975          0.115880                0.032189           0.040057  0.131617   \n",
       "1976          0.145378                0.023994           0.021877  0.139732   \n",
       "1977          0.111186                0.028475           0.025085  0.122712   \n",
       "1978          0.128788                0.017218           0.014463  0.096419   \n",
       "\n",
       "polviews  Moderate  Slightly conservative  Slightly liberal  \n",
       "year                                                         \n",
       "1974      0.380212               0.157597          0.149117  \n",
       "1975      0.386266               0.145923          0.148069  \n",
       "1976      0.398024               0.147495          0.123500  \n",
       "1977      0.402712               0.164746          0.145085  \n",
       "1978      0.384986               0.182507          0.175620  "
      ]
     },
     "execution_count": 36,
     "metadata": {},
     "output_type": "execute_result"
    }
   ],
   "source": [
    "xtab_norm = pd.crosstab(year, polviews7, normalize='index')\n",
    "xtab_norm.head()"
   ]
  },
  {
   "cell_type": "markdown",
   "metadata": {
    "tags": [
     "remove-print"
    ]
   },
   "source": [
    "We are almost ready to plot the results, but first we need some colors."
   ]
  },
  {
   "cell_type": "markdown",
   "metadata": {
    "tags": [
     "remove-print"
    ]
   },
   "source": [
    "## Color Palettes\n",
    "\n",
    "Seaborn provides a variety of color palettes,  [which you can read about here](https://seaborn.pydata.org/tutorial/color_palettes.html).\n",
    "\n",
    "To represent political views, I'll use a diverging palette from blue to red."
   ]
  },
  {
   "cell_type": "code",
   "execution_count": 37,
   "metadata": {
    "tags": [
     "remove-print"
    ]
   },
   "outputs": [
    {
     "data": {
      "image/png": "[encoded data removed]",
      "text/plain": [
       "<Figure size 504x72 with 1 Axes>"
      ]
     },
     "metadata": {
      "needs_background": "light"
     },
     "output_type": "display_data"
    }
   ],
   "source": [
    "palette = sns.color_palette('RdBu_r', 7)\n",
    "sns.palplot(palette)"
   ]
  },
  {
   "cell_type": "markdown",
   "metadata": {
    "tags": [
     "remove-print"
    ]
   },
   "source": [
    "The middle color is white, which won't work when we plot it, so I will replace it with a purple color from another palette."
   ]
  },
  {
   "cell_type": "code",
   "execution_count": 38,
   "metadata": {
    "tags": [
     "remove-print"
    ]
   },
   "outputs": [
    {
     "data": {
      "image/png": "[encoded data removed]",
      "text/plain": [
       "<Figure size 504x72 with 1 Axes>"
      ]
     },
     "metadata": {
      "needs_background": "light"
     },
     "output_type": "display_data"
    }
   ],
   "source": [
    "muted = sns.color_palette('muted', 7)\n",
    "purple = muted[4]\n",
    "sns.palplot(muted)"
   ]
  },
  {
   "cell_type": "markdown",
   "metadata": {
    "tags": [
     "remove-print"
    ]
   },
   "source": [
    "Here's the modified diverging palette  with purple in the middle."
   ]
  },
  {
   "cell_type": "code",
   "execution_count": 39,
   "metadata": {
    "tags": [
     "remove-print"
    ]
   },
   "outputs": [
    {
     "data": {
      "image/png": "[encoded data removed]",
      "text/plain": [
       "<Figure size 504x72 with 1 Axes>"
      ]
     },
     "metadata": {
      "needs_background": "light"
     },
     "output_type": "display_data"
    }
   ],
   "source": [
    "palette[3] = purple\n",
    "sns.palplot(palette)"
   ]
  },
  {
   "cell_type": "markdown",
   "metadata": {
    "tags": [
     "remove-print"
    ]
   },
   "source": [
    "A feature of this color map is that the colors are meaningful, at least in countries that use blue, purple, and red for these points on the political spectrum.\n",
    "A drawback of this color map is that some some of the colors are indistinguishable to people who are [color blind](https://davidmathlogic.com/colorblind).\n",
    "\n",
    "Now I'll make a dictionary that maps from the responses to the corresponding colors."
   ]
  },
  {
   "cell_type": "code",
   "execution_count": 40,
   "metadata": {
    "tags": [
     "remove-print"
    ]
   },
   "outputs": [],
   "source": [
    "columns = ['Extremely liberal', \n",
    "           'Liberal', \n",
    "           'Slightly liberal', \n",
    "           'Moderate', \n",
    "           'Slightly conservative', \n",
    "           'Conservative',\n",
    "           'Extremely conservative']"
   ]
  },
  {
   "cell_type": "code",
   "execution_count": 41,
   "metadata": {
    "tags": [
     "remove-print"
    ]
   },
   "outputs": [
    {
     "name": "stdout",
     "output_type": "stream",
     "text": [
      "Extremely liberal (0.16339869281045757, 0.44498269896193776, 0.6975009611687812)\n",
      "Liberal (0.4206843521722416, 0.6764321414840447, 0.8186851211072664)\n",
      "Slightly liberal (0.7614763552479817, 0.8685121107266438, 0.924567474048443)\n",
      "Moderate (0.5843137254901961, 0.4235294117647059, 0.7058823529411765)\n",
      "Slightly conservative (0.9824682814302191, 0.8006920415224913, 0.7061130334486736)\n",
      "Conservative (0.8945790080738177, 0.5038062283737024, 0.39976931949250283)\n",
      "Extremely conservative (0.7284890426758939, 0.15501730103806227, 0.1973856209150327)\n"
     ]
    }
   ],
   "source": [
    "color_map = dict(zip(columns, palette))\n",
    "\n",
    "for key, value in color_map.items():\n",
    "    print(key, value)"
   ]
  },
  {
   "cell_type": "markdown",
   "metadata": {},
   "source": [
    "## Plotting\n",
    "\n",
    "To plot the results, I use the following function, which takes a `DataFrame` and plots each column using `plot_series_lowess`."
   ]
  },
  {
   "cell_type": "code",
   "execution_count": 42,
   "metadata": {},
   "outputs": [],
   "source": [
    "def plot_columns_lowess(table, columns, colors):\n",
    "    \"\"\"Plot the columns in a DataFrame.\n",
    "    \n",
    "    table: DataFrame with a cross tabulation\n",
    "    columns: list of column names, in the desired order\n",
    "    colors: mapping from column names to colors\n",
    "    \"\"\"\n",
    "    for col in columns:\n",
    "        series = table[col]\n",
    "        plot_series_lowess(series, colors[col])"
   ]
  },
  {
   "cell_type": "markdown",
   "metadata": {
    "tags": [
     "remove-print"
    ]
   },
   "source": [
    "The following function sets the position of the figure legend."
   ]
  },
  {
   "cell_type": "code",
   "execution_count": 43,
   "metadata": {
    "tags": [
     "remove-print"
    ]
   },
   "outputs": [],
   "source": [
    "def anchor_legend(x, y):\n",
    "    \"\"\"Place the upper left corner of the legend box.\n",
    "    \n",
    "    x: x coordinate\n",
    "    y: y coordinate\n",
    "    \"\"\"\n",
    "    plt.legend(bbox_to_anchor=(x, y), loc='upper left', ncol=1)"
   ]
  },
  {
   "cell_type": "markdown",
   "metadata": {},
   "source": [
    "Here are the 7 categories plotted as a function of time."
   ]
  },
  {
   "cell_type": "code",
   "execution_count": 44,
   "metadata": {
    "scrolled": true
   },
   "outputs": [
    {
     "data": {
      "image/png": "[encoded data removed]",
      "text/plain": [
       "<Figure size 432x288 with 1 Axes>"
      ]
     },
     "metadata": {
      "needs_background": "light"
     },
     "output_type": "display_data"
    }
   ],
   "source": [
    "plot_columns_lowess(xtab_norm, columns, color_map)\n",
    "decorate(xlabel='Year',\n",
    "         ylabel='Proportion',\n",
    "         title='Fraction of people with each political view')\n",
    "\n",
    "anchor_legend(1.02, 1.02)"
   ]
  },
  {
   "cell_type": "markdown",
   "metadata": {},
   "source": [
    "This way of looking at the results suggests that changes in political alignment during this period have generally been slow and small.\n",
    "The fraction of self-described moderates has not changed substantially.\n",
    "The fraction of conservatives increased, but seems to be decreasing now; the number of liberals seems to be increasing.\n",
    "\n",
    "The fraction of people at the extremes has increased, but it is hard to see clearly in this figure.\n",
    "We can get a better view by plotting just the extremes."
   ]
  },
  {
   "cell_type": "code",
   "execution_count": 45,
   "metadata": {},
   "outputs": [
    {
     "data": {
      "image/png": "[encoded data removed]",
      "text/plain": [
       "<Figure size 432x288 with 1 Axes>"
      ]
     },
     "metadata": {
      "needs_background": "light"
     },
     "output_type": "display_data"
    }
   ],
   "source": [
    "columns2 = ['Extremely liberal', 'Extremely conservative']\n",
    "\n",
    "plot_columns_lowess(xtab_norm, columns2, color_map)\n",
    "decorate(xlabel='Year',\n",
    "         ylabel='Proportion',\n",
    "         title='Fraction of people with extreme political views')\n",
    "\n",
    "anchor_legend(1.02, 1.02)"
   ]
  },
  {
   "cell_type": "markdown",
   "metadata": {},
   "source": [
    "This figure shows that the fraction of people who describe themselves as \"extreme\" has increased from about 2.5% to about 4%.\n",
    "In relative terms, that's a big increase.  But in absolute terms these tails of the distribution are still small."
   ]
  },
  {
   "cell_type": "markdown",
   "metadata": {},
   "source": [
    "**Exercise:** Let's do a similar analysis with `partyid`, which encodes responses to the question:\n",
    "\n",
    ">Generally speaking, do you usually think of yourself as a Republican, Democrat, Independent, or what?\n",
    "\n",
    "The valid responses are:\n",
    "\n",
    "```\n",
    "0\tStrong democrat\n",
    "1\tNot str democrat\n",
    "2\tInd,near dem\n",
    "3\tIndependent\n",
    "4\tInd,near rep\n",
    "5\tNot str republican\n",
    "6\tStrong republican\n",
    "7\tOther party\n",
    "```\n",
    "\n",
    "You can read the codebook for `partyid`  at <https://gssdataexplorer.norc.org/projects/52787/variables/141/vshow>."
   ]
  },
  {
   "cell_type": "markdown",
   "metadata": {
    "tags": [
     "remove-print"
    ]
   },
   "source": [
    "Here are the steps I suggest:\n",
    "\n",
    "1) If you have not already saved this notebook, you should do that first.  If you are running on Colab, select \"Save a copy in Drive\" from the File menu.\n",
    "\n",
    "2) Now, before you modify this notebook, make *another* copy and give it an appropriate name.\n",
    "\n",
    "3) Search and replace `polviews` with `partyid` (use \"Edit->Find and replace\").\n",
    "\n",
    "4) Run the notebook from the beginning and see what other changes you have to make.\n",
    "\n",
    "You will have to make changes in `d7` and `columns`.  Otherwise you might get a message like \n",
    "\n",
    "`TypeError: '<' not supported between instances of 'float' and 'str'`\n",
    "\n",
    "Also, you might have to drop \"Other party\" or change the color palette.\n",
    "\n",
    "And you should change the titles of the figures.\n",
    "\n",
    "\n",
    "What changes in party affiliation do you see over the last 50 years?  Are things going in the directions you expected?"
   ]
  },
  {
   "cell_type": "markdown",
   "metadata": {
    "tags": [
     "remove-cell"
    ]
   },
   "source": [
    "Political Alignment Case Study\n",
    "\n",
    "Copyright 2020 Allen B. Downey\n",
    "\n",
    "License: [Attribution-NonCommercial-ShareAlike 4.0 International (CC BY-NC-SA 4.0)](https://creativecommons.org/licenses/by-nc-sa/4.0/)"
   ]
  }
 ],
 "metadata": {
  "celltoolbar": "Tags",
  "kernelspec": {
   "display_name": "Python 3",
   "language": "python",
   "name": "python3"
  },
  "language_info": {
   "codemirror_mode": {
    "name": "ipython",
    "version": 3
   },
   "file_extension": ".py",
   "mimetype": "text/x-python",
   "name": "python",
   "nbconvert_exporter": "python",
   "pygments_lexer": "ipython3",
   "version": "3.7.10"
  }
 },
 "nbformat": 4,
 "nbformat_minor": 4
}
