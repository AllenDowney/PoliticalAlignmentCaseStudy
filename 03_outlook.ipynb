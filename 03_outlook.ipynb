{
 "cells": [
  {
   "cell_type": "markdown",
   "metadata": {},
   "source": [
    "# Political Alignment Case Study\n",
    "\n",
    "Allen Downey\n",
    "\n",
    "[MIT License](https://en.wikipedia.org/wiki/MIT_License)"
   ]
  },
  {
   "cell_type": "markdown",
   "metadata": {},
   "source": [
    "### Introduction\n",
    "\n",
    "This is the third in a series of notebooks that make up a case study in exploratory data analysis.\n",
    "\n",
    "In this notebook, we explore the relationship between political alignment and three variables that reflect \"outlook\", specifically, beliefs about whether other people are generally fair, helpful, and trustworthy.\n",
    "\n",
    "1. We use the Pandas function [`groupby`](https://pandas.pydata.org/pandas-docs/stable/reference/api/pandas.DataFrame.groupby.html) to compare the average response between groups and plot the average as a function of time.\n",
    "\n",
    "2. We use the Pandas function [`pivot table`](https://pandas.pydata.org/pandas-docs/stable/reference/api/pandas.pivot_table.html) to compute the average response within each group as a function of time.\n",
    "\n",
    "3. And we use resampling to see whether the features we see in the figures might be due to randomness, or whether they are likely to reflect actual changes in the works.\n",
    "\n",
    "I'll explore responses to the question about fairness; as an exercise, you will explore responses to questions about helpfulness and trustworthiness."
   ]
  },
  {
   "cell_type": "markdown",
   "metadata": {},
   "source": [
    "### Setup\n",
    "\n",
    "If everything we need is installed, the following cell should run without error."
   ]
  },
  {
   "cell_type": "code",
   "execution_count": 1,
   "metadata": {},
   "outputs": [],
   "source": [
    "import pandas as pd\n",
    "import numpy as np\n",
    "import matplotlib.pyplot as plt\n",
    "import seaborn as sns"
   ]
  },
  {
   "cell_type": "markdown",
   "metadata": {},
   "source": [
    "The following cells define functions from previous notebooks we will use again."
   ]
  },
  {
   "cell_type": "code",
   "execution_count": 2,
   "metadata": {},
   "outputs": [],
   "source": [
    "def values(series):\n",
    "    \"\"\"Count the values and sort.\n",
    "    \n",
    "    series: pd.Series\n",
    "    \n",
    "    returns: series mapping from values to frequencies\n",
    "    \"\"\"\n",
    "    return series.value_counts().sort_index()"
   ]
  },
  {
   "cell_type": "code",
   "execution_count": 3,
   "metadata": {},
   "outputs": [],
   "source": [
    "def decorate(**options):\n",
    "    \"\"\"Decorate the current axes.\n",
    "    Call decorate with keyword arguments like\n",
    "    decorate(title='Title',\n",
    "             xlabel='x',\n",
    "             ylabel='y')\n",
    "    The keyword arguments can be any of the axis properties\n",
    "    https://matplotlib.org/api/axes_api.html\n",
    "    \"\"\"\n",
    "    plt.gca().set(**options)\n",
    "    plt.tight_layout()"
   ]
  },
  {
   "cell_type": "code",
   "execution_count": 4,
   "metadata": {},
   "outputs": [],
   "source": [
    "from statsmodels.nonparametric.smoothers_lowess import lowess\n",
    "\n",
    "def make_lowess(series):\n",
    "    \"\"\"Use LOWESS to compute a smooth line.\n",
    "    \n",
    "    series: pd.Series\n",
    "    \n",
    "    returns: pd.Series\n",
    "    \"\"\"\n",
    "    y = series.values\n",
    "    x = series.index.values\n",
    "\n",
    "    smooth = lowess(y, x)\n",
    "    index, data = np.transpose(smooth)\n",
    "\n",
    "    return pd.Series(data, index=index) "
   ]
  },
  {
   "cell_type": "code",
   "execution_count": 5,
   "metadata": {},
   "outputs": [],
   "source": [
    "def plot_series_lowess(series, color):\n",
    "    \"\"\"Plots a series of data points and a smooth line.\n",
    "    \n",
    "    series: pd.Series\n",
    "    color: string or tuple\n",
    "    \"\"\"\n",
    "    series.plot(linewidth=0, marker='o', color=color, alpha=0.5)\n",
    "    smooth = make_lowess(series)\n",
    "    smooth.plot(label='_', color=color)"
   ]
  },
  {
   "cell_type": "code",
   "execution_count": 6,
   "metadata": {},
   "outputs": [],
   "source": [
    "def plot_columns_lowess(table, columns, colors):\n",
    "    \"\"\"Plot the columns in a DataFrame.\n",
    "    \n",
    "    table: DataFrame with a cross tabulation\n",
    "    columns: list of column names, in the desired order\n",
    "    colors: mapping from column names to colors\n",
    "    \"\"\"\n",
    "    for col in columns:\n",
    "        series = table[col]\n",
    "        plot_series_lowess(series, colors[col])"
   ]
  },
  {
   "cell_type": "markdown",
   "metadata": {},
   "source": [
    "### Loading the data\n",
    "\n",
    "In the first notebook, we downloaded GSS data, loaded and cleaned it, resampled it to correct for stratified sampling, and then saved the data in an HDF5 file, which is much faster to load.  In this and the following notebooks, we'll download the HDF5 file and load it.\n",
    "\n",
    "The following cell downloads the file."
   ]
  },
  {
   "cell_type": "code",
   "execution_count": 7,
   "metadata": {},
   "outputs": [],
   "source": [
    "# Load the data file\n",
    "\n",
    "import os\n",
    "\n",
    "datafile = 'gss_eda.3.hdf5'\n",
    "if not os.path.exists(datafile):\n",
    "    !wget https://github.com/AllenDowney/PoliticalAlignmentCaseStudy/raw/master/gss_eda.3.hdf5\n"
   ]
  },
  {
   "cell_type": "markdown",
   "metadata": {},
   "source": [
    "Now I'll load one of the resampled DataFrames."
   ]
  },
  {
   "cell_type": "code",
   "execution_count": 8,
   "metadata": {},
   "outputs": [
    {
     "data": {
      "text/plain": [
       "(64814, 105)"
      ]
     },
     "execution_count": 8,
     "metadata": {},
     "output_type": "execute_result"
    }
   ],
   "source": [
    "gss = pd.read_hdf(datafile, 'gss0')\n",
    "gss.shape"
   ]
  },
  {
   "cell_type": "markdown",
   "metadata": {},
   "source": [
    "## Political views on a 3-point scale\n",
    "\n",
    "In the previous notebook, we looked at responses to `polviews`, which asks about political affiliation.  The valid responses are:\n",
    "\n",
    "```\n",
    "1\tExtremely liberal\n",
    "2\tLiberal\n",
    "3\tSlightly liberal\n",
    "4\tModerate\n",
    "5\tSlightly conservative\n",
    "6\tConservative\n",
    "7\tExtremely conservative\n",
    "```\n",
    "\n",
    "To make it easier to visualize groups, I'm going to lump the 7-point scale into a 3-point scale."
   ]
  },
  {
   "cell_type": "code",
   "execution_count": 9,
   "metadata": {},
   "outputs": [],
   "source": [
    "d_polviews = {1:'Liberal', \n",
    "              2:'Liberal', \n",
    "              3:'Liberal', \n",
    "              4:'Moderate', \n",
    "              5:'Conservative', \n",
    "              6:'Conservative', \n",
    "              7:'Conservative'}"
   ]
  },
  {
   "cell_type": "markdown",
   "metadata": {},
   "source": [
    "I'll use `replace`, as we've seen before, and store the result as a new column in the DataFrame."
   ]
  },
  {
   "cell_type": "code",
   "execution_count": 10,
   "metadata": {},
   "outputs": [],
   "source": [
    "gss['polviews3'] = gss['polviews'].replace(d_polviews)"
   ]
  },
  {
   "cell_type": "markdown",
   "metadata": {},
   "source": [
    "With this scale, there are roughly the same number of people in each group."
   ]
  },
  {
   "cell_type": "code",
   "execution_count": 11,
   "metadata": {},
   "outputs": [
    {
     "data": {
      "text/plain": [
       "Conservative    19129\n",
       "Liberal         14979\n",
       "Moderate        21444\n",
       "Name: polviews3, dtype: int64"
      ]
     },
     "execution_count": 11,
     "metadata": {},
     "output_type": "execute_result"
    }
   ],
   "source": [
    "values(gss['polviews3'])"
   ]
  },
  {
   "cell_type": "markdown",
   "metadata": {},
   "source": [
    "## Are people fair?\n",
    "\n",
    "Low let's explore relationships between political alignment (conversative, liberal) and \"outlook\", which means the way people perceive the world.  Specifically, we'll look at their responses to questions about\n",
    "\n",
    "1. Whether people generally try to be fair.\n",
    "\n",
    "2. Whether people can generally be trusted.\n",
    "\n",
    "3. Whether people generally try to be helpful.\n",
    "\n",
    "Before we look at results, you might want to guess: do you think conservatives or liberals tend to give more positive responses to these questions?  Let's see if the data are consistent with your expectations."
   ]
  },
  {
   "cell_type": "markdown",
   "metadata": {},
   "source": [
    "The [first question](https://gssdataexplorer.norc.org/projects/52787/variables/440/vshow) we'll look at is:\n",
    "\n",
    "> Do you think most people would try to take advantage of you if they got a chance, or would they try to be fair?\n",
    "\n",
    "The possible responses are:\n",
    "\n",
    "```\n",
    "1\tTake advantage\n",
    "2\tFair\n",
    "3\tDepends\n",
    "```\n",
    "\n",
    "As always, we start by looking at the distribution of responses, that is, how many people give each response:"
   ]
  },
  {
   "cell_type": "code",
   "execution_count": 12,
   "metadata": {},
   "outputs": [
    {
     "data": {
      "text/plain": [
       "1.0    15435\n",
       "2.0    22806\n",
       "3.0     2755\n",
       "Name: fair, dtype: int64"
      ]
     },
     "execution_count": 12,
     "metadata": {},
     "output_type": "execute_result"
    }
   ],
   "source": [
    "values(gss['fair'])"
   ]
  },
  {
   "cell_type": "markdown",
   "metadata": {},
   "source": [
    "The plurality think people try to be fair (2.0), but a substantial minority think people would take advantage (1.0).\n",
    "\n",
    "These responses are categorical, but we can put them on a numerical scale, representing the most positive response (Fair) with 1, the most negative response (Take advantage) with 0, and \"depends\" with 0.5.\n",
    "\n",
    "This scale is arbitrary, but we can use it to quantify changes over time.\n",
    "\n",
    "Here's a dictionary that maps from the old values to the new."
   ]
  },
  {
   "cell_type": "code",
   "execution_count": 13,
   "metadata": {},
   "outputs": [],
   "source": [
    "d_fair = {1:0, 2:1, 3:0.5}"
   ]
  },
  {
   "cell_type": "markdown",
   "metadata": {},
   "source": [
    "We can use `replace` to recode the values and store the result as a new column in the DataFrame."
   ]
  },
  {
   "cell_type": "code",
   "execution_count": 14,
   "metadata": {},
   "outputs": [],
   "source": [
    "gss['fair3'] = gss['fair'].replace(d_fair)"
   ]
  },
  {
   "cell_type": "markdown",
   "metadata": {},
   "source": [
    "And we'll use `values` to check whether it worked."
   ]
  },
  {
   "cell_type": "code",
   "execution_count": 15,
   "metadata": {},
   "outputs": [
    {
     "data": {
      "text/plain": [
       "0.0    15435\n",
       "0.5     2755\n",
       "1.0    22806\n",
       "Name: fair3, dtype: int64"
      ]
     },
     "execution_count": 15,
     "metadata": {},
     "output_type": "execute_result"
    }
   ],
   "source": [
    "values(gss['fair3'])"
   ]
  },
  {
   "cell_type": "markdown",
   "metadata": {},
   "source": [
    "## Fairness by group\n",
    "\n",
    "Now let's see who thinks people are more fair, conservatives or liberals.\n",
    "\n",
    "We'll group the respondents by `polviews3`."
   ]
  },
  {
   "cell_type": "code",
   "execution_count": 16,
   "metadata": {},
   "outputs": [],
   "source": [
    "by_polviews = gss.groupby('polviews3')"
   ]
  },
  {
   "cell_type": "markdown",
   "metadata": {},
   "source": [
    "And compute the mean of `fair3` in each group."
   ]
  },
  {
   "cell_type": "code",
   "execution_count": 17,
   "metadata": {},
   "outputs": [
    {
     "data": {
      "text/plain": [
       "polviews3\n",
       "Conservative    0.614616\n",
       "Liberal         0.586606\n",
       "Moderate        0.577601\n",
       "Name: fair3, dtype: float64"
      ]
     },
     "execution_count": 17,
     "metadata": {},
     "output_type": "execute_result"
    }
   ],
   "source": [
    "by_polviews['fair3'].mean()"
   ]
  },
  {
   "cell_type": "markdown",
   "metadata": {},
   "source": [
    "The way we coded `fair3`, higher values mean more respondents think people try to be fair.\n",
    "\n",
    "So it looks like conservatives are a little more optimistic, in this sense, than liberals and moderates.\n",
    "\n",
    "But this result is averaged over the last 50 years.  Let's see how things have changed over time."
   ]
  },
  {
   "cell_type": "markdown",
   "metadata": {},
   "source": [
    "## Fairness over time\n",
    "\n",
    "As we saw in the previous notebook, we can use `groupby` to group responses by year."
   ]
  },
  {
   "cell_type": "code",
   "execution_count": 18,
   "metadata": {},
   "outputs": [],
   "source": [
    "gss_by_year = gss.groupby('year')"
   ]
  },
  {
   "cell_type": "markdown",
   "metadata": {},
   "source": [
    "From the result we can select `fair3` and compute the mean."
   ]
  },
  {
   "cell_type": "code",
   "execution_count": 19,
   "metadata": {},
   "outputs": [],
   "source": [
    "fair_by_year = gss_by_year['fair3'].mean()"
   ]
  },
  {
   "cell_type": "markdown",
   "metadata": {},
   "source": [
    "Here's the result, which shows the fraction of people who say people try to be fair, plotted over time.  As in the previous notebook, we plot the data points themselves with circles and a local regression model as a line."
   ]
  },
  {
   "cell_type": "code",
   "execution_count": 20,
   "metadata": {},
   "outputs": [
    {
     "data": {
      "image/png": "[encoded data removed]",
      "text/plain": [
       "<Figure size 432x288 with 1 Axes>"
      ]
     },
     "metadata": {
      "needs_background": "light"
     },
     "output_type": "display_data"
    }
   ],
   "source": [
    "plot_series_lowess(fair_by_year, 'C1')\n",
    "\n",
    "decorate(xlabel='Year',\n",
    "         ylabel='Fraction saying yes',\n",
    "         xlim=[1970, 2020],\n",
    "         title='Would most people try to be fair?')"
   ]
  },
  {
   "cell_type": "markdown",
   "metadata": {},
   "source": [
    "## Fairness over time by group\n",
    "\n",
    "So far, we have grouped by `polviews3` and computed the mean of `fair3` in each group.\n",
    "\n",
    "Then we grouped by `year` and computed the mean of `fair3` for each year.\n",
    "\n",
    "Now I want to group by `polviews3` and `year`, and compute the mean of `fair3` in each group over time.\n",
    "\n",
    "We could do the computation I just described \"by hand\" using the tools we already have, but it is so common and useful that it has a name: it is called a \"pivot table\", and [Pandas provides a function that computes it](https://pandas.pydata.org/pandas-docs/stable/reference/api/pandas.pivot_table.html).\n",
    "\n",
    "The Pandas function `pivot_table` takes the following arguments:\n",
    "\n",
    "* `values`, which is the name of the variable we want to summarize: `fair3` in this example.\n",
    "\n",
    "* `index`, which is the name of the variable that will provide the row labels: `year` in this example.\n",
    "\n",
    "* `columns`, which is the name of the variable that will provide the column labels: `polview3` in this example.\n",
    "\n",
    "* `aggfunc`, which is the function used to \"aggregate\", or summarize, the values: `mean` in this example."
   ]
  },
  {
   "cell_type": "code",
   "execution_count": 21,
   "metadata": {},
   "outputs": [],
   "source": [
    "table = gss.pivot_table(values='fair3', \n",
    "                        index='year', \n",
    "                        columns='polviews3', \n",
    "                        aggfunc='mean')"
   ]
  },
  {
   "cell_type": "markdown",
   "metadata": {},
   "source": [
    "The result is a table that has years running down the rows and political alignment running across the columns.\n",
    "\n",
    "Each entry in the table is the mean of `fair3` for a given group in a given year."
   ]
  },
  {
   "cell_type": "code",
   "execution_count": 22,
   "metadata": {},
   "outputs": [
    {
     "data": {
      "text/html": [
       "<div>\n",
       "<style scoped>\n",
       "    .dataframe tbody tr th:only-of-type {\n",
       "        vertical-align: middle;\n",
       "    }\n",
       "\n",
       "    .dataframe tbody tr th {\n",
       "        vertical-align: top;\n",
       "    }\n",
       "\n",
       "    .dataframe thead th {\n",
       "        text-align: right;\n",
       "    }\n",
       "</style>\n",
       "<table border=\"1\" class=\"dataframe\">\n",
       "  <thead>\n",
       "    <tr style=\"text-align: right;\">\n",
       "      <th>polviews3</th>\n",
       "      <th>Conservative</th>\n",
       "      <th>Liberal</th>\n",
       "      <th>Moderate</th>\n",
       "    </tr>\n",
       "    <tr>\n",
       "      <th>year</th>\n",
       "      <th></th>\n",
       "      <th></th>\n",
       "      <th></th>\n",
       "    </tr>\n",
       "  </thead>\n",
       "  <tbody>\n",
       "    <tr>\n",
       "      <th>1975</th>\n",
       "      <td>0.653941</td>\n",
       "      <td>0.649775</td>\n",
       "      <td>0.689493</td>\n",
       "    </tr>\n",
       "    <tr>\n",
       "      <th>1976</th>\n",
       "      <td>0.643973</td>\n",
       "      <td>0.607673</td>\n",
       "      <td>0.624555</td>\n",
       "    </tr>\n",
       "    <tr>\n",
       "      <th>1978</th>\n",
       "      <td>0.725636</td>\n",
       "      <td>0.689614</td>\n",
       "      <td>0.686364</td>\n",
       "    </tr>\n",
       "    <tr>\n",
       "      <th>1980</th>\n",
       "      <td>0.624719</td>\n",
       "      <td>0.586538</td>\n",
       "      <td>0.658416</td>\n",
       "    </tr>\n",
       "    <tr>\n",
       "      <th>1983</th>\n",
       "      <td>0.604240</td>\n",
       "      <td>0.615854</td>\n",
       "      <td>0.515873</td>\n",
       "    </tr>\n",
       "  </tbody>\n",
       "</table>\n",
       "</div>"
      ],
      "text/plain": [
       "polviews3  Conservative   Liberal  Moderate\n",
       "year                                       \n",
       "1975           0.653941  0.649775  0.689493\n",
       "1976           0.643973  0.607673  0.624555\n",
       "1978           0.725636  0.689614  0.686364\n",
       "1980           0.624719  0.586538  0.658416\n",
       "1983           0.604240  0.615854  0.515873"
      ]
     },
     "execution_count": 22,
     "metadata": {},
     "output_type": "execute_result"
    }
   ],
   "source": [
    "table.head()"
   ]
  },
  {
   "cell_type": "markdown",
   "metadata": {},
   "source": [
    "Reading across the first row, we can see that in 1975, moderates were slightly more optimistic than the other groups.\n",
    "\n",
    "Reading down the first column, we can see that the estimated mean of `fair3` among conservatives varies from year to year.  It is hard to tell looking at these numbers whether it is trending up or down; we can get a better view by plotting the results."
   ]
  },
  {
   "cell_type": "markdown",
   "metadata": {},
   "source": [
    "## Plotting the results"
   ]
  },
  {
   "cell_type": "markdown",
   "metadata": {},
   "source": [
    "Before we plot the results, I'll make a dictionary that maps from each group to a color."
   ]
  },
  {
   "cell_type": "code",
   "execution_count": 23,
   "metadata": {},
   "outputs": [
    {
     "data": {
      "image/png": "[encoded data removed]",
      "text/plain": [
       "<Figure size 360x72 with 1 Axes>"
      ]
     },
     "metadata": {
      "needs_background": "light"
     },
     "output_type": "display_data"
    }
   ],
   "source": [
    "muted = sns.color_palette('muted', 5)\n",
    "sns.palplot(muted)"
   ]
  },
  {
   "cell_type": "code",
   "execution_count": 24,
   "metadata": {},
   "outputs": [],
   "source": [
    "colors = {'Conservative': muted[3], \n",
    "              'Moderate': muted[4], \n",
    "               'Liberal': muted[0]}"
   ]
  },
  {
   "cell_type": "markdown",
   "metadata": {},
   "source": [
    "Now we can use `plot_columns_lowess` to see the results."
   ]
  },
  {
   "cell_type": "code",
   "execution_count": 25,
   "metadata": {},
   "outputs": [],
   "source": [
    "columns = ['Conservative', 'Liberal', 'Moderate']"
   ]
  },
  {
   "cell_type": "code",
   "execution_count": 26,
   "metadata": {},
   "outputs": [
    {
     "data": {
      "image/png": "[encoded data removed]",
      "text/plain": [
       "<Figure size 432x288 with 1 Axes>"
      ]
     },
     "metadata": {
      "needs_background": "light"
     },
     "output_type": "display_data"
    }
   ],
   "source": [
    "plot_columns_lowess(table, columns, colors)\n",
    "\n",
    "decorate(xlabel='Year',\n",
    "         ylabel='Fraction saying yes',\n",
    "         xlim=[1970, 2020],\n",
    "         title='Would most people try to be fair?')\n",
    "\n",
    "plt.legend();"
   ]
  },
  {
   "cell_type": "markdown",
   "metadata": {},
   "source": [
    "The fraction of respondents who think people try to be fair has dropped in all three groups, although it looks like liberals might have leveled off.\n",
    "\n",
    "In 1975, liberals were the least optimistic group.  In 2018, they might be the most optimistic.\n",
    "\n",
    "But the responses are quite noisy, so we should not be too confident about these conclusions.\n",
    "\n",
    "We can get a sense of how reliable they are by running the resampling process a few times and checking how much the results vary."
   ]
  },
  {
   "cell_type": "markdown",
   "metadata": {},
   "source": [
    "## Simulating possible datasets\n",
    "\n",
    "The figures we have generated so far in this notebook are based on a single resampling of the GSS data.  Some of the features we see in these figures might be due to random sampling rather than actual changes in the world.\n",
    "\n",
    "By generating the same figures with different resampled datasets, we can get a sense of how much variation there is due to random sampling.\n",
    "\n",
    "To make that easier, the following function contains the code from the previous analysis all in one place."
   ]
  },
  {
   "cell_type": "code",
   "execution_count": 27,
   "metadata": {},
   "outputs": [],
   "source": [
    "def plot_by_polviews(gss):\n",
    "    \"\"\"Plot mean response by polviews and year.\n",
    "    \n",
    "    gss: DataFrame\n",
    "    \"\"\"\n",
    "    gss['polviews3'] = gss['polviews'].replace(d_polviews)\n",
    "    gss['fair3'] = gss['fair'].replace(d_fair)\n",
    "    \n",
    "    table = gss.pivot_table(values='fair3', \n",
    "                        index='year', \n",
    "                        columns='polviews3', \n",
    "                        aggfunc='mean')\n",
    "\n",
    "    plot_columns_lowess(table, columns, colors)\n",
    "\n",
    "    decorate(xlabel='Year',\n",
    "         ylabel='Fraction saying yes',\n",
    "         xlim=[1970, 2020],\n",
    "         title='Would most people try to be fair?')"
   ]
  },
  {
   "cell_type": "markdown",
   "metadata": {},
   "source": [
    "Now we can loop through the three resampled datasets in the HDF5 file and generate a figure for each one."
   ]
  },
  {
   "cell_type": "code",
   "execution_count": 28,
   "metadata": {},
   "outputs": [
    {
     "data": {
      "image/png": "[encoded data removed]",
      "text/plain": [
       "<Figure size 432x288 with 1 Axes>"
      ]
     },
     "metadata": {
      "needs_background": "light"
     },
     "output_type": "display_data"
    },
    {
     "data": {
      "image/png": "[encoded data removed]",
      "text/plain": [
       "<Figure size 432x288 with 1 Axes>"
      ]
     },
     "metadata": {
      "needs_background": "light"
     },
     "output_type": "display_data"
    },
    {
     "data": {
      "image/png": "[encoded data removed]",
      "text/plain": [
       "<Figure size 432x288 with 1 Axes>"
      ]
     },
     "metadata": {
      "needs_background": "light"
     },
     "output_type": "display_data"
    }
   ],
   "source": [
    "for key in ['gss0', 'gss1', 'gss2']:\n",
    "    df = pd.read_hdf('gss_eda.3.hdf5', key)\n",
    "\n",
    "    plt.figure()\n",
    "    plot_by_polviews(df)"
   ]
  },
  {
   "cell_type": "markdown",
   "metadata": {},
   "source": [
    "Features that are the same in all three figures are more likely to reflect things actually happening in the world.  Features that differ substantially between the figures are more likely to be artifacts of random sampling.\n",
    "\n",
    "In this context, \"artifact\" has the sense of [\"something observed in a scientific investigation or experiment that is not naturally present but occurs as a result of the preparative or investigative procedure\"](https://www.lexico.com/en/definition/artifact)."
   ]
  },
  {
   "cell_type": "markdown",
   "metadata": {},
   "source": [
    "## Trust and helpfulness\n",
    "\n",
    "As an exercise, you can run the same analysis with one of the other variable related to outlook, `trust` and `helpful`:\n",
    "\n",
    "The variable `trust` contains responses to [this question](https://gssdataexplorer.norc.org/projects/52787/variables/441/vshow)\n",
    "\n",
    "> Generally speaking, would you say that most people can be trusted or that you can't be too careful in dealing with people?\n",
    "\n",
    "The valid responses are:\n",
    "\n",
    "```\n",
    "1\tCan trust\n",
    "2\tCannot trust\n",
    "3\tDepends\n",
    "```"
   ]
  },
  {
   "cell_type": "markdown",
   "metadata": {},
   "source": [
    "The variable `helpful` contains responses to [this question](https://gssdataexplorer.norc.org/projects/52787/variables/439/vshow):\n",
    "\n",
    "> Would you say that most of the time people try to be helpful, or that they are mostly just looking out for themselves?\n",
    "\n",
    "The valid responses are\n",
    "\n",
    "```\n",
    "1\tHelpful\n",
    "2\tLookout for self\n",
    "3\tDepends\n",
    "```"
   ]
  },
  {
   "cell_type": "markdown",
   "metadata": {},
   "source": [
    "Here are the steps I suggest:\n",
    "    \n",
    "1) If you have not already saved this notebook, you might want to do that first. If you are running on Colab, select \"Save a copy in Drive\" from the File menu.\n",
    "\n",
    "2) Now, before you modify this notebook, make another copy and give it an appropriate name.\n",
    "\n",
    "3) Search and replace `fair` with either `trust` or `helpful` (use \"Edit->Find and replace\").\n",
    "\n",
    "4) Run the notebook from the beginning and see what other changes you have to make.\n",
    "\n",
    "I suggest you code `trust` or `helpful` so that the most optimistic response is 1, the least optimistic response is 0, and \"Depends\" is 0.5.\n",
    "\n",
    "Write a few sentences to describe the relationship between political alignment and outlook."
   ]
  },
  {
   "cell_type": "markdown",
   "metadata": {},
   "source": [
    "**Optional:** If you would like to publish your results as a report, here's how:\n",
    "\n",
    "0) Make sure you have saved your modified version of the notebook with an appropriate file name.\n",
    "\n",
    "1) Write your report by filling in the template below.\n",
    "\n",
    "2) Move your filled-in template to the top of the notebook.\n",
    "\n",
    "3) Hide or delete the cells a reader does not need to see.\n",
    "\n",
    "4) If you are running on Colab, use the Share button in the upper right to get a link you can share.\n",
    "\n",
    "5) Share the link with anyone who might be interested in your report."
   ]
  },
  {
   "cell_type": "markdown",
   "metadata": {},
   "source": [
    "(Report template: Fill in the information below, then delete everything in parentheses)\n",
    "\n",
    "## Headline that summarizes your results\n",
    "\n",
    "By (Put your name here)\n",
    "\n",
    "(Today's date)\n",
    "\n",
    "(Write a sentence or two that summarizes what you found.  Maybe include a few numbers, rounded off to about 2 significant digits.)\n",
    "\n",
    "(Explain where the data came from, what years it covers, and the number of respondents)\n",
    "\n",
    "(Explain the methodology)\n",
    "\n",
    "(Present 1-2 figures that show your results)\n",
    "\n",
    "(Interpret the figures for the reader)\n",
    "\n",
    "(Having seen these results, what other questions are raised?)\n",
    "\n",
    "(Include the following text, which attributes the source of this material)\n",
    "\n",
    "This is a modified version of a notebook by Allen Downey, [available here](https://github.com/AllenDowney/PoliticalAlignmentCaseStudy) under the [MIT License](https://en.wikipedia.org/wiki/MIT_License)."
   ]
  },
  {
   "cell_type": "code",
   "execution_count": null,
   "metadata": {},
   "outputs": [],
   "source": []
  }
 ],
 "metadata": {
  "kernelspec": {
   "display_name": "Python 3",
   "language": "python",
   "name": "python3"
  },
  "language_info": {
   "codemirror_mode": {
    "name": "ipython",
    "version": 3
   },
   "file_extension": ".py",
   "mimetype": "text/x-python",
   "name": "python",
   "nbconvert_exporter": "python",
   "pygments_lexer": "ipython3",
   "version": "3.7.6"
  }
 },
 "nbformat": 4,
 "nbformat_minor": 1
}
