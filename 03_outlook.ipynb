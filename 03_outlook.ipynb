{
 "cells": [
  {
   "cell_type": "markdown",
   "metadata": {},
   "source": [
    "# Political Alignment and Outlook"
   ]
  },
  {
   "cell_type": "markdown",
   "metadata": {
    "tags": [
     "remove-print"
    ]
   },
   "source": [
    "This is the third in a series of notebooks that make up a [case study in exploratory data analysis](https://allendowney.github.io/PoliticalAlignmentCaseStudy/).\n",
    "This case study is part of the [*Elements of Data Science*](https://allendowney.github.io/ElementsOfDataScience/) curriculum."
   ]
  },
  {
   "cell_type": "markdown",
   "metadata": {},
   "source": [
    "In the previous chapter, we used data from the General Social Survey (GSS) to plot changes in political alignment over time.\n",
    "\n",
    "In this notebook, we explore the relationship between political alignment and questions related to \"outlook\", like:\n",
    "\n",
    "* `happy`: Taken all together, how would you say things are these days--would you say that you are very happy, pretty happy, or not too happy?\n",
    "\n",
    "* `trust`: Generally speaking, would you say that most people can be trusted or that you can't be too careful in dealing with people?\n",
    "\n",
    "* `helpful`: Would you say that most of the time people try to be helpful, or that they are mostly just looking out for themselves?\n",
    "\n",
    "* `fair`: Do you think most people would try to take advantage of you if they got a chance, or would they try to be fair?\n",
    "\n",
    "As an example, I'll look at `fair`, and then as an exercise you can look at one of the others.\n",
    "\n",
    "1. First we'll use `groupby` to compare the average response between groups and plot the average as a function of time.\n",
    "\n",
    "2. We'll use the Pandas function `pivot table` to compute the average response within each group as a function of time.\n",
    "\n",
    "3. And we'll use resampling to see whether the features we see in the figures might be due to randomness, or whether they are likely to reflect actual changes in the works."
   ]
  },
  {
   "cell_type": "markdown",
   "metadata": {
    "tags": [
     "remove-print"
    ]
   },
   "source": [
    "If everything we need is installed, the following cell should run without error."
   ]
  },
  {
   "cell_type": "code",
   "execution_count": 10,
   "metadata": {
    "tags": [
     "remove-print"
    ]
   },
   "outputs": [
    {
     "data": {
      "application/javascript": [
       "\n",
       "            setTimeout(function() {\n",
       "                var nbb_cell_id = 10;\n",
       "                var nbb_unformatted_code = \"import pandas as pd\\nimport numpy as np\\nimport matplotlib.pyplot as plt\\nimport seaborn as sns\\n\\n%load_ext nb_black\";\n",
       "                var nbb_formatted_code = \"import pandas as pd\\nimport numpy as np\\nimport matplotlib.pyplot as plt\\nimport seaborn as sns\\n\\n%load_ext nb_black\";\n",
       "                var nbb_cells = Jupyter.notebook.get_cells();\n",
       "                for (var i = 0; i < nbb_cells.length; ++i) {\n",
       "                    if (nbb_cells[i].input_prompt_number == nbb_cell_id) {\n",
       "                        if (nbb_cells[i].get_text() == nbb_unformatted_code) {\n",
       "                             nbb_cells[i].set_text(nbb_formatted_code);\n",
       "                        }\n",
       "                        break;\n",
       "                    }\n",
       "                }\n",
       "            }, 500);\n",
       "            "
      ],
      "text/plain": [
       "<IPython.core.display.Javascript object>"
      ]
     },
     "metadata": {},
     "output_type": "display_data"
    }
   ],
   "source": [
    "import pandas as pd\n",
    "import numpy as np\n",
    "import matplotlib.pyplot as plt\n",
    "import seaborn as sns\n",
    "\n",
    "%load_ext nb_black"
   ]
  },
  {
   "cell_type": "markdown",
   "metadata": {
    "tags": [
     "remove-print"
    ]
   },
   "source": [
    "The following cells define functions from previous notebooks we will use again."
   ]
  },
  {
   "cell_type": "code",
   "execution_count": 11,
   "metadata": {
    "tags": [
     "remove-print"
    ]
   },
   "outputs": [
    {
     "data": {
      "application/javascript": [
       "\n",
       "            setTimeout(function() {\n",
       "                var nbb_cell_id = 11;\n",
       "                var nbb_unformatted_code = \"def values(series):\\n    \\\"\\\"\\\"Count the values and sort.\\n    \\n    series: pd.Series\\n    \\n    returns: series mapping from values to frequencies\\n    \\\"\\\"\\\"\\n    return series.value_counts().sort_index()\";\n",
       "                var nbb_formatted_code = \"def values(series):\\n    \\\"\\\"\\\"Count the values and sort.\\n\\n    series: pd.Series\\n\\n    returns: series mapping from values to frequencies\\n    \\\"\\\"\\\"\\n    return series.value_counts().sort_index()\";\n",
       "                var nbb_cells = Jupyter.notebook.get_cells();\n",
       "                for (var i = 0; i < nbb_cells.length; ++i) {\n",
       "                    if (nbb_cells[i].input_prompt_number == nbb_cell_id) {\n",
       "                        if (nbb_cells[i].get_text() == nbb_unformatted_code) {\n",
       "                             nbb_cells[i].set_text(nbb_formatted_code);\n",
       "                        }\n",
       "                        break;\n",
       "                    }\n",
       "                }\n",
       "            }, 500);\n",
       "            "
      ],
      "text/plain": [
       "<IPython.core.display.Javascript object>"
      ]
     },
     "metadata": {},
     "output_type": "display_data"
    }
   ],
   "source": [
    "def values(series):\n",
    "    \"\"\"Count the values and sort.\n",
    "\n",
    "    series: pd.Series\n",
    "\n",
    "    returns: series mapping from values to frequencies\n",
    "    \"\"\"\n",
    "    return series.value_counts().sort_index()"
   ]
  },
  {
   "cell_type": "code",
   "execution_count": 12,
   "metadata": {
    "tags": [
     "remove-print"
    ]
   },
   "outputs": [
    {
     "data": {
      "application/javascript": [
       "\n",
       "            setTimeout(function() {\n",
       "                var nbb_cell_id = 12;\n",
       "                var nbb_unformatted_code = \"def decorate(**options):\\n    \\\"\\\"\\\"Decorate the current axes.\\n    \\n    Call decorate with keyword arguments like\\n    decorate(title='Title',\\n             xlabel='x',\\n             ylabel='y')\\n             \\n    The keyword arguments can be any of the axis properties\\n    https://matplotlib.org/api/axes_api.html\\n    \\\"\\\"\\\"\\n    ax = plt.gca()\\n    ax.set(**options)\\n    \\n    handles, labels = ax.get_legend_handles_labels()\\n    if handles:\\n        ax.legend(handles, labels)\\n\\n    plt.tight_layout()\";\n",
       "                var nbb_formatted_code = \"def decorate(**options):\\n    \\\"\\\"\\\"Decorate the current axes.\\n\\n    Call decorate with keyword arguments like\\n    decorate(title='Title',\\n             xlabel='x',\\n             ylabel='y')\\n\\n    The keyword arguments can be any of the axis properties\\n    https://matplotlib.org/api/axes_api.html\\n    \\\"\\\"\\\"\\n    ax = plt.gca()\\n    ax.set(**options)\\n\\n    handles, labels = ax.get_legend_handles_labels()\\n    if handles:\\n        ax.legend(handles, labels)\\n\\n    plt.tight_layout()\";\n",
       "                var nbb_cells = Jupyter.notebook.get_cells();\n",
       "                for (var i = 0; i < nbb_cells.length; ++i) {\n",
       "                    if (nbb_cells[i].input_prompt_number == nbb_cell_id) {\n",
       "                        if (nbb_cells[i].get_text() == nbb_unformatted_code) {\n",
       "                             nbb_cells[i].set_text(nbb_formatted_code);\n",
       "                        }\n",
       "                        break;\n",
       "                    }\n",
       "                }\n",
       "            }, 500);\n",
       "            "
      ],
      "text/plain": [
       "<IPython.core.display.Javascript object>"
      ]
     },
     "metadata": {},
     "output_type": "display_data"
    }
   ],
   "source": [
    "def decorate(**options):\n",
    "    \"\"\"Decorate the current axes.\n",
    "\n",
    "    Call decorate with keyword arguments like\n",
    "    decorate(title='Title',\n",
    "             xlabel='x',\n",
    "             ylabel='y')\n",
    "\n",
    "    The keyword arguments can be any of the axis properties\n",
    "    https://matplotlib.org/api/axes_api.html\n",
    "    \"\"\"\n",
    "    ax = plt.gca()\n",
    "    ax.set(**options)\n",
    "\n",
    "    handles, labels = ax.get_legend_handles_labels()\n",
    "    if handles:\n",
    "        ax.legend(handles, labels)\n",
    "\n",
    "    plt.tight_layout()"
   ]
  },
  {
   "cell_type": "code",
   "execution_count": 13,
   "metadata": {
    "tags": [
     "remove-print"
    ]
   },
   "outputs": [
    {
     "data": {
      "application/javascript": [
       "\n",
       "            setTimeout(function() {\n",
       "                var nbb_cell_id = 13;\n",
       "                var nbb_unformatted_code = \"from statsmodels.nonparametric.smoothers_lowess import lowess\\n\\ndef make_lowess(series):\\n    \\\"\\\"\\\"Use LOWESS to compute a smooth line.\\n    \\n    series: pd.Series\\n    \\n    returns: pd.Series\\n    \\\"\\\"\\\"\\n    y = series.values\\n    x = series.index.values\\n\\n    smooth = lowess(y, x)\\n    index, data = np.transpose(smooth)\\n\\n    return pd.Series(data, index=index) \";\n",
       "                var nbb_formatted_code = \"from statsmodels.nonparametric.smoothers_lowess import lowess\\n\\n\\ndef make_lowess(series):\\n    \\\"\\\"\\\"Use LOWESS to compute a smooth line.\\n\\n    series: pd.Series\\n\\n    returns: pd.Series\\n    \\\"\\\"\\\"\\n    y = series.values\\n    x = series.index.values\\n\\n    smooth = lowess(y, x)\\n    index, data = np.transpose(smooth)\\n\\n    return pd.Series(data, index=index)\";\n",
       "                var nbb_cells = Jupyter.notebook.get_cells();\n",
       "                for (var i = 0; i < nbb_cells.length; ++i) {\n",
       "                    if (nbb_cells[i].input_prompt_number == nbb_cell_id) {\n",
       "                        if (nbb_cells[i].get_text() == nbb_unformatted_code) {\n",
       "                             nbb_cells[i].set_text(nbb_formatted_code);\n",
       "                        }\n",
       "                        break;\n",
       "                    }\n",
       "                }\n",
       "            }, 500);\n",
       "            "
      ],
      "text/plain": [
       "<IPython.core.display.Javascript object>"
      ]
     },
     "metadata": {},
     "output_type": "display_data"
    }
   ],
   "source": [
    "from statsmodels.nonparametric.smoothers_lowess import lowess\n",
    "\n",
    "\n",
    "def make_lowess(series):\n",
    "    \"\"\"Use LOWESS to compute a smooth line.\n",
    "\n",
    "    series: pd.Series\n",
    "\n",
    "    returns: pd.Series\n",
    "    \"\"\"\n",
    "    y = series.values\n",
    "    x = series.index.values\n",
    "\n",
    "    smooth = lowess(y, x)\n",
    "    index, data = np.transpose(smooth)\n",
    "\n",
    "    return pd.Series(data, index=index)"
   ]
  },
  {
   "cell_type": "code",
   "execution_count": 14,
   "metadata": {
    "tags": [
     "remove-print"
    ]
   },
   "outputs": [
    {
     "data": {
      "application/javascript": [
       "\n",
       "            setTimeout(function() {\n",
       "                var nbb_cell_id = 14;\n",
       "                var nbb_unformatted_code = \"def plot_series_lowess(series, color):\\n    \\\"\\\"\\\"Plots a series of data points and a smooth line.\\n    \\n    series: pd.Series\\n    color: string or tuple\\n    \\\"\\\"\\\"\\n    series.plot(linewidth=0, marker='o', color=color, alpha=0.5)\\n    smooth = make_lowess(series)\\n    smooth.plot(label='_', color=color)\";\n",
       "                var nbb_formatted_code = \"def plot_series_lowess(series, color):\\n    \\\"\\\"\\\"Plots a series of data points and a smooth line.\\n\\n    series: pd.Series\\n    color: string or tuple\\n    \\\"\\\"\\\"\\n    series.plot(linewidth=0, marker=\\\"o\\\", color=color, alpha=0.5)\\n    smooth = make_lowess(series)\\n    smooth.plot(label=\\\"_\\\", color=color)\";\n",
       "                var nbb_cells = Jupyter.notebook.get_cells();\n",
       "                for (var i = 0; i < nbb_cells.length; ++i) {\n",
       "                    if (nbb_cells[i].input_prompt_number == nbb_cell_id) {\n",
       "                        if (nbb_cells[i].get_text() == nbb_unformatted_code) {\n",
       "                             nbb_cells[i].set_text(nbb_formatted_code);\n",
       "                        }\n",
       "                        break;\n",
       "                    }\n",
       "                }\n",
       "            }, 500);\n",
       "            "
      ],
      "text/plain": [
       "<IPython.core.display.Javascript object>"
      ]
     },
     "metadata": {},
     "output_type": "display_data"
    }
   ],
   "source": [
    "def plot_series_lowess(series, color):\n",
    "    \"\"\"Plots a series of data points and a smooth line.\n",
    "\n",
    "    series: pd.Series\n",
    "    color: string or tuple\n",
    "    \"\"\"\n",
    "    series.plot(linewidth=0, marker=\"o\", color=color, alpha=0.5)\n",
    "    smooth = make_lowess(series)\n",
    "    smooth.plot(label=\"_\", color=color)"
   ]
  },
  {
   "cell_type": "code",
   "execution_count": 15,
   "metadata": {
    "tags": [
     "remove-print"
    ]
   },
   "outputs": [
    {
     "data": {
      "application/javascript": [
       "\n",
       "            setTimeout(function() {\n",
       "                var nbb_cell_id = 15;\n",
       "                var nbb_unformatted_code = \"def plot_columns_lowess(table, columns, colors):\\n    \\\"\\\"\\\"Plot the columns in a DataFrame.\\n    \\n    table: DataFrame with a cross tabulation\\n    columns: list of column names, in the desired order\\n    colors: mapping from column names to colors\\n    \\\"\\\"\\\"\\n    for col in columns:\\n        series = table[col]\\n        plot_series_lowess(series, colors[col])\";\n",
       "                var nbb_formatted_code = \"def plot_columns_lowess(table, columns, colors):\\n    \\\"\\\"\\\"Plot the columns in a DataFrame.\\n\\n    table: DataFrame with a cross tabulation\\n    columns: list of column names, in the desired order\\n    colors: mapping from column names to colors\\n    \\\"\\\"\\\"\\n    for col in columns:\\n        series = table[col]\\n        plot_series_lowess(series, colors[col])\";\n",
       "                var nbb_cells = Jupyter.notebook.get_cells();\n",
       "                for (var i = 0; i < nbb_cells.length; ++i) {\n",
       "                    if (nbb_cells[i].input_prompt_number == nbb_cell_id) {\n",
       "                        if (nbb_cells[i].get_text() == nbb_unformatted_code) {\n",
       "                             nbb_cells[i].set_text(nbb_formatted_code);\n",
       "                        }\n",
       "                        break;\n",
       "                    }\n",
       "                }\n",
       "            }, 500);\n",
       "            "
      ],
      "text/plain": [
       "<IPython.core.display.Javascript object>"
      ]
     },
     "metadata": {},
     "output_type": "display_data"
    }
   ],
   "source": [
    "def plot_columns_lowess(table, columns, colors):\n",
    "    \"\"\"Plot the columns in a DataFrame.\n",
    "\n",
    "    table: DataFrame with a cross tabulation\n",
    "    columns: list of column names, in the desired order\n",
    "    colors: mapping from column names to colors\n",
    "    \"\"\"\n",
    "    for col in columns:\n",
    "        series = table[col]\n",
    "        plot_series_lowess(series, colors[col])"
   ]
  },
  {
   "cell_type": "markdown",
   "metadata": {
    "tags": [
     "remove-print"
    ]
   },
   "source": [
    "## Loading the data\n",
    "\n",
    "In the first notebook, we downloaded GSS data, loaded and cleaned it, resampled it to correct for stratified sampling, and then saved the data in an HDF5 file, which is much faster to load.  Now we'll download the HDF5 file and load it.\n",
    "\n",
    "The following cell downloads the file if necessary."
   ]
  },
  {
   "cell_type": "code",
   "execution_count": 39,
   "metadata": {
    "tags": [
     "remove-print"
    ]
   },
   "outputs": [
    {
     "data": {
      "application/javascript": [
       "\n",
       "            setTimeout(function() {\n",
       "                var nbb_cell_id = 39;\n",
       "                var nbb_unformatted_code = \"from os.path import basename, exists\\n\\n\\ndef download(url):\\n    filename = basename(url)\\n    if not exists(filename):\\n        from urllib.request import urlretrieve\\n\\n        local, _ = urlretrieve(url, filename)\\n        print(\\\"Downloaded \\\" + local)\\n\\n\\ndownload(\\n    \\\"https://github.com/AllenDowney/PoliticalAlignmentCaseStudy/raw/master/gss_eds.3.hdf5\\\"\\n)\";\n",
       "                var nbb_formatted_code = \"from os.path import basename, exists\\n\\n\\ndef download(url):\\n    filename = basename(url)\\n    if not exists(filename):\\n        from urllib.request import urlretrieve\\n\\n        local, _ = urlretrieve(url, filename)\\n        print(\\\"Downloaded \\\" + local)\\n\\n\\ndownload(\\n    \\\"https://github.com/AllenDowney/PoliticalAlignmentCaseStudy/raw/master/gss_eds.3.hdf5\\\"\\n)\";\n",
       "                var nbb_cells = Jupyter.notebook.get_cells();\n",
       "                for (var i = 0; i < nbb_cells.length; ++i) {\n",
       "                    if (nbb_cells[i].input_prompt_number == nbb_cell_id) {\n",
       "                        if (nbb_cells[i].get_text() == nbb_unformatted_code) {\n",
       "                             nbb_cells[i].set_text(nbb_formatted_code);\n",
       "                        }\n",
       "                        break;\n",
       "                    }\n",
       "                }\n",
       "            }, 500);\n",
       "            "
      ],
      "text/plain": [
       "<IPython.core.display.Javascript object>"
      ]
     },
     "metadata": {},
     "output_type": "display_data"
    }
   ],
   "source": [
    "from os.path import basename, exists\n",
    "\n",
    "\n",
    "def download(url):\n",
    "    filename = basename(url)\n",
    "    if not exists(filename):\n",
    "        from urllib.request import urlretrieve\n",
    "\n",
    "        local, _ = urlretrieve(url, filename)\n",
    "        print(\"Downloaded \" + local)\n",
    "\n",
    "\n",
    "download(\n",
    "    \"https://github.com/AllenDowney/PoliticalAlignmentCaseStudy/raw/master/gss_eds.3.hdf5\"\n",
    ")"
   ]
  },
  {
   "cell_type": "markdown",
   "metadata": {},
   "source": [
    "I've created an HDF file that contains three `DataFrame` objects with resampled GSS data.  We'll work with the first resampling, `gss0`, to get started; at the end of this chapter, we'll see the other two as well."
   ]
  },
  {
   "cell_type": "code",
   "execution_count": 40,
   "metadata": {},
   "outputs": [
    {
     "data": {
      "text/plain": [
       "(64814, 204)"
      ]
     },
     "execution_count": 40,
     "metadata": {},
     "output_type": "execute_result"
    },
    {
     "data": {
      "application/javascript": [
       "\n",
       "            setTimeout(function() {\n",
       "                var nbb_cell_id = 40;\n",
       "                var nbb_unformatted_code = \"datafile = \\\"gss_eds.3.hdf5\\\"\\ngss = pd.read_hdf(datafile, \\\"gss0\\\")\\ngss.shape\";\n",
       "                var nbb_formatted_code = \"datafile = \\\"gss_eds.3.hdf5\\\"\\ngss = pd.read_hdf(datafile, \\\"gss0\\\")\\ngss.shape\";\n",
       "                var nbb_cells = Jupyter.notebook.get_cells();\n",
       "                for (var i = 0; i < nbb_cells.length; ++i) {\n",
       "                    if (nbb_cells[i].input_prompt_number == nbb_cell_id) {\n",
       "                        if (nbb_cells[i].get_text() == nbb_unformatted_code) {\n",
       "                             nbb_cells[i].set_text(nbb_formatted_code);\n",
       "                        }\n",
       "                        break;\n",
       "                    }\n",
       "                }\n",
       "            }, 500);\n",
       "            "
      ],
      "text/plain": [
       "<IPython.core.display.Javascript object>"
      ]
     },
     "metadata": {},
     "output_type": "display_data"
    }
   ],
   "source": [
    "datafile = \"gss_eds.3.hdf5\"\n",
    "gss = pd.read_hdf(datafile, \"gss0\")\n",
    "gss.shape"
   ]
  },
  {
   "cell_type": "code",
   "execution_count": 41,
   "metadata": {},
   "outputs": [
    {
     "name": "stdout",
     "output_type": "stream",
     "text": [
      "abany\n",
      "abdefect\n",
      "abhlth\n",
      "abnomore\n",
      "abpoor\n",
      "abrape\n",
      "absingle\n",
      "acqntsex\n",
      "adults\n",
      "affrmact\n",
      "age\n",
      "attend\n",
      "ballot\n",
      "bible\n",
      "cappun\n",
      "childs\n",
      "chldidel\n",
      "class_\n",
      "cohort\n",
      "colath\n",
      "colcom\n",
      "colhomo\n",
      "colmil\n",
      "colmslm\n",
      "colrac\n",
      "colsoc\n",
      "commun\n",
      "compuse\n",
      "conarmy\n",
      "conbus\n",
      "conclerg\n",
      "coneduc\n",
      "confed\n",
      "confinan\n",
      "coninc\n",
      "conjudge\n",
      "conlabor\n",
      "conlegis\n",
      "conmedic\n",
      "conpress\n",
      "conrinc\n",
      "consci\n",
      "contv\n",
      "databank\n",
      "degree\n",
      "discaffm\n",
      "discaffw\n",
      "divlaw\n",
      "divorce\n",
      "educ\n",
      "eqwlth\n",
      "fair\n",
      "fear\n",
      "fechld\n",
      "fefam\n",
      "fehelp\n",
      "fehire\n",
      "fehome\n",
      "fejobaff\n",
      "fepol\n",
      "fepres\n",
      "fepresch\n",
      "fework\n",
      "finrela\n",
      "frndsex\n",
      "fund\n",
      "god\n",
      "goodlife\n",
      "grass\n",
      "gunlaw\n",
      "hapmar\n",
      "happy\n",
      "health\n",
      "helpful\n",
      "hhrace\n",
      "homosex\n",
      "hrsrelax\n",
      "hunt\n",
      "id_\n",
      "income\n",
      "letdie1\n",
      "libath\n",
      "libcom\n",
      "libhomo\n",
      "libmil\n",
      "libmslm\n",
      "librac\n",
      "libsoc\n",
      "life\n",
      "matesex\n",
      "meovrwrk\n",
      "miracles\n",
      "nataid\n",
      "natarms\n",
      "natchld\n",
      "natcity\n",
      "natcrime\n",
      "natdrug\n",
      "nateduc\n",
      "natenrgy\n",
      "natenvir\n",
      "natfare\n",
      "natheal\n",
      "natmass\n",
      "natpark\n",
      "natrace\n",
      "natroad\n",
      "natsci\n",
      "natsoc\n",
      "natspac\n",
      "othersex\n",
      "owngun\n",
      "paidsex\n",
      "partyid\n",
      "phone\n",
      "pikupsex\n",
      "pistol\n",
      "polabuse\n",
      "polattak\n",
      "polescap\n",
      "polhitok\n",
      "polmurdr\n",
      "polviews\n",
      "popespks\n",
      "pornlaw\n",
      "postlife\n",
      "pray\n",
      "prayer\n",
      "premarsx\n",
      "pres00\n",
      "pres04\n",
      "pres08\n",
      "pres12\n",
      "pres96\n",
      "racchurh\n",
      "racclos\n",
      "racdif1\n",
      "racdif2\n",
      "racdif3\n",
      "racdif4\n",
      "racdin\n",
      "racdis\n",
      "race\n",
      "racfew\n",
      "rachaf\n",
      "rachome\n",
      "racinteg\n",
      "raclive\n",
      "racmar\n",
      "racmost\n",
      "racopen\n",
      "racpres\n",
      "racpush\n",
      "racschol\n",
      "racseg\n",
      "racwork\n",
      "realinc\n",
      "realrinc\n",
      "reborn\n",
      "reg16\n",
      "region\n",
      "relactiv\n",
      "relexp\n",
      "relexper\n",
      "relig\n",
      "relig16\n",
      "reliten\n",
      "relpersn\n",
      "res16\n",
      "rincome\n",
      "rowngun\n",
      "satfin\n",
      "satjob\n",
      "savesoul\n",
      "sex\n",
      "sexbirth\n",
      "sexeduc\n",
      "sexfreq\n",
      "sexnow\n",
      "sexornt\n",
      "sexsex\n",
      "sexsex5\n",
      "sibs\n",
      "spanking\n",
      "spkath\n",
      "spkcom\n",
      "spkhomo\n",
      "spklang\n",
      "spkmil\n",
      "spkmslm\n",
      "spkrac\n",
      "spksoc\n",
      "sprtprsn\n",
      "srcbelt\n",
      "teensex\n",
      "trdunion\n",
      "trust\n",
      "union_\n",
      "wkharsex\n",
      "wkracism\n",
      "wksexism\n",
      "wtssall\n",
      "xmarsex\n",
      "year\n"
     ]
    },
    {
     "data": {
      "application/javascript": [
       "\n",
       "            setTimeout(function() {\n",
       "                var nbb_cell_id = 41;\n",
       "                var nbb_unformatted_code = \"for name in sorted(gss.columns):\\n    print(name)\";\n",
       "                var nbb_formatted_code = \"for name in sorted(gss.columns):\\n    print(name)\";\n",
       "                var nbb_cells = Jupyter.notebook.get_cells();\n",
       "                for (var i = 0; i < nbb_cells.length; ++i) {\n",
       "                    if (nbb_cells[i].input_prompt_number == nbb_cell_id) {\n",
       "                        if (nbb_cells[i].get_text() == nbb_unformatted_code) {\n",
       "                             nbb_cells[i].set_text(nbb_formatted_code);\n",
       "                        }\n",
       "                        break;\n",
       "                    }\n",
       "                }\n",
       "            }, 500);\n",
       "            "
      ],
      "text/plain": [
       "<IPython.core.display.Javascript object>"
      ]
     },
     "metadata": {},
     "output_type": "display_data"
    }
   ],
   "source": [
    "for name in sorted(gss.columns):\n",
    "    print(name)"
   ]
  },
  {
   "cell_type": "markdown",
   "metadata": {},
   "source": [
    "## Are People Fair?\n",
    "\n",
    "In the GSS data, the variable `fair` contains responses to this question (see <https://gssdataexplorer.norc.org/projects/52787/variables/440/vshow>):\n",
    "\n",
    "> Do you think most people would try to take advantage of you if they got a chance, or would they try to be fair?\n",
    "\n",
    "The possible responses are:\n",
    "\n",
    "```\n",
    "1\tTake advantage\n",
    "2\tFair\n",
    "3\tDepends\n",
    "```\n",
    "\n",
    "As always, we start by looking at the distribution of responses, that is, how many people give each response:"
   ]
  },
  {
   "cell_type": "code",
   "execution_count": 42,
   "metadata": {},
   "outputs": [
    {
     "data": {
      "text/plain": [
       "1.0    15435\n",
       "2.0    22806\n",
       "3.0     2755\n",
       "Name: fair, dtype: int64"
      ]
     },
     "execution_count": 42,
     "metadata": {},
     "output_type": "execute_result"
    },
    {
     "data": {
      "application/javascript": [
       "\n",
       "            setTimeout(function() {\n",
       "                var nbb_cell_id = 42;\n",
       "                var nbb_unformatted_code = \"values(gss[\\\"fair\\\"])\";\n",
       "                var nbb_formatted_code = \"values(gss[\\\"fair\\\"])\";\n",
       "                var nbb_cells = Jupyter.notebook.get_cells();\n",
       "                for (var i = 0; i < nbb_cells.length; ++i) {\n",
       "                    if (nbb_cells[i].input_prompt_number == nbb_cell_id) {\n",
       "                        if (nbb_cells[i].get_text() == nbb_unformatted_code) {\n",
       "                             nbb_cells[i].set_text(nbb_formatted_code);\n",
       "                        }\n",
       "                        break;\n",
       "                    }\n",
       "                }\n",
       "            }, 500);\n",
       "            "
      ],
      "text/plain": [
       "<IPython.core.display.Javascript object>"
      ]
     },
     "metadata": {},
     "output_type": "display_data"
    }
   ],
   "source": [
    "values(gss[\"fair\"])"
   ]
  },
  {
   "cell_type": "markdown",
   "metadata": {},
   "source": [
    "The plurality think people try to be fair (2), but a substantial minority think people would take advantage (1).\n",
    "There are also a number of NaNs, mostly respondents who were not asked this question."
   ]
  },
  {
   "cell_type": "code",
   "execution_count": 20,
   "metadata": {},
   "outputs": [
    {
     "data": {
      "text/plain": [
       "23818"
      ]
     },
     "execution_count": 20,
     "metadata": {},
     "output_type": "execute_result"
    },
    {
     "data": {
      "application/javascript": [
       "\n",
       "            setTimeout(function() {\n",
       "                var nbb_cell_id = 20;\n",
       "                var nbb_unformatted_code = \"gss['fair'].isna().sum()\";\n",
       "                var nbb_formatted_code = \"gss[\\\"fair\\\"].isna().sum()\";\n",
       "                var nbb_cells = Jupyter.notebook.get_cells();\n",
       "                for (var i = 0; i < nbb_cells.length; ++i) {\n",
       "                    if (nbb_cells[i].input_prompt_number == nbb_cell_id) {\n",
       "                        if (nbb_cells[i].get_text() == nbb_unformatted_code) {\n",
       "                             nbb_cells[i].set_text(nbb_formatted_code);\n",
       "                        }\n",
       "                        break;\n",
       "                    }\n",
       "                }\n",
       "            }, 500);\n",
       "            "
      ],
      "text/plain": [
       "<IPython.core.display.Javascript object>"
      ]
     },
     "metadata": {},
     "output_type": "display_data"
    }
   ],
   "source": [
    "gss[\"fair\"].isna().sum()"
   ]
  },
  {
   "cell_type": "markdown",
   "metadata": {},
   "source": [
    "To count the number of people who chose option 2, \"people try to be fair\", I'll use a dictionary to recode option 2 as `1` and the other options as `0`."
   ]
  },
  {
   "cell_type": "code",
   "execution_count": 21,
   "metadata": {},
   "outputs": [
    {
     "data": {
      "application/javascript": [
       "\n",
       "            setTimeout(function() {\n",
       "                var nbb_cell_id = 21;\n",
       "                var nbb_unformatted_code = \"recode_fair = {1:0, 2:1, 3:0}\";\n",
       "                var nbb_formatted_code = \"recode_fair = {1: 0, 2: 1, 3: 0}\";\n",
       "                var nbb_cells = Jupyter.notebook.get_cells();\n",
       "                for (var i = 0; i < nbb_cells.length; ++i) {\n",
       "                    if (nbb_cells[i].input_prompt_number == nbb_cell_id) {\n",
       "                        if (nbb_cells[i].get_text() == nbb_unformatted_code) {\n",
       "                             nbb_cells[i].set_text(nbb_formatted_code);\n",
       "                        }\n",
       "                        break;\n",
       "                    }\n",
       "                }\n",
       "            }, 500);\n",
       "            "
      ],
      "text/plain": [
       "<IPython.core.display.Javascript object>"
      ]
     },
     "metadata": {},
     "output_type": "display_data"
    }
   ],
   "source": [
    "recode_fair = {1: 0, 2: 1, 3: 0}"
   ]
  },
  {
   "cell_type": "markdown",
   "metadata": {},
   "source": [
    "As an alternative, we could include option 3, \"depends\", by mapping it to 1, or give it less weight by mapping it to an intermediate value like 0.5.\n",
    "\n",
    "We can use `replace` to recode the values and store the result as a new column in the DataFrame."
   ]
  },
  {
   "cell_type": "code",
   "execution_count": 22,
   "metadata": {},
   "outputs": [
    {
     "data": {
      "application/javascript": [
       "\n",
       "            setTimeout(function() {\n",
       "                var nbb_cell_id = 22;\n",
       "                var nbb_unformatted_code = \"gss['fair2'] = gss['fair'].replace(recode_fair)\";\n",
       "                var nbb_formatted_code = \"gss[\\\"fair2\\\"] = gss[\\\"fair\\\"].replace(recode_fair)\";\n",
       "                var nbb_cells = Jupyter.notebook.get_cells();\n",
       "                for (var i = 0; i < nbb_cells.length; ++i) {\n",
       "                    if (nbb_cells[i].input_prompt_number == nbb_cell_id) {\n",
       "                        if (nbb_cells[i].get_text() == nbb_unformatted_code) {\n",
       "                             nbb_cells[i].set_text(nbb_formatted_code);\n",
       "                        }\n",
       "                        break;\n",
       "                    }\n",
       "                }\n",
       "            }, 500);\n",
       "            "
      ],
      "text/plain": [
       "<IPython.core.display.Javascript object>"
      ]
     },
     "metadata": {},
     "output_type": "display_data"
    }
   ],
   "source": [
    "gss[\"fair2\"] = gss[\"fair\"].replace(recode_fair)"
   ]
  },
  {
   "cell_type": "markdown",
   "metadata": {},
   "source": [
    "And we'll use `values` to check whether it worked."
   ]
  },
  {
   "cell_type": "code",
   "execution_count": 23,
   "metadata": {},
   "outputs": [
    {
     "data": {
      "text/plain": [
       "0.0    18190\n",
       "1.0    22806\n",
       "Name: fair2, dtype: int64"
      ]
     },
     "execution_count": 23,
     "metadata": {},
     "output_type": "execute_result"
    },
    {
     "data": {
      "application/javascript": [
       "\n",
       "            setTimeout(function() {\n",
       "                var nbb_cell_id = 23;\n",
       "                var nbb_unformatted_code = \"values(gss['fair2'])\";\n",
       "                var nbb_formatted_code = \"values(gss[\\\"fair2\\\"])\";\n",
       "                var nbb_cells = Jupyter.notebook.get_cells();\n",
       "                for (var i = 0; i < nbb_cells.length; ++i) {\n",
       "                    if (nbb_cells[i].input_prompt_number == nbb_cell_id) {\n",
       "                        if (nbb_cells[i].get_text() == nbb_unformatted_code) {\n",
       "                             nbb_cells[i].set_text(nbb_formatted_code);\n",
       "                        }\n",
       "                        break;\n",
       "                    }\n",
       "                }\n",
       "            }, 500);\n",
       "            "
      ],
      "text/plain": [
       "<IPython.core.display.Javascript object>"
      ]
     },
     "metadata": {},
     "output_type": "display_data"
    }
   ],
   "source": [
    "values(gss[\"fair2\"])"
   ]
  },
  {
   "cell_type": "markdown",
   "metadata": {},
   "source": [
    "## Fairness Over Time\n",
    "\n",
    "As we saw in the previous notebook, we can use `groupby` to group responses by year."
   ]
  },
  {
   "cell_type": "code",
   "execution_count": 24,
   "metadata": {},
   "outputs": [
    {
     "data": {
      "application/javascript": [
       "\n",
       "            setTimeout(function() {\n",
       "                var nbb_cell_id = 24;\n",
       "                var nbb_unformatted_code = \"gss_by_year = gss.groupby('year')\";\n",
       "                var nbb_formatted_code = \"gss_by_year = gss.groupby(\\\"year\\\")\";\n",
       "                var nbb_cells = Jupyter.notebook.get_cells();\n",
       "                for (var i = 0; i < nbb_cells.length; ++i) {\n",
       "                    if (nbb_cells[i].input_prompt_number == nbb_cell_id) {\n",
       "                        if (nbb_cells[i].get_text() == nbb_unformatted_code) {\n",
       "                             nbb_cells[i].set_text(nbb_formatted_code);\n",
       "                        }\n",
       "                        break;\n",
       "                    }\n",
       "                }\n",
       "            }, 500);\n",
       "            "
      ],
      "text/plain": [
       "<IPython.core.display.Javascript object>"
      ]
     },
     "metadata": {},
     "output_type": "display_data"
    }
   ],
   "source": [
    "gss_by_year = gss.groupby(\"year\")"
   ]
  },
  {
   "cell_type": "markdown",
   "metadata": {},
   "source": [
    "From the result we can select `fair2` and compute the mean."
   ]
  },
  {
   "cell_type": "code",
   "execution_count": 25,
   "metadata": {},
   "outputs": [
    {
     "data": {
      "application/javascript": [
       "\n",
       "            setTimeout(function() {\n",
       "                var nbb_cell_id = 25;\n",
       "                var nbb_unformatted_code = \"fair_by_year = gss_by_year['fair2'].mean()\";\n",
       "                var nbb_formatted_code = \"fair_by_year = gss_by_year[\\\"fair2\\\"].mean()\";\n",
       "                var nbb_cells = Jupyter.notebook.get_cells();\n",
       "                for (var i = 0; i < nbb_cells.length; ++i) {\n",
       "                    if (nbb_cells[i].input_prompt_number == nbb_cell_id) {\n",
       "                        if (nbb_cells[i].get_text() == nbb_unformatted_code) {\n",
       "                             nbb_cells[i].set_text(nbb_formatted_code);\n",
       "                        }\n",
       "                        break;\n",
       "                    }\n",
       "                }\n",
       "            }, 500);\n",
       "            "
      ],
      "text/plain": [
       "<IPython.core.display.Javascript object>"
      ]
     },
     "metadata": {},
     "output_type": "display_data"
    }
   ],
   "source": [
    "fair_by_year = gss_by_year[\"fair2\"].mean()"
   ]
  },
  {
   "cell_type": "markdown",
   "metadata": {},
   "source": [
    "Here's the result, which shows the fraction of people who say people try to be fair, plotted over time.  As in the previous notebook, we plot the data points themselves with circles and a local regression model as a line."
   ]
  },
  {
   "cell_type": "code",
   "execution_count": 26,
   "metadata": {},
   "outputs": [
    {
     "data": {
      "image/png": "[encoded data removed]",
      "text/plain": [
       "<Figure size 432x288 with 1 Axes>"
      ]
     },
     "metadata": {
      "needs_background": "light"
     },
     "output_type": "display_data"
    },
    {
     "data": {
      "application/javascript": [
       "\n",
       "            setTimeout(function() {\n",
       "                var nbb_cell_id = 26;\n",
       "                var nbb_unformatted_code = \"plot_series_lowess(fair_by_year, 'C1')\\n\\ndecorate(xlabel='Year',\\n         ylabel='Fraction saying yes',\\n         title='Would most people try to be fair?')\";\n",
       "                var nbb_formatted_code = \"plot_series_lowess(fair_by_year, \\\"C1\\\")\\n\\ndecorate(\\n    xlabel=\\\"Year\\\",\\n    ylabel=\\\"Fraction saying yes\\\",\\n    title=\\\"Would most people try to be fair?\\\",\\n)\";\n",
       "                var nbb_cells = Jupyter.notebook.get_cells();\n",
       "                for (var i = 0; i < nbb_cells.length; ++i) {\n",
       "                    if (nbb_cells[i].input_prompt_number == nbb_cell_id) {\n",
       "                        if (nbb_cells[i].get_text() == nbb_unformatted_code) {\n",
       "                             nbb_cells[i].set_text(nbb_formatted_code);\n",
       "                        }\n",
       "                        break;\n",
       "                    }\n",
       "                }\n",
       "            }, 500);\n",
       "            "
      ],
      "text/plain": [
       "<IPython.core.display.Javascript object>"
      ]
     },
     "metadata": {},
     "output_type": "display_data"
    }
   ],
   "source": [
    "plot_series_lowess(fair_by_year, \"C1\")\n",
    "\n",
    "decorate(\n",
    "    xlabel=\"Year\",\n",
    "    ylabel=\"Fraction saying yes\",\n",
    "    title=\"Would most people try to be fair?\",\n",
    ")"
   ]
  },
  {
   "cell_type": "markdown",
   "metadata": {},
   "source": [
    "Sadly, it looks like faith in humanity has declined, at least by this measure.\n",
    "\n",
    "Let's see what this trend looks like if we group the respondents by political alignment."
   ]
  },
  {
   "cell_type": "markdown",
   "metadata": {},
   "source": [
    "## Political Views on a 3-point Scale\n",
    "\n",
    "In the previous notebook, we looked at responses to `polviews`, which asks about political alignment.  The valid responses are:\n",
    "\n",
    "```\n",
    "1\tExtremely liberal\n",
    "2\tLiberal\n",
    "3\tSlightly liberal\n",
    "4\tModerate\n",
    "5\tSlightly conservative\n",
    "6\tConservative\n",
    "7\tExtremely conservative\n",
    "```\n",
    "\n",
    "To make it easier to visualize groups, I'm going to lump the 7-point scale into a 3-point scale."
   ]
  },
  {
   "cell_type": "code",
   "execution_count": 27,
   "metadata": {},
   "outputs": [
    {
     "data": {
      "application/javascript": [
       "\n",
       "            setTimeout(function() {\n",
       "                var nbb_cell_id = 27;\n",
       "                var nbb_unformatted_code = \"recode_polviews = {1:'Liberal', \\n                   2:'Liberal', \\n                   3:'Liberal', \\n                   4:'Moderate', \\n                   5:'Conservative', \\n                   6:'Conservative', \\n                   7:'Conservative'}\";\n",
       "                var nbb_formatted_code = \"recode_polviews = {\\n    1: \\\"Liberal\\\",\\n    2: \\\"Liberal\\\",\\n    3: \\\"Liberal\\\",\\n    4: \\\"Moderate\\\",\\n    5: \\\"Conservative\\\",\\n    6: \\\"Conservative\\\",\\n    7: \\\"Conservative\\\",\\n}\";\n",
       "                var nbb_cells = Jupyter.notebook.get_cells();\n",
       "                for (var i = 0; i < nbb_cells.length; ++i) {\n",
       "                    if (nbb_cells[i].input_prompt_number == nbb_cell_id) {\n",
       "                        if (nbb_cells[i].get_text() == nbb_unformatted_code) {\n",
       "                             nbb_cells[i].set_text(nbb_formatted_code);\n",
       "                        }\n",
       "                        break;\n",
       "                    }\n",
       "                }\n",
       "            }, 500);\n",
       "            "
      ],
      "text/plain": [
       "<IPython.core.display.Javascript object>"
      ]
     },
     "metadata": {},
     "output_type": "display_data"
    }
   ],
   "source": [
    "recode_polviews = {\n",
    "    1: \"Liberal\",\n",
    "    2: \"Liberal\",\n",
    "    3: \"Liberal\",\n",
    "    4: \"Moderate\",\n",
    "    5: \"Conservative\",\n",
    "    6: \"Conservative\",\n",
    "    7: \"Conservative\",\n",
    "}"
   ]
  },
  {
   "cell_type": "markdown",
   "metadata": {},
   "source": [
    "I'll use `replace`, as we've seen before, and store the result as a new column in the DataFrame."
   ]
  },
  {
   "cell_type": "code",
   "execution_count": 28,
   "metadata": {},
   "outputs": [
    {
     "data": {
      "application/javascript": [
       "\n",
       "            setTimeout(function() {\n",
       "                var nbb_cell_id = 28;\n",
       "                var nbb_unformatted_code = \"gss['polviews3'] = gss['polviews'].replace(recode_polviews)\";\n",
       "                var nbb_formatted_code = \"gss[\\\"polviews3\\\"] = gss[\\\"polviews\\\"].replace(recode_polviews)\";\n",
       "                var nbb_cells = Jupyter.notebook.get_cells();\n",
       "                for (var i = 0; i < nbb_cells.length; ++i) {\n",
       "                    if (nbb_cells[i].input_prompt_number == nbb_cell_id) {\n",
       "                        if (nbb_cells[i].get_text() == nbb_unformatted_code) {\n",
       "                             nbb_cells[i].set_text(nbb_formatted_code);\n",
       "                        }\n",
       "                        break;\n",
       "                    }\n",
       "                }\n",
       "            }, 500);\n",
       "            "
      ],
      "text/plain": [
       "<IPython.core.display.Javascript object>"
      ]
     },
     "metadata": {},
     "output_type": "display_data"
    }
   ],
   "source": [
    "gss[\"polviews3\"] = gss[\"polviews\"].replace(recode_polviews)"
   ]
  },
  {
   "cell_type": "markdown",
   "metadata": {},
   "source": [
    "With this scale, there are roughly the same number of people in each group."
   ]
  },
  {
   "cell_type": "code",
   "execution_count": 29,
   "metadata": {
    "scrolled": true
   },
   "outputs": [
    {
     "data": {
      "text/plain": [
       "Conservative    19129\n",
       "Liberal         14979\n",
       "Moderate        21444\n",
       "Name: polviews3, dtype: int64"
      ]
     },
     "execution_count": 29,
     "metadata": {},
     "output_type": "execute_result"
    },
    {
     "data": {
      "application/javascript": [
       "\n",
       "            setTimeout(function() {\n",
       "                var nbb_cell_id = 29;\n",
       "                var nbb_unformatted_code = \"values(gss['polviews3'])\";\n",
       "                var nbb_formatted_code = \"values(gss[\\\"polviews3\\\"])\";\n",
       "                var nbb_cells = Jupyter.notebook.get_cells();\n",
       "                for (var i = 0; i < nbb_cells.length; ++i) {\n",
       "                    if (nbb_cells[i].input_prompt_number == nbb_cell_id) {\n",
       "                        if (nbb_cells[i].get_text() == nbb_unformatted_code) {\n",
       "                             nbb_cells[i].set_text(nbb_formatted_code);\n",
       "                        }\n",
       "                        break;\n",
       "                    }\n",
       "                }\n",
       "            }, 500);\n",
       "            "
      ],
      "text/plain": [
       "<IPython.core.display.Javascript object>"
      ]
     },
     "metadata": {},
     "output_type": "display_data"
    }
   ],
   "source": [
    "values(gss[\"polviews3\"])"
   ]
  },
  {
   "cell_type": "markdown",
   "metadata": {},
   "source": [
    "## Fairness by Group\n",
    "\n",
    "Now let's see who thinks people are more fair, conservatives or liberals.\n",
    "We'll group the respondents by `polviews3`."
   ]
  },
  {
   "cell_type": "code",
   "execution_count": 30,
   "metadata": {},
   "outputs": [
    {
     "data": {
      "application/javascript": [
       "\n",
       "            setTimeout(function() {\n",
       "                var nbb_cell_id = 30;\n",
       "                var nbb_unformatted_code = \"by_polviews = gss.groupby('polviews3')\";\n",
       "                var nbb_formatted_code = \"by_polviews = gss.groupby(\\\"polviews3\\\")\";\n",
       "                var nbb_cells = Jupyter.notebook.get_cells();\n",
       "                for (var i = 0; i < nbb_cells.length; ++i) {\n",
       "                    if (nbb_cells[i].input_prompt_number == nbb_cell_id) {\n",
       "                        if (nbb_cells[i].get_text() == nbb_unformatted_code) {\n",
       "                             nbb_cells[i].set_text(nbb_formatted_code);\n",
       "                        }\n",
       "                        break;\n",
       "                    }\n",
       "                }\n",
       "            }, 500);\n",
       "            "
      ],
      "text/plain": [
       "<IPython.core.display.Javascript object>"
      ]
     },
     "metadata": {},
     "output_type": "display_data"
    }
   ],
   "source": [
    "by_polviews = gss.groupby(\"polviews3\")"
   ]
  },
  {
   "cell_type": "markdown",
   "metadata": {},
   "source": [
    "And compute the mean of `fair2` in each group."
   ]
  },
  {
   "cell_type": "code",
   "execution_count": 31,
   "metadata": {},
   "outputs": [
    {
     "data": {
      "text/plain": [
       "polviews3\n",
       "Conservative    0.582789\n",
       "Liberal         0.553916\n",
       "Moderate        0.542407\n",
       "Name: fair2, dtype: float64"
      ]
     },
     "execution_count": 31,
     "metadata": {},
     "output_type": "execute_result"
    },
    {
     "data": {
      "application/javascript": [
       "\n",
       "            setTimeout(function() {\n",
       "                var nbb_cell_id = 31;\n",
       "                var nbb_unformatted_code = \"by_polviews['fair2'].mean()\";\n",
       "                var nbb_formatted_code = \"by_polviews[\\\"fair2\\\"].mean()\";\n",
       "                var nbb_cells = Jupyter.notebook.get_cells();\n",
       "                for (var i = 0; i < nbb_cells.length; ++i) {\n",
       "                    if (nbb_cells[i].input_prompt_number == nbb_cell_id) {\n",
       "                        if (nbb_cells[i].get_text() == nbb_unformatted_code) {\n",
       "                             nbb_cells[i].set_text(nbb_formatted_code);\n",
       "                        }\n",
       "                        break;\n",
       "                    }\n",
       "                }\n",
       "            }, 500);\n",
       "            "
      ],
      "text/plain": [
       "<IPython.core.display.Javascript object>"
      ]
     },
     "metadata": {},
     "output_type": "display_data"
    }
   ],
   "source": [
    "by_polviews[\"fair2\"].mean()"
   ]
  },
  {
   "cell_type": "markdown",
   "metadata": {},
   "source": [
    "It looks like conservatives are a little more optimistic, in this sense, than liberals and moderates.\n",
    "But this result is averaged over the last 50 years.  Let's see how things have changed over time."
   ]
  },
  {
   "cell_type": "markdown",
   "metadata": {},
   "source": [
    "## Fairness over Time by Group\n",
    "\n",
    "So far, we have grouped by `polviews3` and computed the mean of `fair2` in each group.\n",
    "Then we grouped by `year` and computed the mean of `fair2` for each year.\n",
    "Now I want to group by `polviews3` and `year`, and compute the mean of `fair2` in each group over time.\n",
    "\n",
    "We could do the computation I just described \"by hand\" using the tools we already have, but it is so common and useful that it has a name: it is called a **pivot table**, and Pandas provides a function that computes it (see <https://pandas.pydata.org/pandas-docs/stable/reference/api/pandas.pivot_table.html>).\n",
    "\n",
    "It's called `pivot_table`, and it takes the following arguments:\n",
    "\n",
    "* `values`, which is the name of the variable we want to summarize: `fair2` in this example.\n",
    "\n",
    "* `index`, which is the name of the variable that will provide the row labels: `year` in this example.\n",
    "\n",
    "* `columns`, which is the name of the variable that will provide the column labels: `polview3` in this example.\n",
    "\n",
    "* `aggfunc`, which is the function used to \"aggregate\", or summarize, the values: `mean` in this example."
   ]
  },
  {
   "cell_type": "code",
   "execution_count": 32,
   "metadata": {},
   "outputs": [
    {
     "data": {
      "application/javascript": [
       "\n",
       "            setTimeout(function() {\n",
       "                var nbb_cell_id = 32;\n",
       "                var nbb_unformatted_code = \"table = gss.pivot_table(values='fair2', \\n                        index='year', \\n                        columns='polviews3', \\n                        aggfunc='mean')\";\n",
       "                var nbb_formatted_code = \"table = gss.pivot_table(\\n    values=\\\"fair2\\\", index=\\\"year\\\", columns=\\\"polviews3\\\", aggfunc=\\\"mean\\\"\\n)\";\n",
       "                var nbb_cells = Jupyter.notebook.get_cells();\n",
       "                for (var i = 0; i < nbb_cells.length; ++i) {\n",
       "                    if (nbb_cells[i].input_prompt_number == nbb_cell_id) {\n",
       "                        if (nbb_cells[i].get_text() == nbb_unformatted_code) {\n",
       "                             nbb_cells[i].set_text(nbb_formatted_code);\n",
       "                        }\n",
       "                        break;\n",
       "                    }\n",
       "                }\n",
       "            }, 500);\n",
       "            "
      ],
      "text/plain": [
       "<IPython.core.display.Javascript object>"
      ]
     },
     "metadata": {},
     "output_type": "display_data"
    }
   ],
   "source": [
    "table = gss.pivot_table(\n",
    "    values=\"fair2\", index=\"year\", columns=\"polviews3\", aggfunc=\"mean\"\n",
    ")"
   ]
  },
  {
   "cell_type": "markdown",
   "metadata": {},
   "source": [
    "The result is a table that has years running down the rows and political alignment running across the columns.\n",
    "Each entry in the table is the mean of `fair2` for a given group in a given year."
   ]
  },
  {
   "cell_type": "code",
   "execution_count": 33,
   "metadata": {},
   "outputs": [
    {
     "data": {
      "text/html": [
       "<div>\n",
       "<style scoped>\n",
       "    .dataframe tbody tr th:only-of-type {\n",
       "        vertical-align: middle;\n",
       "    }\n",
       "\n",
       "    .dataframe tbody tr th {\n",
       "        vertical-align: top;\n",
       "    }\n",
       "\n",
       "    .dataframe thead th {\n",
       "        text-align: right;\n",
       "    }\n",
       "</style>\n",
       "<table border=\"1\" class=\"dataframe\">\n",
       "  <thead>\n",
       "    <tr style=\"text-align: right;\">\n",
       "      <th>polviews3</th>\n",
       "      <th>Conservative</th>\n",
       "      <th>Liberal</th>\n",
       "      <th>Moderate</th>\n",
       "    </tr>\n",
       "    <tr>\n",
       "      <th>year</th>\n",
       "      <th></th>\n",
       "      <th></th>\n",
       "      <th></th>\n",
       "    </tr>\n",
       "  </thead>\n",
       "  <tbody>\n",
       "    <tr>\n",
       "      <th>1975</th>\n",
       "      <td>0.625616</td>\n",
       "      <td>0.617117</td>\n",
       "      <td>0.647280</td>\n",
       "    </tr>\n",
       "    <tr>\n",
       "      <th>1976</th>\n",
       "      <td>0.631696</td>\n",
       "      <td>0.571782</td>\n",
       "      <td>0.612100</td>\n",
       "    </tr>\n",
       "    <tr>\n",
       "      <th>1978</th>\n",
       "      <td>0.694915</td>\n",
       "      <td>0.659420</td>\n",
       "      <td>0.665455</td>\n",
       "    </tr>\n",
       "    <tr>\n",
       "      <th>1980</th>\n",
       "      <td>0.600000</td>\n",
       "      <td>0.554945</td>\n",
       "      <td>0.640264</td>\n",
       "    </tr>\n",
       "    <tr>\n",
       "      <th>1983</th>\n",
       "      <td>0.572438</td>\n",
       "      <td>0.585366</td>\n",
       "      <td>0.463492</td>\n",
       "    </tr>\n",
       "  </tbody>\n",
       "</table>\n",
       "</div>"
      ],
      "text/plain": [
       "polviews3  Conservative   Liberal  Moderate\n",
       "year                                       \n",
       "1975           0.625616  0.617117  0.647280\n",
       "1976           0.631696  0.571782  0.612100\n",
       "1978           0.694915  0.659420  0.665455\n",
       "1980           0.600000  0.554945  0.640264\n",
       "1983           0.572438  0.585366  0.463492"
      ]
     },
     "execution_count": 33,
     "metadata": {},
     "output_type": "execute_result"
    },
    {
     "data": {
      "application/javascript": [
       "\n",
       "            setTimeout(function() {\n",
       "                var nbb_cell_id = 33;\n",
       "                var nbb_unformatted_code = \"table.head()\";\n",
       "                var nbb_formatted_code = \"table.head()\";\n",
       "                var nbb_cells = Jupyter.notebook.get_cells();\n",
       "                for (var i = 0; i < nbb_cells.length; ++i) {\n",
       "                    if (nbb_cells[i].input_prompt_number == nbb_cell_id) {\n",
       "                        if (nbb_cells[i].get_text() == nbb_unformatted_code) {\n",
       "                             nbb_cells[i].set_text(nbb_formatted_code);\n",
       "                        }\n",
       "                        break;\n",
       "                    }\n",
       "                }\n",
       "            }, 500);\n",
       "            "
      ],
      "text/plain": [
       "<IPython.core.display.Javascript object>"
      ]
     },
     "metadata": {},
     "output_type": "display_data"
    }
   ],
   "source": [
    "table.head()"
   ]
  },
  {
   "cell_type": "markdown",
   "metadata": {},
   "source": [
    "Reading across the first row, we can see that in 1975, moderates were slightly more optimistic than the other groups.\n",
    "\n",
    "Reading down the first column, we can see that the estimated mean of `fair2` among conservatives varies from year to year.  It is hard to tell looking at these numbers whether it is trending up or down; we can get a better view by plotting the results."
   ]
  },
  {
   "cell_type": "markdown",
   "metadata": {},
   "source": [
    "## Plotting the Results"
   ]
  },
  {
   "cell_type": "markdown",
   "metadata": {
    "tags": [
     "remove-print"
    ]
   },
   "source": [
    "Before we plot the results, I'll make a dictionary that maps from each group to a color."
   ]
  },
  {
   "cell_type": "code",
   "execution_count": 34,
   "metadata": {
    "tags": [
     "remove-print"
    ]
   },
   "outputs": [
    {
     "data": {
      "image/png": "[encoded data removed]",
      "text/plain": [
       "<Figure size 360x72 with 1 Axes>"
      ]
     },
     "metadata": {
      "needs_background": "light"
     },
     "output_type": "display_data"
    },
    {
     "data": {
      "application/javascript": [
       "\n",
       "            setTimeout(function() {\n",
       "                var nbb_cell_id = 34;\n",
       "                var nbb_unformatted_code = \"muted = sns.color_palette('muted', 5)\\nsns.palplot(muted)\";\n",
       "                var nbb_formatted_code = \"muted = sns.color_palette(\\\"muted\\\", 5)\\nsns.palplot(muted)\";\n",
       "                var nbb_cells = Jupyter.notebook.get_cells();\n",
       "                for (var i = 0; i < nbb_cells.length; ++i) {\n",
       "                    if (nbb_cells[i].input_prompt_number == nbb_cell_id) {\n",
       "                        if (nbb_cells[i].get_text() == nbb_unformatted_code) {\n",
       "                             nbb_cells[i].set_text(nbb_formatted_code);\n",
       "                        }\n",
       "                        break;\n",
       "                    }\n",
       "                }\n",
       "            }, 500);\n",
       "            "
      ],
      "text/plain": [
       "<IPython.core.display.Javascript object>"
      ]
     },
     "metadata": {},
     "output_type": "display_data"
    }
   ],
   "source": [
    "muted = sns.color_palette(\"muted\", 5)\n",
    "sns.palplot(muted)"
   ]
  },
  {
   "cell_type": "code",
   "execution_count": 35,
   "metadata": {
    "tags": [
     "remove-print"
    ]
   },
   "outputs": [
    {
     "data": {
      "application/javascript": [
       "\n",
       "            setTimeout(function() {\n",
       "                var nbb_cell_id = 35;\n",
       "                var nbb_unformatted_code = \"colors = {'Conservative': muted[3], \\n              'Moderate': muted[4], \\n               'Liberal': muted[0]}\";\n",
       "                var nbb_formatted_code = \"colors = {\\\"Conservative\\\": muted[3], \\\"Moderate\\\": muted[4], \\\"Liberal\\\": muted[0]}\";\n",
       "                var nbb_cells = Jupyter.notebook.get_cells();\n",
       "                for (var i = 0; i < nbb_cells.length; ++i) {\n",
       "                    if (nbb_cells[i].input_prompt_number == nbb_cell_id) {\n",
       "                        if (nbb_cells[i].get_text() == nbb_unformatted_code) {\n",
       "                             nbb_cells[i].set_text(nbb_formatted_code);\n",
       "                        }\n",
       "                        break;\n",
       "                    }\n",
       "                }\n",
       "            }, 500);\n",
       "            "
      ],
      "text/plain": [
       "<IPython.core.display.Javascript object>"
      ]
     },
     "metadata": {},
     "output_type": "display_data"
    }
   ],
   "source": [
    "colors = {\"Conservative\": muted[3], \"Moderate\": muted[4], \"Liberal\": muted[0]}"
   ]
  },
  {
   "cell_type": "markdown",
   "metadata": {},
   "source": [
    "We can use `plot_columns_lowess` to see the results."
   ]
  },
  {
   "cell_type": "code",
   "execution_count": 36,
   "metadata": {},
   "outputs": [
    {
     "data": {
      "image/png": "[encoded data removed]",
      "text/plain": [
       "<Figure size 432x288 with 1 Axes>"
      ]
     },
     "metadata": {
      "needs_background": "light"
     },
     "output_type": "display_data"
    },
    {
     "data": {
      "application/javascript": [
       "\n",
       "            setTimeout(function() {\n",
       "                var nbb_cell_id = 36;\n",
       "                var nbb_unformatted_code = \"columns = ['Conservative', 'Liberal', 'Moderate']\\nplot_columns_lowess(table, columns, colors)\\n\\ndecorate(xlabel='Year',\\n         ylabel='Fraction saying yes',\\n         title='Would most people try to be fair?')\";\n",
       "                var nbb_formatted_code = \"columns = [\\\"Conservative\\\", \\\"Liberal\\\", \\\"Moderate\\\"]\\nplot_columns_lowess(table, columns, colors)\\n\\ndecorate(\\n    xlabel=\\\"Year\\\",\\n    ylabel=\\\"Fraction saying yes\\\",\\n    title=\\\"Would most people try to be fair?\\\",\\n)\";\n",
       "                var nbb_cells = Jupyter.notebook.get_cells();\n",
       "                for (var i = 0; i < nbb_cells.length; ++i) {\n",
       "                    if (nbb_cells[i].input_prompt_number == nbb_cell_id) {\n",
       "                        if (nbb_cells[i].get_text() == nbb_unformatted_code) {\n",
       "                             nbb_cells[i].set_text(nbb_formatted_code);\n",
       "                        }\n",
       "                        break;\n",
       "                    }\n",
       "                }\n",
       "            }, 500);\n",
       "            "
      ],
      "text/plain": [
       "<IPython.core.display.Javascript object>"
      ]
     },
     "metadata": {},
     "output_type": "display_data"
    }
   ],
   "source": [
    "columns = [\"Conservative\", \"Liberal\", \"Moderate\"]\n",
    "plot_columns_lowess(table, columns, colors)\n",
    "\n",
    "decorate(\n",
    "    xlabel=\"Year\",\n",
    "    ylabel=\"Fraction saying yes\",\n",
    "    title=\"Would most people try to be fair?\",\n",
    ")"
   ]
  },
  {
   "cell_type": "markdown",
   "metadata": {},
   "source": [
    "The fraction of respondents who think people try to be fair has dropped in all three groups, although liberals and moderates might have leveled off.\n",
    "In 1975, liberals were the least optimistic group.  In 2018, they might be the most optimistic.\n",
    "But the responses are quite noisy, so we should not be too confident about these conclusions.\n",
    "\n",
    "We can get a sense of how reliable they are by running the resampling process a few times and checking how much the results vary."
   ]
  },
  {
   "cell_type": "markdown",
   "metadata": {},
   "source": [
    "## Simulating Possible Datasets\n",
    "\n",
    "The figures we have generated so far in this notebook are based on a single resampling of the GSS data.  Some of the features we see in these figures might be due to random sampling rather than actual changes in the world.\n",
    "\n",
    "By generating the same figures with different resampled datasets, we can get a sense of how much variation there is due to random sampling.\n",
    "\n",
    "To make that easier, the following function contains the code from the previous analysis all in one place."
   ]
  },
  {
   "cell_type": "code",
   "execution_count": 43,
   "metadata": {},
   "outputs": [
    {
     "data": {
      "application/javascript": [
       "\n",
       "            setTimeout(function() {\n",
       "                var nbb_cell_id = 43;\n",
       "                var nbb_unformatted_code = \"def plot_by_polviews(gss):\\n    \\\"\\\"\\\"Plot mean response by polviews and year.\\n\\n    gss: DataFrame\\n    \\\"\\\"\\\"\\n    gss[\\\"polviews3\\\"] = gss[\\\"polviews\\\"].replace(recode_polviews)\\n    gss[\\\"fair2\\\"] = gss[\\\"fair\\\"].replace(recode_fair)\\n\\n    table = gss.pivot_table(\\n        values=\\\"fair2\\\", index=\\\"year\\\", columns=\\\"polviews3\\\", aggfunc=\\\"mean\\\"\\n    )\\n\\n    plot_columns_lowess(table, columns, colors)\\n\\n    decorate(\\n        xlabel=\\\"Year\\\",\\n        ylabel=\\\"Fraction saying yes\\\",\\n        title=\\\"Would most people try to be fair?\\\",\\n    )\";\n",
       "                var nbb_formatted_code = \"def plot_by_polviews(gss):\\n    \\\"\\\"\\\"Plot mean response by polviews and year.\\n\\n    gss: DataFrame\\n    \\\"\\\"\\\"\\n    gss[\\\"polviews3\\\"] = gss[\\\"polviews\\\"].replace(recode_polviews)\\n    gss[\\\"fair2\\\"] = gss[\\\"fair\\\"].replace(recode_fair)\\n\\n    table = gss.pivot_table(\\n        values=\\\"fair2\\\", index=\\\"year\\\", columns=\\\"polviews3\\\", aggfunc=\\\"mean\\\"\\n    )\\n\\n    plot_columns_lowess(table, columns, colors)\\n\\n    decorate(\\n        xlabel=\\\"Year\\\",\\n        ylabel=\\\"Fraction saying yes\\\",\\n        title=\\\"Would most people try to be fair?\\\",\\n    )\";\n",
       "                var nbb_cells = Jupyter.notebook.get_cells();\n",
       "                for (var i = 0; i < nbb_cells.length; ++i) {\n",
       "                    if (nbb_cells[i].input_prompt_number == nbb_cell_id) {\n",
       "                        if (nbb_cells[i].get_text() == nbb_unformatted_code) {\n",
       "                             nbb_cells[i].set_text(nbb_formatted_code);\n",
       "                        }\n",
       "                        break;\n",
       "                    }\n",
       "                }\n",
       "            }, 500);\n",
       "            "
      ],
      "text/plain": [
       "<IPython.core.display.Javascript object>"
      ]
     },
     "metadata": {},
     "output_type": "display_data"
    }
   ],
   "source": [
    "def plot_by_polviews(gss):\n",
    "    \"\"\"Plot mean response by polviews and year.\n",
    "\n",
    "    gss: DataFrame\n",
    "    \"\"\"\n",
    "    gss[\"polviews3\"] = gss[\"polviews\"].replace(recode_polviews)\n",
    "    gss[\"fair2\"] = gss[\"fair\"].replace(recode_fair)\n",
    "\n",
    "    table = gss.pivot_table(\n",
    "        values=\"fair2\", index=\"year\", columns=\"polviews3\", aggfunc=\"mean\"\n",
    "    )\n",
    "\n",
    "    plot_columns_lowess(table, columns, colors)\n",
    "\n",
    "    decorate(\n",
    "        xlabel=\"Year\",\n",
    "        ylabel=\"Fraction saying yes\",\n",
    "        title=\"Would most people try to be fair?\",\n",
    "    )"
   ]
  },
  {
   "cell_type": "markdown",
   "metadata": {},
   "source": [
    "Now we can loop through the three resampled datasets in the HDF5 file and generate a figure for each one."
   ]
  },
  {
   "cell_type": "code",
   "execution_count": 44,
   "metadata": {},
   "outputs": [
    {
     "data": {
      "image/png": "[encoded data removed]",
      "text/plain": [
       "<Figure size 432x288 with 1 Axes>"
      ]
     },
     "metadata": {
      "needs_background": "light"
     },
     "output_type": "display_data"
    },
    {
     "data": {
      "image/png": "[encoded data removed]",
      "text/plain": [
       "<Figure size 432x288 with 1 Axes>"
      ]
     },
     "metadata": {
      "needs_background": "light"
     },
     "output_type": "display_data"
    },
    {
     "data": {
      "image/png": "[encoded data removed]",
      "text/plain": [
       "<Figure size 432x288 with 1 Axes>"
      ]
     },
     "metadata": {
      "needs_background": "light"
     },
     "output_type": "display_data"
    },
    {
     "data": {
      "application/javascript": [
       "\n",
       "            setTimeout(function() {\n",
       "                var nbb_cell_id = 44;\n",
       "                var nbb_unformatted_code = \"for key in [\\\"gss0\\\", \\\"gss1\\\", \\\"gss2\\\"]:\\n    df = pd.read_hdf(\\\"gss_eda.3.hdf5\\\", key)\\n\\n    plt.figure()\\n    plot_by_polviews(df)\";\n",
       "                var nbb_formatted_code = \"for key in [\\\"gss0\\\", \\\"gss1\\\", \\\"gss2\\\"]:\\n    df = pd.read_hdf(\\\"gss_eda.3.hdf5\\\", key)\\n\\n    plt.figure()\\n    plot_by_polviews(df)\";\n",
       "                var nbb_cells = Jupyter.notebook.get_cells();\n",
       "                for (var i = 0; i < nbb_cells.length; ++i) {\n",
       "                    if (nbb_cells[i].input_prompt_number == nbb_cell_id) {\n",
       "                        if (nbb_cells[i].get_text() == nbb_unformatted_code) {\n",
       "                             nbb_cells[i].set_text(nbb_formatted_code);\n",
       "                        }\n",
       "                        break;\n",
       "                    }\n",
       "                }\n",
       "            }, 500);\n",
       "            "
      ],
      "text/plain": [
       "<IPython.core.display.Javascript object>"
      ]
     },
     "metadata": {},
     "output_type": "display_data"
    }
   ],
   "source": [
    "for key in [\"gss0\", \"gss1\", \"gss2\"]:\n",
    "    df = pd.read_hdf(\"gss_eda.3.hdf5\", key)\n",
    "\n",
    "    plt.figure()\n",
    "    plot_by_polviews(df)"
   ]
  },
  {
   "cell_type": "markdown",
   "metadata": {},
   "source": [
    "Features that are the same in all three figures are more likely to reflect things actually happening in the world.  Features that differ substantially between the figures are more likely to be artifacts of random sampling.\n",
    "\n",
    "In this context, \"artifact\" has the sense of \"something observed in a scientific investigation or experiment that is not naturally present but occurs as a result of the preparative or investigative procedure\" (from <https://www.lexico.com/en/definition/artifact>)."
   ]
  },
  {
   "cell_type": "markdown",
   "metadata": {},
   "source": [
    "**Exercise:** As an exercise, you can run the same analysis with one of the other variables related to outlook including `happy`, `trust`, `helpful`, and maybe `fear` and `hapmar`.\n",
    "\n",
    "For these variables, you will have to read the codebook to see the responses and how they are encoded, then think about which responses to report."
   ]
  },
  {
   "cell_type": "markdown",
   "metadata": {
    "tags": [
     "remove-print"
    ]
   },
   "source": [
    "Here are the steps I suggest:\n",
    "    \n",
    "1) If you have not already saved this notebook, you might want to do that first. If you are running on Colab, select \"Save a copy in Drive\" from the File menu.\n",
    "\n",
    "2) Now, before you modify this notebook, make another copy and give it an appropriate name.\n",
    "\n",
    "3) Search and replace `fair` with the name of the variable you select (use \"Edit->Find and replace\").\n",
    "\n",
    "4) Run the notebook from the beginning and see what other changes you have to make.\n",
    "\n",
    "Write a few sentences to describe the relationships you find between political alignment and outlook."
   ]
  },
  {
   "cell_type": "markdown",
   "metadata": {
    "tags": [
     "remove-cell"
    ]
   },
   "source": [
    "Political Alignment Case Study\n",
    "\n",
    "Copyright 2020 Allen B. Downey\n",
    "\n",
    "License: [Attribution-NonCommercial-ShareAlike 4.0 International (CC BY-NC-SA 4.0)](https://creativecommons.org/licenses/by-nc-sa/4.0/)"
   ]
  },
  {
   "cell_type": "code",
   "execution_count": null,
   "metadata": {},
   "outputs": [],
   "source": []
  }
 ],
 "metadata": {
  "celltoolbar": "Tags",
  "kernelspec": {
   "display_name": "Python 3 (ipykernel)",
   "language": "python",
   "name": "python3"
  },
  "language_info": {
   "codemirror_mode": {
    "name": "ipython",
    "version": 3
   },
   "file_extension": ".py",
   "mimetype": "text/x-python",
   "name": "python",
   "nbconvert_exporter": "python",
   "pygments_lexer": "ipython3",
   "version": "3.7.7"
  }
 },
 "nbformat": 4,
 "nbformat_minor": 1
}
