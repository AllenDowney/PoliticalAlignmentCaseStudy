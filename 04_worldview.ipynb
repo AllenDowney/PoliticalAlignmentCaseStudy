{
 "cells": [
  {
   "cell_type": "markdown",
   "metadata": {},
   "source": [
    "# Political Alignment and Other Views"
   ]
  },
  {
   "cell_type": "markdown",
   "metadata": {},
   "source": [
    "## Introduction\n",
    "\n",
    "This is the fourth in a series of notebooks that make up a [case study in exploratory data analysis](https://allendowney.github.io/PoliticalAlignmentCaseStudy/).\n",
    "This case study is part of the [*Elements of Data Science*](https://allendowney.github.io/ElementsOfDataScience/) curriculum.\n",
    "\n",
    "This notebook is a template for a do-it-yourself, choose-your-own-adventure mini-project that explores the relationship between political alignment and other attitudes and beliefs.\n",
    "\n",
    "I will outline the steps and provide sample code.  You can choose which survey question to explore, adapt my code for your data, and write a report presenting the results.\n",
    "\n",
    "As an example, I wrote up [the results from this notebook in a blog article](https://www.allendowney.com/blog/2019/12/03/political-alignment-and-beliefs-about-homosexuality/)."
   ]
  },
  {
   "cell_type": "markdown",
   "metadata": {},
   "source": [
    "In previous notebooks, we looked at changes in political alignment over time, and explored the relationship between political alignment and survey questions related to \"outlook\".\n",
    "\n",
    "The analysis in this notebook follows the steps we have seen:\n",
    "\n",
    "1) For your variable of interest, you will read the code book to understand the question and valid responses.\n",
    "\n",
    "2) You will compute and display the distribution (PMF) of responses and the distribution within each political group.\n",
    "\n",
    "3) You will recode the variable on a numerical scale that makes it possible to interpret the mean, and then plot the mean over time.\n",
    "\n",
    "4) You will use a pivot table to compute the mean of your variable over time for each political alignment group (liberal, moderate, and conservative).\n",
    "\n",
    "5) Finally, you will look at results from three resamplings of the data to see whether the patterns you observed might be due to random sampling."
   ]
  },
  {
   "cell_type": "markdown",
   "metadata": {},
   "source": [
    "The following cell installs the `empiricaldist` library if necessary."
   ]
  },
  {
   "cell_type": "code",
   "execution_count": 1,
   "metadata": {},
   "outputs": [],
   "source": [
    "try:\n",
    "    import empiricaldist\n",
    "except ImportError:\n",
    "    !pip install empiricaldist"
   ]
  },
  {
   "cell_type": "markdown",
   "metadata": {},
   "source": [
    "If everything we need is installed, the following cell should run without error."
   ]
  },
  {
   "cell_type": "code",
   "execution_count": 2,
   "metadata": {},
   "outputs": [],
   "source": [
    "import pandas as pd\n",
    "import numpy as np\n",
    "import matplotlib.pyplot as plt\n",
    "import seaborn as sns\n",
    "\n",
    "from empiricaldist import Pmf"
   ]
  },
  {
   "cell_type": "markdown",
   "metadata": {},
   "source": [
    "The following cells define functions from previous notebooks we will use again."
   ]
  },
  {
   "cell_type": "code",
   "execution_count": 3,
   "metadata": {},
   "outputs": [],
   "source": [
    "def decorate(**options):\n",
    "    \"\"\"Decorate the current axes.\n",
    "    Call decorate with keyword arguments like\n",
    "    decorate(title='Title',\n",
    "             xlabel='x',\n",
    "             ylabel='y')\n",
    "    The keyword arguments can be any of the axis properties\n",
    "    https://matplotlib.org/api/axes_api.html\n",
    "    \"\"\"\n",
    "    ax = plt.gca()\n",
    "    ax.set(**options)\n",
    "    handles, labels = ax.get_legend_handles_labels()\n",
    "    if handles:\n",
    "        plt.legend()\n",
    "    plt.tight_layout()"
   ]
  },
  {
   "cell_type": "code",
   "execution_count": 4,
   "metadata": {},
   "outputs": [],
   "source": [
    "from statsmodels.nonparametric.smoothers_lowess import lowess\n",
    "\n",
    "def make_lowess(series):\n",
    "    \"\"\"Use LOWESS to compute a smooth line.\n",
    "    \n",
    "    series: pd.Series\n",
    "    \n",
    "    returns: pd.Series\n",
    "    \"\"\"\n",
    "    y = series.values\n",
    "    x = series.index.values\n",
    "\n",
    "    smooth = lowess(y, x)\n",
    "    index, data = np.transpose(smooth)\n",
    "\n",
    "    return pd.Series(data, index=index) "
   ]
  },
  {
   "cell_type": "code",
   "execution_count": 5,
   "metadata": {},
   "outputs": [],
   "source": [
    "def plot_series_lowess(series, color):\n",
    "    \"\"\"Plots a series of data points and a smooth line.\n",
    "    \n",
    "    series: pd.Series\n",
    "    color: string or tuple\n",
    "    \"\"\"\n",
    "    series.plot(linewidth=0, marker='o', color=color, alpha=0.5)\n",
    "    smooth = make_lowess(series)\n",
    "    smooth.plot(label='_', color=color)"
   ]
  },
  {
   "cell_type": "code",
   "execution_count": 6,
   "metadata": {},
   "outputs": [],
   "source": [
    "def plot_columns_lowess(table, columns, color_map):\n",
    "    \"\"\"Plot the columns in a DataFrame.\n",
    "    \n",
    "    table: DataFrame with a cross tabulation\n",
    "    columns: list of column names, in the desired order\n",
    "    color_map: mapping from column names to color_map\n",
    "    \"\"\"\n",
    "    for col in columns:\n",
    "        series = table[col]\n",
    "        plot_series_lowess(series, color_map[col])"
   ]
  },
  {
   "cell_type": "markdown",
   "metadata": {},
   "source": [
    "## Loading the data\n",
    "\n",
    "In the first notebook, we downloaded GSS data, loaded and cleaned it, resampled it to correct for stratified sampling, and then saved the data in an HDF5 file, which is much faster to load.\n",
    "\n",
    "The following cells downloads the file."
   ]
  },
  {
   "cell_type": "code",
   "execution_count": 7,
   "metadata": {},
   "outputs": [],
   "source": [
    "from os.path import basename, exists\n",
    "\n",
    "def download(url):\n",
    "    filename = basename(url)\n",
    "    if not exists(filename):\n",
    "        from urllib.request import urlretrieve\n",
    "        local, _ = urlretrieve(url, filename)\n",
    "        print('Downloaded ' + local)\n",
    "\n",
    "download('https://github.com/AllenDowney/PoliticalAlignmentCaseStudy/' +\n",
    "         'raw/update2021/gss_eds.3.hdf5')"
   ]
  },
  {
   "cell_type": "markdown",
   "metadata": {},
   "source": [
    "Now I'll load the first resampled `DataFrame`."
   ]
  },
  {
   "cell_type": "code",
   "execution_count": 8,
   "metadata": {},
   "outputs": [
    {
     "data": {
      "text/plain": [
       "(68846, 204)"
      ]
     },
     "execution_count": 8,
     "metadata": {},
     "output_type": "execute_result"
    }
   ],
   "source": [
    "datafile = 'gss_eds.3.hdf5'\n",
    "gss = pd.read_hdf(datafile, 'gss0')\n",
    "gss.shape"
   ]
  },
  {
   "cell_type": "code",
   "execution_count": 9,
   "metadata": {
    "tags": [
     "fill-in"
    ]
   },
   "outputs": [
    {
     "data": {
      "text/html": [
       "<div>\n",
       "<style scoped>\n",
       "    .dataframe tbody tr th:only-of-type {\n",
       "        vertical-align: middle;\n",
       "    }\n",
       "\n",
       "    .dataframe tbody tr th {\n",
       "        vertical-align: top;\n",
       "    }\n",
       "\n",
       "    .dataframe thead th {\n",
       "        text-align: right;\n",
       "    }\n",
       "</style>\n",
       "<table border=\"1\" class=\"dataframe\">\n",
       "  <thead>\n",
       "    <tr style=\"text-align: right;\">\n",
       "      <th></th>\n",
       "      <th>year</th>\n",
       "      <th>id_</th>\n",
       "      <th>divorce</th>\n",
       "      <th>sibs</th>\n",
       "      <th>childs</th>\n",
       "      <th>age</th>\n",
       "      <th>educ</th>\n",
       "      <th>degree</th>\n",
       "      <th>sex</th>\n",
       "      <th>race</th>\n",
       "      <th>...</th>\n",
       "      <th>ballot</th>\n",
       "      <th>wtssall</th>\n",
       "      <th>sexbirth</th>\n",
       "      <th>sexnow</th>\n",
       "      <th>eqwlth</th>\n",
       "      <th>realinc</th>\n",
       "      <th>realrinc</th>\n",
       "      <th>coninc</th>\n",
       "      <th>conrinc</th>\n",
       "      <th>commun</th>\n",
       "    </tr>\n",
       "  </thead>\n",
       "  <tbody>\n",
       "    <tr>\n",
       "      <th>0</th>\n",
       "      <td>1972</td>\n",
       "      <td>910</td>\n",
       "      <td>2.0</td>\n",
       "      <td>7.0</td>\n",
       "      <td>0.0</td>\n",
       "      <td>60.0</td>\n",
       "      <td>12.0</td>\n",
       "      <td>1.0</td>\n",
       "      <td>1.0</td>\n",
       "      <td>2.0</td>\n",
       "      <td>...</td>\n",
       "      <td>0</td>\n",
       "      <td>0.8893</td>\n",
       "      <td>NaN</td>\n",
       "      <td>NaN</td>\n",
       "      <td>NaN</td>\n",
       "      <td>30458.0</td>\n",
       "      <td>NaN</td>\n",
       "      <td>41667.0</td>\n",
       "      <td>0.0</td>\n",
       "      <td>NaN</td>\n",
       "    </tr>\n",
       "    <tr>\n",
       "      <th>1</th>\n",
       "      <td>1972</td>\n",
       "      <td>1181</td>\n",
       "      <td>2.0</td>\n",
       "      <td>4.0</td>\n",
       "      <td>0.0</td>\n",
       "      <td>53.0</td>\n",
       "      <td>6.0</td>\n",
       "      <td>0.0</td>\n",
       "      <td>2.0</td>\n",
       "      <td>1.0</td>\n",
       "      <td>...</td>\n",
       "      <td>0</td>\n",
       "      <td>1.7786</td>\n",
       "      <td>NaN</td>\n",
       "      <td>NaN</td>\n",
       "      <td>NaN</td>\n",
       "      <td>24366.0</td>\n",
       "      <td>NaN</td>\n",
       "      <td>33333.0</td>\n",
       "      <td>0.0</td>\n",
       "      <td>NaN</td>\n",
       "    </tr>\n",
       "    <tr>\n",
       "      <th>2</th>\n",
       "      <td>1972</td>\n",
       "      <td>1003</td>\n",
       "      <td>2.0</td>\n",
       "      <td>5.0</td>\n",
       "      <td>0.0</td>\n",
       "      <td>72.0</td>\n",
       "      <td>8.0</td>\n",
       "      <td>0.0</td>\n",
       "      <td>2.0</td>\n",
       "      <td>2.0</td>\n",
       "      <td>...</td>\n",
       "      <td>0</td>\n",
       "      <td>0.8893</td>\n",
       "      <td>NaN</td>\n",
       "      <td>NaN</td>\n",
       "      <td>NaN</td>\n",
       "      <td>2707.0</td>\n",
       "      <td>NaN</td>\n",
       "      <td>3704.0</td>\n",
       "      <td>0.0</td>\n",
       "      <td>NaN</td>\n",
       "    </tr>\n",
       "    <tr>\n",
       "      <th>3</th>\n",
       "      <td>1972</td>\n",
       "      <td>904</td>\n",
       "      <td>NaN</td>\n",
       "      <td>5.0</td>\n",
       "      <td>0.0</td>\n",
       "      <td>19.0</td>\n",
       "      <td>11.0</td>\n",
       "      <td>0.0</td>\n",
       "      <td>1.0</td>\n",
       "      <td>1.0</td>\n",
       "      <td>...</td>\n",
       "      <td>0</td>\n",
       "      <td>1.7786</td>\n",
       "      <td>NaN</td>\n",
       "      <td>NaN</td>\n",
       "      <td>NaN</td>\n",
       "      <td>37226.0</td>\n",
       "      <td>NaN</td>\n",
       "      <td>50926.0</td>\n",
       "      <td>0.0</td>\n",
       "      <td>NaN</td>\n",
       "    </tr>\n",
       "    <tr>\n",
       "      <th>4</th>\n",
       "      <td>1972</td>\n",
       "      <td>708</td>\n",
       "      <td>2.0</td>\n",
       "      <td>7.0</td>\n",
       "      <td>3.0</td>\n",
       "      <td>44.0</td>\n",
       "      <td>14.0</td>\n",
       "      <td>1.0</td>\n",
       "      <td>2.0</td>\n",
       "      <td>1.0</td>\n",
       "      <td>...</td>\n",
       "      <td>0</td>\n",
       "      <td>0.8893</td>\n",
       "      <td>NaN</td>\n",
       "      <td>NaN</td>\n",
       "      <td>NaN</td>\n",
       "      <td>43994.0</td>\n",
       "      <td>NaN</td>\n",
       "      <td>60185.0</td>\n",
       "      <td>0.0</td>\n",
       "      <td>NaN</td>\n",
       "    </tr>\n",
       "  </tbody>\n",
       "</table>\n",
       "<p>5 rows × 204 columns</p>\n",
       "</div>"
      ],
      "text/plain": [
       "   year   id_  divorce  sibs  childs   age  educ  degree  sex  race  ...  \\\n",
       "0  1972   910      2.0   7.0     0.0  60.0  12.0     1.0  1.0   2.0  ...   \n",
       "1  1972  1181      2.0   4.0     0.0  53.0   6.0     0.0  2.0   1.0  ...   \n",
       "2  1972  1003      2.0   5.0     0.0  72.0   8.0     0.0  2.0   2.0  ...   \n",
       "3  1972   904      NaN   5.0     0.0  19.0  11.0     0.0  1.0   1.0  ...   \n",
       "4  1972   708      2.0   7.0     3.0  44.0  14.0     1.0  2.0   1.0  ...   \n",
       "\n",
       "   ballot  wtssall  sexbirth  sexnow  eqwlth  realinc  realrinc   coninc  \\\n",
       "0       0   0.8893       NaN     NaN     NaN  30458.0       NaN  41667.0   \n",
       "1       0   1.7786       NaN     NaN     NaN  24366.0       NaN  33333.0   \n",
       "2       0   0.8893       NaN     NaN     NaN   2707.0       NaN   3704.0   \n",
       "3       0   1.7786       NaN     NaN     NaN  37226.0       NaN  50926.0   \n",
       "4       0   0.8893       NaN     NaN     NaN  43994.0       NaN  60185.0   \n",
       "\n",
       "   conrinc  commun  \n",
       "0      0.0     NaN  \n",
       "1      0.0     NaN  \n",
       "2      0.0     NaN  \n",
       "3      0.0     NaN  \n",
       "4      0.0     NaN  \n",
       "\n",
       "[5 rows x 204 columns]"
      ]
     },
     "execution_count": 9,
     "metadata": {},
     "output_type": "execute_result"
    }
   ],
   "source": [
    "gss.head()"
   ]
  },
  {
   "cell_type": "code",
   "execution_count": 10,
   "metadata": {
    "tags": [
     "fill-in"
    ]
   },
   "outputs": [
    {
     "data": {
      "text/html": [
       "<div>\n",
       "<style scoped>\n",
       "    .dataframe tbody tr th:only-of-type {\n",
       "        vertical-align: middle;\n",
       "    }\n",
       "\n",
       "    .dataframe tbody tr th {\n",
       "        vertical-align: top;\n",
       "    }\n",
       "\n",
       "    .dataframe thead th {\n",
       "        text-align: right;\n",
       "    }\n",
       "</style>\n",
       "<table border=\"1\" class=\"dataframe\">\n",
       "  <thead>\n",
       "    <tr style=\"text-align: right;\">\n",
       "      <th></th>\n",
       "      <th>year</th>\n",
       "      <th>id_</th>\n",
       "      <th>divorce</th>\n",
       "      <th>sibs</th>\n",
       "      <th>childs</th>\n",
       "      <th>age</th>\n",
       "      <th>educ</th>\n",
       "      <th>degree</th>\n",
       "      <th>sex</th>\n",
       "      <th>race</th>\n",
       "      <th>...</th>\n",
       "      <th>ballot</th>\n",
       "      <th>wtssall</th>\n",
       "      <th>sexbirth</th>\n",
       "      <th>sexnow</th>\n",
       "      <th>eqwlth</th>\n",
       "      <th>realinc</th>\n",
       "      <th>realrinc</th>\n",
       "      <th>coninc</th>\n",
       "      <th>conrinc</th>\n",
       "      <th>commun</th>\n",
       "    </tr>\n",
       "  </thead>\n",
       "  <tbody>\n",
       "    <tr>\n",
       "      <th>68841</th>\n",
       "      <td>2021</td>\n",
       "      <td>837</td>\n",
       "      <td>NaN</td>\n",
       "      <td>NaN</td>\n",
       "      <td>NaN</td>\n",
       "      <td>28.0</td>\n",
       "      <td>12.0</td>\n",
       "      <td>1.0</td>\n",
       "      <td>2.0</td>\n",
       "      <td>NaN</td>\n",
       "      <td>...</td>\n",
       "      <td>3</td>\n",
       "      <td>0.877448</td>\n",
       "      <td>NaN</td>\n",
       "      <td>2.0</td>\n",
       "      <td>1.0</td>\n",
       "      <td>10355.0</td>\n",
       "      <td>NaN</td>\n",
       "      <td>15960.0</td>\n",
       "      <td>NaN</td>\n",
       "      <td>NaN</td>\n",
       "    </tr>\n",
       "    <tr>\n",
       "      <th>68842</th>\n",
       "      <td>2021</td>\n",
       "      <td>3761</td>\n",
       "      <td>NaN</td>\n",
       "      <td>NaN</td>\n",
       "      <td>NaN</td>\n",
       "      <td>23.0</td>\n",
       "      <td>11.0</td>\n",
       "      <td>0.0</td>\n",
       "      <td>2.0</td>\n",
       "      <td>NaN</td>\n",
       "      <td>...</td>\n",
       "      <td>2</td>\n",
       "      <td>1.190154</td>\n",
       "      <td>NaN</td>\n",
       "      <td>2.0</td>\n",
       "      <td>1.0</td>\n",
       "      <td>218.0</td>\n",
       "      <td>NaN</td>\n",
       "      <td>336.0</td>\n",
       "      <td>NaN</td>\n",
       "      <td>NaN</td>\n",
       "    </tr>\n",
       "    <tr>\n",
       "      <th>68843</th>\n",
       "      <td>2021</td>\n",
       "      <td>4064</td>\n",
       "      <td>NaN</td>\n",
       "      <td>NaN</td>\n",
       "      <td>NaN</td>\n",
       "      <td>25.0</td>\n",
       "      <td>16.0</td>\n",
       "      <td>3.0</td>\n",
       "      <td>2.0</td>\n",
       "      <td>NaN</td>\n",
       "      <td>...</td>\n",
       "      <td>2</td>\n",
       "      <td>0.935341</td>\n",
       "      <td>NaN</td>\n",
       "      <td>4.0</td>\n",
       "      <td>1.0</td>\n",
       "      <td>3924.0</td>\n",
       "      <td>NaN</td>\n",
       "      <td>6048.0</td>\n",
       "      <td>NaN</td>\n",
       "      <td>NaN</td>\n",
       "    </tr>\n",
       "    <tr>\n",
       "      <th>68844</th>\n",
       "      <td>2021</td>\n",
       "      <td>1113</td>\n",
       "      <td>NaN</td>\n",
       "      <td>NaN</td>\n",
       "      <td>NaN</td>\n",
       "      <td>41.0</td>\n",
       "      <td>NaN</td>\n",
       "      <td>1.0</td>\n",
       "      <td>1.0</td>\n",
       "      <td>NaN</td>\n",
       "      <td>...</td>\n",
       "      <td>3</td>\n",
       "      <td>1.778206</td>\n",
       "      <td>NaN</td>\n",
       "      <td>1.0</td>\n",
       "      <td>3.0</td>\n",
       "      <td>NaN</td>\n",
       "      <td>NaN</td>\n",
       "      <td>NaN</td>\n",
       "      <td>NaN</td>\n",
       "      <td>NaN</td>\n",
       "    </tr>\n",
       "    <tr>\n",
       "      <th>68845</th>\n",
       "      <td>2021</td>\n",
       "      <td>3738</td>\n",
       "      <td>NaN</td>\n",
       "      <td>NaN</td>\n",
       "      <td>NaN</td>\n",
       "      <td>20.0</td>\n",
       "      <td>10.0</td>\n",
       "      <td>0.0</td>\n",
       "      <td>1.0</td>\n",
       "      <td>NaN</td>\n",
       "      <td>...</td>\n",
       "      <td>1</td>\n",
       "      <td>7.218392</td>\n",
       "      <td>NaN</td>\n",
       "      <td>1.0</td>\n",
       "      <td>NaN</td>\n",
       "      <td>NaN</td>\n",
       "      <td>NaN</td>\n",
       "      <td>NaN</td>\n",
       "      <td>NaN</td>\n",
       "      <td>NaN</td>\n",
       "    </tr>\n",
       "  </tbody>\n",
       "</table>\n",
       "<p>5 rows × 204 columns</p>\n",
       "</div>"
      ],
      "text/plain": [
       "       year   id_  divorce  sibs  childs   age  educ  degree  sex  race  ...  \\\n",
       "68841  2021   837      NaN   NaN     NaN  28.0  12.0     1.0  2.0   NaN  ...   \n",
       "68842  2021  3761      NaN   NaN     NaN  23.0  11.0     0.0  2.0   NaN  ...   \n",
       "68843  2021  4064      NaN   NaN     NaN  25.0  16.0     3.0  2.0   NaN  ...   \n",
       "68844  2021  1113      NaN   NaN     NaN  41.0   NaN     1.0  1.0   NaN  ...   \n",
       "68845  2021  3738      NaN   NaN     NaN  20.0  10.0     0.0  1.0   NaN  ...   \n",
       "\n",
       "       ballot   wtssall  sexbirth  sexnow  eqwlth  realinc  realrinc   coninc  \\\n",
       "68841       3  0.877448       NaN     2.0     1.0  10355.0       NaN  15960.0   \n",
       "68842       2  1.190154       NaN     2.0     1.0    218.0       NaN    336.0   \n",
       "68843       2  0.935341       NaN     4.0     1.0   3924.0       NaN   6048.0   \n",
       "68844       3  1.778206       NaN     1.0     3.0      NaN       NaN      NaN   \n",
       "68845       1  7.218392       NaN     1.0     NaN      NaN       NaN      NaN   \n",
       "\n",
       "       conrinc  commun  \n",
       "68841      NaN     NaN  \n",
       "68842      NaN     NaN  \n",
       "68843      NaN     NaN  \n",
       "68844      NaN     NaN  \n",
       "68845      NaN     NaN  \n",
       "\n",
       "[5 rows x 204 columns]"
      ]
     },
     "execution_count": 10,
     "metadata": {},
     "output_type": "execute_result"
    }
   ],
   "source": [
    "gss.tail()"
   ]
  },
  {
   "cell_type": "code",
   "execution_count": 11,
   "metadata": {
    "tags": [
     "fill-in"
    ]
   },
   "outputs": [
    {
     "name": "stdout",
     "output_type": "stream",
     "text": [
      "year\n",
      "id_\n",
      "divorce\n",
      "sibs\n",
      "childs\n",
      "age\n",
      "educ\n",
      "degree\n",
      "sex\n",
      "race\n",
      "res16\n",
      "reg16\n",
      "adults\n",
      "income\n",
      "rincome\n",
      "region\n",
      "srcbelt\n",
      "partyid\n",
      "pres96\n",
      "pres00\n",
      "pres04\n",
      "pres08\n",
      "pres12\n",
      "polviews\n",
      "natspac\n",
      "natenvir\n",
      "natheal\n",
      "natcity\n",
      "natcrime\n",
      "natdrug\n",
      "nateduc\n",
      "natrace\n",
      "natarms\n",
      "nataid\n",
      "natfare\n",
      "natroad\n",
      "natsoc\n",
      "natmass\n",
      "natpark\n",
      "natchld\n",
      "natsci\n",
      "natenrgy\n",
      "spkath\n",
      "colath\n",
      "libath\n",
      "spksoc\n",
      "colsoc\n",
      "libsoc\n",
      "spkrac\n",
      "colrac\n",
      "librac\n",
      "spkcom\n",
      "colcom\n",
      "libcom\n",
      "spkmil\n",
      "colmil\n",
      "libmil\n",
      "spkhomo\n",
      "colhomo\n",
      "libhomo\n",
      "spkmslm\n",
      "colmslm\n",
      "libmslm\n",
      "cappun\n",
      "gunlaw\n",
      "grass\n",
      "relig\n",
      "fund\n",
      "attend\n",
      "reliten\n",
      "postlife\n",
      "pray\n",
      "popespks\n",
      "relig16\n",
      "prayer\n",
      "bible\n",
      "racmar\n",
      "racdin\n",
      "racpush\n",
      "racseg\n",
      "racopen\n",
      "raclive\n",
      "racclos\n",
      "racdis\n",
      "racinteg\n",
      "rachome\n",
      "racschol\n",
      "racfew\n",
      "rachaf\n",
      "racmost\n",
      "racpres\n",
      "racchurh\n",
      "affrmact\n",
      "happy\n",
      "hapmar\n",
      "health\n",
      "life\n",
      "helpful\n",
      "fair\n",
      "trust\n",
      "confinan\n",
      "conbus\n",
      "conclerg\n",
      "coneduc\n",
      "confed\n",
      "conlabor\n",
      "conpress\n",
      "conmedic\n",
      "contv\n",
      "conjudge\n",
      "consci\n",
      "conlegis\n",
      "conarmy\n",
      "satjob\n",
      "class_\n",
      "satfin\n",
      "finrela\n",
      "union_\n",
      "fehome\n",
      "fework\n",
      "fepres\n",
      "fepol\n",
      "abdefect\n",
      "abnomore\n",
      "abhlth\n",
      "abpoor\n",
      "abrape\n",
      "absingle\n",
      "abany\n",
      "chldidel\n",
      "sexeduc\n",
      "divlaw\n",
      "premarsx\n",
      "teensex\n",
      "xmarsex\n",
      "homosex\n",
      "pornlaw\n",
      "spanking\n",
      "letdie1\n",
      "polhitok\n",
      "polabuse\n",
      "polmurdr\n",
      "polescap\n",
      "polattak\n",
      "fear\n",
      "owngun\n",
      "pistol\n",
      "rowngun\n",
      "hunt\n",
      "phone\n",
      "fechld\n",
      "fehelp\n",
      "fepresch\n",
      "fefam\n",
      "racdif1\n",
      "racdif2\n",
      "racdif3\n",
      "racdif4\n",
      "god\n",
      "reborn\n",
      "savesoul\n",
      "racwork\n",
      "fejobaff\n",
      "discaffm\n",
      "discaffw\n",
      "fehire\n",
      "relpersn\n",
      "sprtprsn\n",
      "relexp\n",
      "spklang\n",
      "compuse\n",
      "hrsrelax\n",
      "trdunion\n",
      "wkracism\n",
      "wksexism\n",
      "wkharsex\n",
      "databank\n",
      "goodlife\n",
      "meovrwrk\n",
      "miracles\n",
      "relexper\n",
      "relactiv\n",
      "matesex\n",
      "frndsex\n",
      "acqntsex\n",
      "pikupsex\n",
      "paidsex\n",
      "othersex\n",
      "sexsex\n",
      "sexfreq\n",
      "sexsex5\n",
      "sexornt\n",
      "hhrace\n",
      "cohort\n",
      "ballot\n",
      "wtssall\n",
      "sexbirth\n",
      "sexnow\n",
      "eqwlth\n",
      "realinc\n",
      "realrinc\n",
      "coninc\n",
      "conrinc\n",
      "commun\n"
     ]
    }
   ],
   "source": [
    "for varname in gss.columns:\n",
    "    print(varname)"
   ]
  },
  {
   "cell_type": "markdown",
   "metadata": {},
   "source": [
    "## Changes in social attitudes\n",
    "\n",
    "The General Social Survey includes questions about a variety of social attitudes and beliefs.  We can use this dataset to explore changes in the responses over time and the relationship with political alignment.\n",
    "\n",
    "In my subset of the GSS data, I selected questions that were asked repeatedly over the interval of the survey.\n",
    "\n",
    "To follow the process demonstrated in this notebook, you should choose a variable that you think might be interesting.\n",
    "\n",
    "If you are not sure which variable to explore, here is a [random selection of three that you can choose from](https://en.wikipedia.org/wiki/The_Paradox_of_Choice):"
   ]
  },
  {
   "cell_type": "code",
   "execution_count": 12,
   "metadata": {},
   "outputs": [
    {
     "name": "stdout",
     "output_type": "stream",
     "text": [
      "fework\n",
      "prayer\n",
      "helpful\n"
     ]
    }
   ],
   "source": [
    "cols = list(gss.columns)\n",
    "for col in ['id_', 'year', 'ballot', 'age', 'sex', 'race']:\n",
    "    cols.remove(col)\n",
    "    \n",
    "np.random.shuffle(cols)\n",
    "for col in cols[:3]:\n",
    "    print(col)"
   ]
  },
  {
   "cell_type": "markdown",
   "metadata": {},
   "source": [
    "Fill in the name of the variable you chose below, and select a column."
   ]
  },
  {
   "cell_type": "code",
   "execution_count": 13,
   "metadata": {
    "tags": [
     "fill-in"
    ]
   },
   "outputs": [
    {
     "data": {
      "text/plain": [
       "68841    1.0\n",
       "68842    NaN\n",
       "68843    NaN\n",
       "68844    4.0\n",
       "68845    4.0\n",
       "Name: homosex, dtype: float32"
      ]
     },
     "execution_count": 13,
     "metadata": {},
     "output_type": "execute_result"
    }
   ],
   "source": [
    "varname = 'homosex'\n",
    "column = gss[varname]\n",
    "column.tail()"
   ]
  },
  {
   "cell_type": "markdown",
   "metadata": {},
   "source": [
    "## Responses\n",
    "\n",
    "Here's the distribution of responses:"
   ]
  },
  {
   "cell_type": "code",
   "execution_count": 14,
   "metadata": {
    "tags": [
     "fill-in"
    ]
   },
   "outputs": [
    {
     "data": {
      "text/plain": [
       "1.0    24228\n",
       "2.0     1785\n",
       "3.0     2770\n",
       "4.0    11524\n",
       "5.0       94\n",
       "NaN    28445\n",
       "Name: homosex, dtype: int64"
      ]
     },
     "execution_count": 14,
     "metadata": {},
     "output_type": "execute_result"
    }
   ],
   "source": [
    "column.value_counts(dropna=False).sort_index()"
   ]
  },
  {
   "cell_type": "markdown",
   "metadata": {},
   "source": [
    "[Use this link to read the codebook](https://gss.norc.org/Documents/codebook/GSS%202021%20Codebook%20R1.pdf) for the variable you chose.\n",
    "\n",
    "Then fill in the following cell with the responses and their labels."
   ]
  },
  {
   "cell_type": "code",
   "execution_count": 15,
   "metadata": {},
   "outputs": [],
   "source": [
    "responses = [1, 2, 3, 4, 5]\n",
    "\n",
    "labels = ['Always wrong',\n",
    "          'Almost always wrong',\n",
    "          'Sometimes wrong',\n",
    "          'Not at all wrong',\n",
    "          'Other']"
   ]
  },
  {
   "cell_type": "markdown",
   "metadata": {},
   "source": [
    "And here's what the distribution looks like."
   ]
  },
  {
   "cell_type": "code",
   "execution_count": 16,
   "metadata": {},
   "outputs": [
    {
     "data": {
      "image/png": "[encoded data removed]",
      "text/plain": [
       "<Figure size 432x288 with 1 Axes>"
      ]
     },
     "metadata": {
      "needs_background": "light"
     },
     "output_type": "display_data"
    }
   ],
   "source": [
    "pmf = Pmf.from_seq(column)\n",
    "pmf.bar(alpha=0.7)\n",
    "\n",
    "decorate(xlabel='Response',\n",
    "         ylabel='PMF',\n",
    "         title='Distribution of responses')\n",
    "\n",
    "plt.xticks(responses, labels, rotation=30);"
   ]
  },
  {
   "cell_type": "markdown",
   "metadata": {},
   "source": [
    "Remember that these results are an average over the entire interval of the survey, so you should not interpret it as a current condition."
   ]
  },
  {
   "cell_type": "markdown",
   "metadata": {},
   "source": [
    "## Responses over time\n",
    "\n",
    "If we make a cross tabulation of `year` and the variable of interest, we get the distribution of responses over time."
   ]
  },
  {
   "cell_type": "code",
   "execution_count": 17,
   "metadata": {
    "tags": [
     "fill-in"
    ]
   },
   "outputs": [],
   "source": [
    "xtab = pd.crosstab(gss['year'], column, normalize='index')"
   ]
  },
  {
   "cell_type": "code",
   "execution_count": 18,
   "metadata": {
    "tags": [
     "fill-in"
    ]
   },
   "outputs": [
    {
     "data": {
      "text/html": [
       "<div>\n",
       "<style scoped>\n",
       "    .dataframe tbody tr th:only-of-type {\n",
       "        vertical-align: middle;\n",
       "    }\n",
       "\n",
       "    .dataframe tbody tr th {\n",
       "        vertical-align: top;\n",
       "    }\n",
       "\n",
       "    .dataframe thead th {\n",
       "        text-align: right;\n",
       "    }\n",
       "</style>\n",
       "<table border=\"1\" class=\"dataframe\">\n",
       "  <thead>\n",
       "    <tr style=\"text-align: right;\">\n",
       "      <th>homosex</th>\n",
       "      <th>1.0</th>\n",
       "      <th>2.0</th>\n",
       "      <th>3.0</th>\n",
       "      <th>4.0</th>\n",
       "      <th>5.0</th>\n",
       "    </tr>\n",
       "    <tr>\n",
       "      <th>year</th>\n",
       "      <th></th>\n",
       "      <th></th>\n",
       "      <th></th>\n",
       "      <th></th>\n",
       "      <th></th>\n",
       "    </tr>\n",
       "  </thead>\n",
       "  <tbody>\n",
       "    <tr>\n",
       "      <th>1973</th>\n",
       "      <td>0.724066</td>\n",
       "      <td>0.057400</td>\n",
       "      <td>0.082988</td>\n",
       "      <td>0.112725</td>\n",
       "      <td>0.022822</td>\n",
       "    </tr>\n",
       "    <tr>\n",
       "      <th>1974</th>\n",
       "      <td>0.709972</td>\n",
       "      <td>0.047051</td>\n",
       "      <td>0.073736</td>\n",
       "      <td>0.126404</td>\n",
       "      <td>0.042837</td>\n",
       "    </tr>\n",
       "    <tr>\n",
       "      <th>1976</th>\n",
       "      <td>0.679806</td>\n",
       "      <td>0.057400</td>\n",
       "      <td>0.089212</td>\n",
       "      <td>0.173582</td>\n",
       "      <td>0.000000</td>\n",
       "    </tr>\n",
       "    <tr>\n",
       "      <th>1977</th>\n",
       "      <td>0.729767</td>\n",
       "      <td>0.062414</td>\n",
       "      <td>0.071331</td>\n",
       "      <td>0.136488</td>\n",
       "      <td>0.000000</td>\n",
       "    </tr>\n",
       "    <tr>\n",
       "      <th>1980</th>\n",
       "      <td>0.725772</td>\n",
       "      <td>0.055994</td>\n",
       "      <td>0.058148</td>\n",
       "      <td>0.160086</td>\n",
       "      <td>0.000000</td>\n",
       "    </tr>\n",
       "  </tbody>\n",
       "</table>\n",
       "</div>"
      ],
      "text/plain": [
       "homosex       1.0       2.0       3.0       4.0       5.0\n",
       "year                                                     \n",
       "1973     0.724066  0.057400  0.082988  0.112725  0.022822\n",
       "1974     0.709972  0.047051  0.073736  0.126404  0.042837\n",
       "1976     0.679806  0.057400  0.089212  0.173582  0.000000\n",
       "1977     0.729767  0.062414  0.071331  0.136488  0.000000\n",
       "1980     0.725772  0.055994  0.058148  0.160086  0.000000"
      ]
     },
     "execution_count": 18,
     "metadata": {},
     "output_type": "execute_result"
    }
   ],
   "source": [
    "xtab.head()"
   ]
  },
  {
   "cell_type": "code",
   "execution_count": 19,
   "metadata": {
    "tags": [
     "fill-in"
    ]
   },
   "outputs": [
    {
     "data": {
      "text/html": [
       "<div>\n",
       "<style scoped>\n",
       "    .dataframe tbody tr th:only-of-type {\n",
       "        vertical-align: middle;\n",
       "    }\n",
       "\n",
       "    .dataframe tbody tr th {\n",
       "        vertical-align: top;\n",
       "    }\n",
       "\n",
       "    .dataframe thead th {\n",
       "        text-align: right;\n",
       "    }\n",
       "</style>\n",
       "<table border=\"1\" class=\"dataframe\">\n",
       "  <thead>\n",
       "    <tr style=\"text-align: right;\">\n",
       "      <th>homosex</th>\n",
       "      <th>1.0</th>\n",
       "      <th>2.0</th>\n",
       "      <th>3.0</th>\n",
       "      <th>4.0</th>\n",
       "      <th>5.0</th>\n",
       "    </tr>\n",
       "    <tr>\n",
       "      <th>year</th>\n",
       "      <th></th>\n",
       "      <th></th>\n",
       "      <th></th>\n",
       "      <th></th>\n",
       "      <th></th>\n",
       "    </tr>\n",
       "  </thead>\n",
       "  <tbody>\n",
       "    <tr>\n",
       "      <th>2012</th>\n",
       "      <td>0.449878</td>\n",
       "      <td>0.029340</td>\n",
       "      <td>0.075795</td>\n",
       "      <td>0.444988</td>\n",
       "      <td>0.0</td>\n",
       "    </tr>\n",
       "    <tr>\n",
       "      <th>2014</th>\n",
       "      <td>0.388069</td>\n",
       "      <td>0.029520</td>\n",
       "      <td>0.077491</td>\n",
       "      <td>0.504920</td>\n",
       "      <td>0.0</td>\n",
       "    </tr>\n",
       "    <tr>\n",
       "      <th>2016</th>\n",
       "      <td>0.379444</td>\n",
       "      <td>0.036667</td>\n",
       "      <td>0.075000</td>\n",
       "      <td>0.508889</td>\n",
       "      <td>0.0</td>\n",
       "    </tr>\n",
       "    <tr>\n",
       "      <th>2018</th>\n",
       "      <td>0.332471</td>\n",
       "      <td>0.034282</td>\n",
       "      <td>0.057568</td>\n",
       "      <td>0.575679</td>\n",
       "      <td>0.0</td>\n",
       "    </tr>\n",
       "    <tr>\n",
       "      <th>2021</th>\n",
       "      <td>0.259203</td>\n",
       "      <td>0.040607</td>\n",
       "      <td>0.069829</td>\n",
       "      <td>0.630361</td>\n",
       "      <td>0.0</td>\n",
       "    </tr>\n",
       "  </tbody>\n",
       "</table>\n",
       "</div>"
      ],
      "text/plain": [
       "homosex       1.0       2.0       3.0       4.0  5.0\n",
       "year                                                \n",
       "2012     0.449878  0.029340  0.075795  0.444988  0.0\n",
       "2014     0.388069  0.029520  0.077491  0.504920  0.0\n",
       "2016     0.379444  0.036667  0.075000  0.508889  0.0\n",
       "2018     0.332471  0.034282  0.057568  0.575679  0.0\n",
       "2021     0.259203  0.040607  0.069829  0.630361  0.0"
      ]
     },
     "execution_count": 19,
     "metadata": {},
     "output_type": "execute_result"
    }
   ],
   "source": [
    "xtab.tail()"
   ]
  },
  {
   "cell_type": "markdown",
   "metadata": {},
   "source": [
    "Now we can plot the results."
   ]
  },
  {
   "cell_type": "code",
   "execution_count": 20,
   "metadata": {},
   "outputs": [
    {
     "data": {
      "image/png": "[encoded data removed]",
      "text/plain": [
       "<Figure size 432x288 with 1 Axes>"
      ]
     },
     "metadata": {
      "needs_background": "light"
     },
     "output_type": "display_data"
    }
   ],
   "source": [
    "for response, label in zip(responses, labels):\n",
    "    xtab[response].plot(label=label)\n",
    "\n",
    "decorate(xlabel='Year',\n",
    "         ylabel='Percentage',\n",
    "         title='Attitudes about same-sex relations')"
   ]
  },
  {
   "cell_type": "markdown",
   "metadata": {},
   "source": [
    "This visualization is useful for exploring the data, but I would not present this version to an audience."
   ]
  },
  {
   "cell_type": "markdown",
   "metadata": {},
   "source": [
    "## Political alignment\n",
    "\n",
    "To explore the relationship between this variable and political alignment, I'll recode political alignment into three groups:"
   ]
  },
  {
   "cell_type": "code",
   "execution_count": 21,
   "metadata": {},
   "outputs": [],
   "source": [
    "d_polviews = {1: 'Liberal', \n",
    "              2: 'Liberal', \n",
    "              3: 'Liberal', \n",
    "              4: 'Moderate', \n",
    "              5: 'Conservative', \n",
    "              6: 'Conservative', \n",
    "              7: 'Conservative'}"
   ]
  },
  {
   "cell_type": "markdown",
   "metadata": {},
   "source": [
    "I'll use `replace` and store the result as a new column in the DataFrame."
   ]
  },
  {
   "cell_type": "code",
   "execution_count": 22,
   "metadata": {},
   "outputs": [],
   "source": [
    "gss['polviews3'] = gss['polviews'].replace(d_polviews)"
   ]
  },
  {
   "cell_type": "markdown",
   "metadata": {},
   "source": [
    "With this scale, there are roughly the same number of people in each group."
   ]
  },
  {
   "cell_type": "code",
   "execution_count": 23,
   "metadata": {},
   "outputs": [
    {
     "data": {
      "text/plain": [
       "Moderate        22950\n",
       "Conservative    20359\n",
       "Liberal         16195\n",
       "NaN              9342\n",
       "Name: polviews3, dtype: int64"
      ]
     },
     "execution_count": 23,
     "metadata": {},
     "output_type": "execute_result"
    }
   ],
   "source": [
    "gss['polviews3'].value_counts(dropna=False)"
   ]
  },
  {
   "cell_type": "code",
   "execution_count": 24,
   "metadata": {},
   "outputs": [
    {
     "data": {
      "image/png": "[encoded data removed]",
      "text/plain": [
       "<Figure size 432x288 with 1 Axes>"
      ]
     },
     "metadata": {
      "needs_background": "light"
     },
     "output_type": "display_data"
    }
   ],
   "source": [
    "pmf = Pmf.from_seq(gss['polviews3'])\n",
    "pmf.bar(color='C1', alpha=0.7)\n",
    "\n",
    "decorate(xlabel='Political alignment',\n",
    "         ylabel='PMF',\n",
    "         title='Distribution of political alignment')"
   ]
  },
  {
   "cell_type": "markdown",
   "metadata": {},
   "source": [
    "## Group by political alignment\n",
    "\n",
    "Now we can use `groupby` to group the respondents by political alignment."
   ]
  },
  {
   "cell_type": "code",
   "execution_count": 25,
   "metadata": {
    "tags": [
     "fill-in"
    ]
   },
   "outputs": [
    {
     "data": {
      "text/plain": [
       "<pandas.core.groupby.generic.DataFrameGroupBy object at 0x7fb9e26c9d10>"
      ]
     },
     "execution_count": 25,
     "metadata": {},
     "output_type": "execute_result"
    }
   ],
   "source": [
    "by_polviews = gss.groupby('polviews3')\n",
    "by_polviews"
   ]
  },
  {
   "cell_type": "markdown",
   "metadata": {},
   "source": [
    "Next I will plot the distribution of responses in each group.\n",
    "\n",
    "But first I'll make a dictionary that maps from each group to a color."
   ]
  },
  {
   "cell_type": "code",
   "execution_count": 26,
   "metadata": {},
   "outputs": [
    {
     "data": {
      "image/png": "[encoded data removed]",
      "text/plain": [
       "<Figure size 360x72 with 1 Axes>"
      ]
     },
     "metadata": {
      "needs_background": "light"
     },
     "output_type": "display_data"
    }
   ],
   "source": [
    "muted = sns.color_palette('muted', 5)\n",
    "sns.palplot(muted)"
   ]
  },
  {
   "cell_type": "code",
   "execution_count": 27,
   "metadata": {},
   "outputs": [],
   "source": [
    "color_map = {'Conservative': muted[3], \n",
    "              'Moderate': muted[4], \n",
    "               'Liberal': muted[0]}"
   ]
  },
  {
   "cell_type": "markdown",
   "metadata": {},
   "source": [
    "Now I'll make a PMF of responses for each group."
   ]
  },
  {
   "cell_type": "code",
   "execution_count": 28,
   "metadata": {},
   "outputs": [
    {
     "data": {
      "image/png": "[encoded data removed]",
      "text/plain": [
       "<Figure size 432x288 with 1 Axes>"
      ]
     },
     "metadata": {
      "needs_background": "light"
     },
     "output_type": "display_data"
    },
    {
     "data": {
      "image/png": "[encoded data removed]",
      "text/plain": [
       "<Figure size 432x288 with 1 Axes>"
      ]
     },
     "metadata": {
      "needs_background": "light"
     },
     "output_type": "display_data"
    },
    {
     "data": {
      "image/png": "[encoded data removed]",
      "text/plain": [
       "<Figure size 432x288 with 1 Axes>"
      ]
     },
     "metadata": {
      "needs_background": "light"
     },
     "output_type": "display_data"
    }
   ],
   "source": [
    "for name, group in by_polviews:\n",
    "    plt.figure()\n",
    "    pmf = Pmf.from_seq(group[varname])\n",
    "    pmf.bar(label=name, color=color_map[name], alpha=0.7)\n",
    "    \n",
    "    decorate(xlabel='Response',\n",
    "             ylabel='PMF',\n",
    "             title='Distribution of responses')"
   ]
  },
  {
   "cell_type": "markdown",
   "metadata": {},
   "source": [
    "But again, these results are an average over the interval of the survey, so you should not interpret them as a current condition."
   ]
  },
  {
   "cell_type": "markdown",
   "metadata": {},
   "source": [
    "## Recode\n",
    "\n",
    "For each group, we could compute the mean of the responses, but it would be hard to interpret. So we'll recode the variable of interest to make the mean more... meaningful.\n",
    "\n",
    "For the variable I chose, a majority of respondents chose \"always wrong\".  I'll use that as my baseline response with code 1, and lump the other responses with code 0.\n",
    "\n",
    "We can use `replace` to recode the values and store the result as a new column in the DataFrame."
   ]
  },
  {
   "cell_type": "code",
   "execution_count": 29,
   "metadata": {
    "tags": [
     "fill-in"
    ]
   },
   "outputs": [],
   "source": [
    "d_recode = {1:1, 2:0, 3:0, 4:0, 5:0}\n",
    "\n",
    "gss['recoded'] = column.replace(d_recode)\n",
    "gss['recoded'].name = varname"
   ]
  },
  {
   "cell_type": "markdown",
   "metadata": {},
   "source": [
    "And we'll use `value_counts` to check whether it worked."
   ]
  },
  {
   "cell_type": "code",
   "execution_count": 30,
   "metadata": {},
   "outputs": [
    {
     "data": {
      "text/plain": [
       "NaN    28445\n",
       "1.0    24228\n",
       "0.0    16173\n",
       "Name: homosex, dtype: int64"
      ]
     },
     "execution_count": 30,
     "metadata": {},
     "output_type": "execute_result"
    }
   ],
   "source": [
    "gss['recoded'].value_counts(dropna=False)"
   ]
  },
  {
   "cell_type": "markdown",
   "metadata": {},
   "source": [
    "If we compute the mean, we can interpret it as \"the fraction of respondents who think same-sex sexual relations are always wrong\".\n",
    "\n",
    "NOTE: `Series.mean` drops NaN values before computing the mean."
   ]
  },
  {
   "cell_type": "code",
   "execution_count": 31,
   "metadata": {
    "tags": [
     "fill-in"
    ]
   },
   "outputs": [
    {
     "data": {
      "text/plain": [
       "0.5996881"
      ]
     },
     "execution_count": 31,
     "metadata": {},
     "output_type": "execute_result"
    }
   ],
   "source": [
    "gss['recoded'].mean()"
   ]
  },
  {
   "cell_type": "markdown",
   "metadata": {},
   "source": [
    "## Average by group\n",
    "\n",
    "\n",
    "\n",
    "Now we can compute the mean of the recoded variable in each group."
   ]
  },
  {
   "cell_type": "code",
   "execution_count": 32,
   "metadata": {
    "tags": [
     "fill-in"
    ]
   },
   "outputs": [
    {
     "data": {
      "text/plain": [
       "polviews3\n",
       "Conservative    0.720455\n",
       "Liberal         0.406851\n",
       "Moderate        0.601922\n",
       "Name: homosex, dtype: float32"
      ]
     },
     "execution_count": 32,
     "metadata": {},
     "output_type": "execute_result"
    }
   ],
   "source": [
    "means = by_polviews['recoded'].mean()\n",
    "means"
   ]
  },
  {
   "cell_type": "markdown",
   "metadata": {},
   "source": [
    "To get the values in a particular order, we can use the group names as an index:"
   ]
  },
  {
   "cell_type": "code",
   "execution_count": 33,
   "metadata": {},
   "outputs": [
    {
     "data": {
      "text/plain": [
       "polviews3\n",
       "Conservative    0.720455\n",
       "Moderate        0.601922\n",
       "Liberal         0.406851\n",
       "Name: homosex, dtype: float32"
      ]
     },
     "execution_count": 33,
     "metadata": {},
     "output_type": "execute_result"
    }
   ],
   "source": [
    "names = ['Conservative', 'Moderate', 'Liberal']\n",
    "means[names]"
   ]
  },
  {
   "cell_type": "markdown",
   "metadata": {},
   "source": [
    "Now we can make a bar plot with color-coded bars:"
   ]
  },
  {
   "cell_type": "code",
   "execution_count": 34,
   "metadata": {},
   "outputs": [
    {
     "data": {
      "image/png": "[encoded data removed]",
      "text/plain": [
       "<Figure size 432x288 with 1 Axes>"
      ]
     },
     "metadata": {
      "needs_background": "light"
     },
     "output_type": "display_data"
    }
   ],
   "source": [
    "colors = color_map.values()\n",
    "\n",
    "means[names].plot(kind='bar', color=colors, alpha=0.7)\n",
    "\n",
    "decorate(xlabel='Political alignment',\n",
    "         ylabel='Fraction saying yes',\n",
    "         title='Are same-sex sexual relations always wrong?')\n",
    "\n",
    "plt.xticks(rotation=0);"
   ]
  },
  {
   "cell_type": "markdown",
   "metadata": {},
   "source": [
    "As we might expect, more conservatives think homosexuality is \"always wrong\", compared to moderates and liberals."
   ]
  },
  {
   "cell_type": "markdown",
   "metadata": {},
   "source": [
    "## Time series\n",
    "\n",
    "We can use `groupby` to group responses by year."
   ]
  },
  {
   "cell_type": "code",
   "execution_count": 35,
   "metadata": {
    "tags": [
     "fill-in"
    ]
   },
   "outputs": [],
   "source": [
    "by_year = gss.groupby('year')"
   ]
  },
  {
   "cell_type": "markdown",
   "metadata": {},
   "source": [
    "From the result we can select the recoded variable and compute the mean."
   ]
  },
  {
   "cell_type": "code",
   "execution_count": 36,
   "metadata": {
    "tags": [
     "fill-in"
    ]
   },
   "outputs": [],
   "source": [
    "time_series = by_year['recoded'].mean()"
   ]
  },
  {
   "cell_type": "markdown",
   "metadata": {},
   "source": [
    "And we can plot the results with the data points themselves as circles and a local regression model as a line."
   ]
  },
  {
   "cell_type": "code",
   "execution_count": 37,
   "metadata": {},
   "outputs": [
    {
     "data": {
      "image/png": "[encoded data removed]",
      "text/plain": [
       "<Figure size 432x288 with 1 Axes>"
      ]
     },
     "metadata": {
      "needs_background": "light"
     },
     "output_type": "display_data"
    }
   ],
   "source": [
    "plot_series_lowess(time_series, 'C1')\n",
    "\n",
    "decorate(xlabel='Year',\n",
    "         ylabel='Fraction saying yes',\n",
    "         title='Are same-sex sexual relations always wrong?')"
   ]
  },
  {
   "cell_type": "markdown",
   "metadata": {},
   "source": [
    "The fraction of respondents who think homosexuality is wrong has been falling steeply since about 1990."
   ]
  },
  {
   "cell_type": "markdown",
   "metadata": {},
   "source": [
    "## Time series by group\n",
    "\n",
    "So far, we have grouped by `polviews3` and computed the mean of the variable of interest in each group.\n",
    "\n",
    "Then we grouped by `year` and computed the mean for each year.\n",
    "\n",
    "Now we'll use `pivot_table` to compute the mean in each group for each year."
   ]
  },
  {
   "cell_type": "code",
   "execution_count": 38,
   "metadata": {
    "tags": [
     "fill-in"
    ]
   },
   "outputs": [],
   "source": [
    "table = gss.pivot_table(values='recoded', \n",
    "                        index='year', \n",
    "                        columns='polviews3', \n",
    "                        aggfunc='mean')"
   ]
  },
  {
   "cell_type": "code",
   "execution_count": 39,
   "metadata": {
    "tags": [
     "fill-in"
    ]
   },
   "outputs": [
    {
     "data": {
      "text/html": [
       "<div>\n",
       "<style scoped>\n",
       "    .dataframe tbody tr th:only-of-type {\n",
       "        vertical-align: middle;\n",
       "    }\n",
       "\n",
       "    .dataframe tbody tr th {\n",
       "        vertical-align: top;\n",
       "    }\n",
       "\n",
       "    .dataframe thead th {\n",
       "        text-align: right;\n",
       "    }\n",
       "</style>\n",
       "<table border=\"1\" class=\"dataframe\">\n",
       "  <thead>\n",
       "    <tr style=\"text-align: right;\">\n",
       "      <th>polviews3</th>\n",
       "      <th>Conservative</th>\n",
       "      <th>Liberal</th>\n",
       "      <th>Moderate</th>\n",
       "    </tr>\n",
       "    <tr>\n",
       "      <th>year</th>\n",
       "      <th></th>\n",
       "      <th></th>\n",
       "      <th></th>\n",
       "    </tr>\n",
       "  </thead>\n",
       "  <tbody>\n",
       "    <tr>\n",
       "      <th>1974</th>\n",
       "      <td>0.795620</td>\n",
       "      <td>0.546512</td>\n",
       "      <td>0.767892</td>\n",
       "    </tr>\n",
       "    <tr>\n",
       "      <th>1976</th>\n",
       "      <td>0.775000</td>\n",
       "      <td>0.489848</td>\n",
       "      <td>0.716698</td>\n",
       "    </tr>\n",
       "    <tr>\n",
       "      <th>1977</th>\n",
       "      <td>0.823666</td>\n",
       "      <td>0.564165</td>\n",
       "      <td>0.769772</td>\n",
       "    </tr>\n",
       "    <tr>\n",
       "      <th>1980</th>\n",
       "      <td>0.834906</td>\n",
       "      <td>0.539130</td>\n",
       "      <td>0.740171</td>\n",
       "    </tr>\n",
       "    <tr>\n",
       "      <th>1982</th>\n",
       "      <td>0.801126</td>\n",
       "      <td>0.599198</td>\n",
       "      <td>0.811820</td>\n",
       "    </tr>\n",
       "  </tbody>\n",
       "</table>\n",
       "</div>"
      ],
      "text/plain": [
       "polviews3  Conservative   Liberal  Moderate\n",
       "year                                       \n",
       "1974           0.795620  0.546512  0.767892\n",
       "1976           0.775000  0.489848  0.716698\n",
       "1977           0.823666  0.564165  0.769772\n",
       "1980           0.834906  0.539130  0.740171\n",
       "1982           0.801126  0.599198  0.811820"
      ]
     },
     "execution_count": 39,
     "metadata": {},
     "output_type": "execute_result"
    }
   ],
   "source": [
    "table.head()"
   ]
  },
  {
   "cell_type": "markdown",
   "metadata": {},
   "source": [
    "The result is a table that has years running down the rows and political alignment running across the columns.\n",
    "\n",
    "Each entry in the table is the mean of the variable of interest for a given group in a given year."
   ]
  },
  {
   "cell_type": "markdown",
   "metadata": {},
   "source": [
    "## Plotting the results\n",
    "\n",
    "Now we can use `plot_columns_lowess` to see the results."
   ]
  },
  {
   "cell_type": "code",
   "execution_count": 40,
   "metadata": {},
   "outputs": [
    {
     "data": {
      "image/png": "[encoded data removed]",
      "text/plain": [
       "<Figure size 432x288 with 1 Axes>"
      ]
     },
     "metadata": {
      "needs_background": "light"
     },
     "output_type": "display_data"
    }
   ],
   "source": [
    "columns = ['Conservative', 'Moderate', 'Liberal']\n",
    "plot_columns_lowess(table, columns, color_map)\n",
    "\n",
    "decorate(xlabel='Year',\n",
    "         ylabel='Fraction saying yes',\n",
    "         title='Are same-sex sexual relations always wrong?')"
   ]
  },
  {
   "cell_type": "markdown",
   "metadata": {},
   "source": [
    "Negative attitudes about homosexuality have been declining in all three groups, starting at about the same time, and at almost the same rate."
   ]
  },
  {
   "cell_type": "markdown",
   "metadata": {},
   "source": [
    "## Resampling\n",
    "\n",
    "The figures we have generated so far in this notebook are based on a single resampling of the GSS data.  Some of the features we see in these figures might be due to random sampling rather than actual changes in the world.\n",
    "\n",
    "By generating the same figures with different resampled datasets, we can get a sense of how much variation there is due to random sampling.\n",
    "\n",
    "To make that easier, the following function contains the code from the previous analysis all in one place.\n",
    "\n",
    "You will probably have to update this function with any changes you made in my code."
   ]
  },
  {
   "cell_type": "code",
   "execution_count": 41,
   "metadata": {},
   "outputs": [],
   "source": [
    "def plot_by_polviews(gss, varname):\n",
    "    \"\"\"Plot mean response by polviews and year.\n",
    "    \n",
    "    gss: DataFrame\n",
    "    varname: string column name\n",
    "    \"\"\"\n",
    "    gss['polviews3'] = gss['polviews'].replace(d_polviews)\n",
    "    \n",
    "    column = gss[varname]\n",
    "    gss['recoded'] = column.replace(d_recode)\n",
    "    \n",
    "    table = gss.pivot_table(values='recoded', \n",
    "                            index='year', \n",
    "                            columns='polviews3', \n",
    "                            aggfunc='mean')\n",
    "\n",
    "    columns = ['Conservative', 'Moderate', 'Liberal']\n",
    "    plot_columns_lowess(table, columns, color_map)\n",
    "\n",
    "    decorate(xlabel='Year',\n",
    "             ylabel='Fraction saying yes',\n",
    "             title='Are same-sex relations always wrong?')"
   ]
  },
  {
   "cell_type": "markdown",
   "metadata": {},
   "source": [
    "Now we can loop through the three resampled datasets and generate a figure for each one."
   ]
  },
  {
   "cell_type": "code",
   "execution_count": 42,
   "metadata": {},
   "outputs": [
    {
     "data": {
      "image/png": "[encoded data removed]",
      "text/plain": [
       "<Figure size 432x288 with 1 Axes>"
      ]
     },
     "metadata": {
      "needs_background": "light"
     },
     "output_type": "display_data"
    },
    {
     "data": {
      "image/png": "[encoded data removed]",
      "text/plain": [
       "<Figure size 432x288 with 1 Axes>"
      ]
     },
     "metadata": {
      "needs_background": "light"
     },
     "output_type": "display_data"
    },
    {
     "data": {
      "image/png": "[encoded data removed]",
      "text/plain": [
       "<Figure size 432x288 with 1 Axes>"
      ]
     },
     "metadata": {
      "needs_background": "light"
     },
     "output_type": "display_data"
    }
   ],
   "source": [
    "for key in ['gss0', 'gss1', 'gss2']:\n",
    "    df = pd.read_hdf('gss_eds.3.hdf5', key)\n",
    "\n",
    "    plt.figure()\n",
    "    plot_by_polviews(df, varname)"
   ]
  },
  {
   "cell_type": "markdown",
   "metadata": {},
   "source": [
    "You should review your interpretation in the previous section to see how it holds up to resampling.  If you see an effect that is consistent in all three figures, it is less likely to be an artifact of random sampling.\n",
    "\n",
    "If it varies from one resampling to the next, you should probably not take it too seriously."
   ]
  },
  {
   "cell_type": "markdown",
   "metadata": {
    "tags": [
     "remove-cell"
    ]
   },
   "source": [
    "Political Alignment Case Study\n",
    "\n",
    "Copyright 2020 Allen B. Downey\n",
    "\n",
    "License: [Attribution-NonCommercial-ShareAlike 4.0 International (CC BY-NC-SA 4.0)](https://creativecommons.org/licenses/by-nc-sa/4.0/)"
   ]
  }
 ],
 "metadata": {
  "celltoolbar": "Tags",
  "kernelspec": {
   "display_name": "Python 3",
   "language": "python",
   "name": "python3"
  },
  "language_info": {
   "codemirror_mode": {
    "name": "ipython",
    "version": 3
   },
   "file_extension": ".py",
   "mimetype": "text/x-python",
   "name": "python",
   "nbconvert_exporter": "python",
   "pygments_lexer": "ipython3",
   "version": "3.7.10"
  }
 },
 "nbformat": 4,
 "nbformat_minor": 4
}
