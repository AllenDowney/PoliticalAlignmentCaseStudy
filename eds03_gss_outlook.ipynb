{
 "cells": [
  {
   "cell_type": "markdown",
   "metadata": {},
   "source": [
    "# Political Alignment Case Study\n",
    "\n",
    "Allen Downey\n",
    "\n",
    "[MIT License](https://en.wikipedia.org/wiki/MIT_License)\n",
    "\n",
    "This is the third in a series of notebooks that make up a case study in exploratory data analysis.\n",
    "\n",
    "In this notebook, we explore the relationship between political alignment and three variables that reflect \"outlook\", specifically, beliefs about whether other people are generally fair, helpful, and trustworthy.\n",
    "\n",
    "1. We use the Pandas function [`groupby`](https://pandas.pydata.org/pandas-docs/stable/reference/api/pandas.DataFrame.groupby.html) to plot the average response to several questions as a function of time.\n",
    "\n",
    "2. We use the Pandas function [`pivot table`](https://pandas.pydata.org/pandas-docs/stable/reference/api/pandas.pivot_table.html) to compute the average response as a function of time,\n",
    "\n",
    "3. And we use resampling to see whether the features we see in the figures might be due to randomness, or whether they are likely to reflect actual changes in the works.\n",
    "\n",
    "If you are running this notebook in Colab, the following cell downloads files and installs some software we need.\n",
    "\n",
    "If you are running in another environment, it is up to you to download data and install packages."
   ]
  },
  {
   "cell_type": "code",
   "execution_count": 1,
   "metadata": {},
   "outputs": [],
   "source": [
    "# If we're running in Colab, set up the environment\n",
    "\n",
    "import sys\n",
    "IN_COLAB = 'google.colab' in sys.modules\n",
    "\n",
    "if IN_COLAB:\n",
    "    !pip install empiricaldist\n",
    "    !git clone --depth 1 https://github.com/AllenDowney/ExploratoryDataAnalysis\n",
    "    %cd ExploratoryDataAnalysis"
   ]
  },
  {
   "cell_type": "code",
   "execution_count": 2,
   "metadata": {},
   "outputs": [],
   "source": [
    "import pandas as pd\n",
    "import numpy as np\n",
    "import matplotlib.pyplot as plt\n",
    "import seaborn as sns\n",
    "\n",
    "from utils import decorate\n",
    "\n",
    "# import two functions we wrote in the previous notebook\n",
    "from utils import plot_series_lowess, plot_columns_lowess"
   ]
  },
  {
   "cell_type": "markdown",
   "metadata": {},
   "source": [
    "### Loading the GSS data\n",
    "\n",
    "If the HDF5 files doesn't exist, create it."
   ]
  },
  {
   "cell_type": "code",
   "execution_count": 3,
   "metadata": {},
   "outputs": [],
   "source": [
    "import os\n",
    "\n",
    "filename = 'eds.gss.hdf5'\n",
    "if os.path.isfile(filename):\n",
    "    print('File already exists; no need to create it.')\n",
    "else:\n",
    "    # read and clean the data\n",
    "    gss = utils.read_gss('gss_eda')\n",
    "    utils.gss_replace_invalid(gss)\n",
    "    \n",
    "    # resample and save the resampled DataFrames\n",
    "    for i in range(3):\n",
    "        np.random.seed(i)\n",
    "        sample = utils.resample_by_year(gss, 'wtssall')\n",
    "\n",
    "        key = f'gss{i}'\n",
    "        sample.to_hdf(filename, key)"
   ]
  },
  {
   "cell_type": "markdown",
   "metadata": {},
   "source": [
    "Load one of the resampled DataFrames."
   ]
  },
  {
   "cell_type": "code",
   "execution_count": 4,
   "metadata": {},
   "outputs": [],
   "source": [
    "gss = pd.read_hdf('eds.gss.hdf5', 'gss0')\n",
    "gss.shape"
   ]
  },
  {
   "cell_type": "markdown",
   "metadata": {},
   "source": [
    "Make a color dictionary."
   ]
  },
  {
   "cell_type": "code",
   "execution_count": 5,
   "metadata": {},
   "outputs": [],
   "source": [
    "muted = sns.color_palette('muted', 5)\n",
    "sns.palplot(muted)"
   ]
  },
  {
   "cell_type": "code",
   "execution_count": 6,
   "metadata": {},
   "outputs": [],
   "source": [
    "colors = {'Conservative': muted[3], \n",
    "              'Moderate': muted[4], \n",
    "               'Liberal': muted[0]}"
   ]
  },
  {
   "cell_type": "markdown",
   "metadata": {},
   "source": [
    "### 3-point scale\n",
    "\n",
    "To make it easier to visualize groups, I'm going to lump the 7-point scale into a 3-point scale."
   ]
  },
  {
   "cell_type": "code",
   "execution_count": 7,
   "metadata": {},
   "outputs": [],
   "source": [
    "def make_polviews3(df):\n",
    "    \"\"\"Replace 7 point scale with 3 point scale.\n",
    "    \n",
    "    df: DataFrame\n",
    "    \"\"\"\n",
    "    d = {1:'Liberal', \n",
    "         2:'Liberal', \n",
    "         3:'Liberal', \n",
    "         4:'Moderate', \n",
    "         5:'Conservative', \n",
    "         6:'Conservative', \n",
    "         7:'Conservative'}\n",
    "    \n",
    "    df['polviews3'] = df.polviews.replace(d)\n",
    "    \n",
    "make_polviews3(gss)"
   ]
  },
  {
   "cell_type": "markdown",
   "metadata": {},
   "source": [
    "With this scale, there are roughly the same number of people in each group."
   ]
  },
  {
   "cell_type": "code",
   "execution_count": 8,
   "metadata": {},
   "outputs": [],
   "source": [
    "def values(series):\n",
    "    return series.value_counts().sort_index()\n",
    "\n",
    "values(gss['polviews3'])"
   ]
  },
  {
   "cell_type": "markdown",
   "metadata": {},
   "source": [
    "## Fair\n",
    "\n",
    "In this notebook, we explore relationships between political alignment (conversative, liberal) and \"outlook\", which means the way people perceive the world.  Specifically, we'll look at their responses to questions about\n",
    "\n",
    "1. Whether people generally try to be fair.\n",
    "\n",
    "2. Whether people can generally be trusted.\n",
    "\n",
    "3. Whether people generally try to be helpful.\n",
    "\n",
    "Before we look at results, you might want to guess: do you think conservatives or liberals tend to give more positive responses to these questions?\n",
    "\n",
    "Let's see if the data are consistent with your expectations.\n",
    "\n",
    "The [first question](https://gssdataexplorer.norc.org/projects/52787/variables/440/vshow) we'll look at is:\n",
    "\n",
    "Do you think most people would try to take advantage of you if they got a chance, or would they try to be fair?\n",
    "\n",
    "The possible responses are:\n",
    "\n",
    "```\n",
    "1\tTake advantage\n",
    "2\tFair\n",
    "3\tDepends\n",
    "```\n",
    "\n",
    "As always, we'll start by looking at the distribution of responses, that is, how many people give each response:"
   ]
  },
  {
   "cell_type": "code",
   "execution_count": 9,
   "metadata": {},
   "outputs": [],
   "source": [
    "values(gss['fair'])"
   ]
  },
  {
   "cell_type": "markdown",
   "metadata": {},
   "source": [
    "The plurality think people try to be fair, so that's promising.\n",
    "\n",
    "These responses are categorical, but we can put them on a numerical scale, representing the most positive response (Fair) with 1, the most negative response (Take advantage) with 0, and \"depends\" with 0.5.\n",
    "\n",
    "This scale is arbitrary, but it let's us quantify changes over time."
   ]
  },
  {
   "cell_type": "code",
   "execution_count": 10,
   "metadata": {},
   "outputs": [],
   "source": [
    "d = {1:0, 2:1, 3:0.5}\n",
    "gss['fair'].replace(d, inplace=True)\n",
    "values(gss['fair'])"
   ]
  },
  {
   "cell_type": "markdown",
   "metadata": {},
   "source": [
    "We saw the `grouby` function in the previous notebook; now we wrap it in a function that takes a DataFrame, groups by year, and then computes the mean of the given variable."
   ]
  },
  {
   "cell_type": "code",
   "execution_count": 11,
   "metadata": {},
   "outputs": [],
   "source": [
    "def group_by_year(df, varname):\n",
    "    \"\"\"Group by year and compute mean of `varname`.\n",
    "    \n",
    "    df: DataFrame\n",
    "    varname: string variable name\n",
    "    \n",
    "    returns: Series\n",
    "    \"\"\"\n",
    "    grouped = df.groupby('year')\n",
    "    return grouped[varname].mean().dropna()"
   ]
  },
  {
   "cell_type": "markdown",
   "metadata": {},
   "source": [
    "We also saw `decorate` in the previous notebook; now we wrap it in a function that let's us avoid repeating the elements that are common across figures."
   ]
  },
  {
   "cell_type": "code",
   "execution_count": 12,
   "metadata": {},
   "outputs": [],
   "source": [
    "def decorate_by_year(**options):\n",
    "    \"\"\"Label the axes.\n",
    "    \n",
    "    options: keyword arguments passed to `decorate`.\n",
    "    \"\"\"\n",
    "    decorate(xlabel='Year',\n",
    "             ylabel='Fraction saying yes',\n",
    "             xlim=[1970, 2020],\n",
    "             **options)"
   ]
  },
  {
   "cell_type": "markdown",
   "metadata": {},
   "source": [
    "Here's the fraction of people who say people try to be fair, plotted over time.  As in the previous notebook, we plot the data points themselves with circles and a local regression model as a line."
   ]
  },
  {
   "cell_type": "code",
   "execution_count": 13,
   "metadata": {},
   "outputs": [],
   "source": [
    "mean_by_year = group_by_year(gss, 'fair')\n",
    "plot_series_lowess(mean_by_year, 'C1')\n",
    "\n",
    "title='Would most people try to be fair?'\n",
    "decorate_by_year(title=title)"
   ]
  },
  {
   "cell_type": "markdown",
   "metadata": {},
   "source": [
    "The following function uses the Pandas function `pivot_table` to make a DataFrame with one row for each year and one column for each value of `polviews3`, where each element is the mean response to `fair` for one year and one political alignment."
   ]
  },
  {
   "cell_type": "code",
   "execution_count": 14,
   "metadata": {},
   "outputs": [],
   "source": [
    "def group_by_polviews(df, varname):\n",
    "    \"\"\"Group by polviews and year, and compute mean of varname.\n",
    "    \n",
    "    df: DataFrame\n",
    "    varname: string variable name\n",
    "    \n",
    "    returns: DataFrame with one row per year,\n",
    "             one column per value in 'polviews3'\n",
    "    \"\"\"\n",
    "    return df.pivot_table(values=varname, \n",
    "                          index='year', \n",
    "                          columns='polviews3', \n",
    "                          aggfunc='mean')"
   ]
  },
  {
   "cell_type": "markdown",
   "metadata": {},
   "source": [
    "Here's how it works, and the first few rows of the table."
   ]
  },
  {
   "cell_type": "code",
   "execution_count": 15,
   "metadata": {},
   "outputs": [],
   "source": [
    "mean_by_polviews = group_by_polviews(gss, 'fair')\n",
    "mean_by_polviews.head()"
   ]
  },
  {
   "cell_type": "markdown",
   "metadata": {},
   "source": [
    "Now we can use `plot_columns_lowess` to see the results."
   ]
  },
  {
   "cell_type": "code",
   "execution_count": 16,
   "metadata": {},
   "outputs": [],
   "source": [
    "columns = ['Conservative', 'Liberal', 'Moderate']\n",
    "plot_columns_lowess(mean_by_polviews, columns, colors)\n",
    "decorate_by_year(title=title)"
   ]
  },
  {
   "cell_type": "markdown",
   "metadata": {},
   "source": [
    "In the following two sections, you can do the same analysis with the other two outlook variables, `trust` and `helpful`."
   ]
  },
  {
   "cell_type": "markdown",
   "metadata": {},
   "source": [
    "## Trust\n",
    "\n",
    "**Exercise:**  Follow the instructions below to general similar graphs for response to [this question](https://gssdataexplorer.norc.org/projects/52787/variables/441/vshow)\n",
    "\n",
    "> Generally speaking, would you say that most people can be trusted or that you can't be too careful in dealing with people?\n",
    "\n",
    "```\n",
    "1\tCan trust\n",
    "2\tCannot trust\n",
    "3\tDepends\n",
    "```"
   ]
  },
  {
   "cell_type": "markdown",
   "metadata": {},
   "source": [
    "Use `values` to display the distribution of responses."
   ]
  },
  {
   "cell_type": "code",
   "execution_count": 17,
   "metadata": {},
   "outputs": [],
   "source": [
    "# Solution goes here"
   ]
  },
  {
   "cell_type": "markdown",
   "metadata": {},
   "source": [
    "Use `replace` to recode the responses so the most positive response is 1, the most negative response is 0, and \"Depends\" is 0.5."
   ]
  },
  {
   "cell_type": "code",
   "execution_count": 18,
   "metadata": {},
   "outputs": [],
   "source": [
    "# Solution goes here"
   ]
  },
  {
   "cell_type": "markdown",
   "metadata": {},
   "source": [
    "Use `group_by_year` and `plot_series_lowess` to plot the fraction of people giving the positive response over time."
   ]
  },
  {
   "cell_type": "code",
   "execution_count": 19,
   "metadata": {
    "scrolled": true
   },
   "outputs": [],
   "source": [
    "# Solution goes here"
   ]
  },
  {
   "cell_type": "markdown",
   "metadata": {},
   "source": [
    "Use `group_by_polviews` to make a pivot table with the average response as a function of time, grouped by `polviews3`."
   ]
  },
  {
   "cell_type": "code",
   "execution_count": 20,
   "metadata": {},
   "outputs": [],
   "source": [
    "# Solution goes here"
   ]
  },
  {
   "cell_type": "markdown",
   "metadata": {},
   "source": [
    "Use `plot_columns_lowess` to plot the average response over time, grouped by `polviews3`."
   ]
  },
  {
   "cell_type": "code",
   "execution_count": 21,
   "metadata": {},
   "outputs": [],
   "source": [
    "# Solution goes here"
   ]
  },
  {
   "cell_type": "markdown",
   "metadata": {},
   "source": [
    "## Helpful\n",
    "\n",
    "**Exercise:** Generate similar figures for responses to [this question](https://gssdataexplorer.norc.org/projects/52787/variables/439/vshow):\n",
    "\n",
    ">Would you say that most of the time people try to be helpful, or that they are mostly just looking out for themselves?\n",
    "\n",
    "```\n",
    "1\tHelpful\n",
    "2\tLookout for self\n",
    "3\tDepends\n",
    "```\n",
    "\n",
    "Hint: You can select a set of cells by clicking on the first and shift-clicking on the last.  Then you can copy and paste them."
   ]
  },
  {
   "cell_type": "code",
   "execution_count": 22,
   "metadata": {},
   "outputs": [],
   "source": [
    "# Solution goes here"
   ]
  },
  {
   "cell_type": "markdown",
   "metadata": {},
   "source": [
    "## Simulating possible datasets\n",
    "\n",
    "The figures we have generated so far in this notebook are based on a single resampling of the GSS data.  Some of the features we see in these figure might be due to random sampling, not necessarily actual changes in the world.\n",
    "\n",
    "By generating the same figures again using additional resampled datasets, we can get a sense of how much variation there is due to random sampling.\n",
    "\n",
    "To make that easier, the following function contains the code from the previous analysis, all in one place."
   ]
  },
  {
   "cell_type": "code",
   "execution_count": 23,
   "metadata": {},
   "outputs": [],
   "source": [
    "def plot_by_polviews(df, varname, title):\n",
    "    \"\"\"Plot mean response by polviews and year.\n",
    "    \n",
    "    df: DataFrame\n",
    "    varname: name of the variable to plot\n",
    "    title: string title for the figure\n",
    "    \"\"\"\n",
    "    make_polviews3(df)\n",
    "    mean_by_polviews = group_by_polviews(df, varname)\n",
    "    plot_columns_lowess(mean_by_polviews, columns, colors)\n",
    "    decorate_by_year(title=title)"
   ]
  },
  {
   "cell_type": "markdown",
   "metadata": {},
   "source": [
    "Now we can loop through the three resampled datasets in the HDF5 file and generate a figure for each one."
   ]
  },
  {
   "cell_type": "code",
   "execution_count": 24,
   "metadata": {},
   "outputs": [],
   "source": [
    "varname = 'fair'\n",
    "title = 'Would most people try to be fair?'\n",
    "\n",
    "for i in range(3):\n",
    "    key = f'gss{i}'\n",
    "\n",
    "    plt.figure()\n",
    "    df = pd.read_hdf('eds.gss.hdf5', key)\n",
    "    d = {1:0, 2:1, 3:0.5}\n",
    "    df[varname].replace(d, inplace=True)\n",
    "    plot_by_polviews(df, varname, title)"
   ]
  },
  {
   "cell_type": "markdown",
   "metadata": {},
   "source": [
    "Features that are the same in all three figures are more likely to reflect things actually happening in the world.  Features that differ substantially between the figures are more likely to be artifacts of random sampling.\n",
    "\n",
    "In this context, \"artifact\" has the sense of [\"something observed in a scientific investigation or experiment that is not naturally present but occurs as a result of the preparative or investigative procedure\"](https://www.lexico.com/en/definition/artifact)."
   ]
  },
  {
   "cell_type": "code",
   "execution_count": null,
   "metadata": {},
   "outputs": [],
   "source": []
  }
 ],
 "metadata": {
  "kernelspec": {
   "display_name": "Python 3",
   "language": "python",
   "name": "python3"
  },
  "language_info": {
   "codemirror_mode": {
    "name": "ipython",
    "version": 3
   },
   "file_extension": ".py",
   "mimetype": "text/x-python",
   "name": "python",
   "nbconvert_exporter": "python",
   "pygments_lexer": "ipython3",
   "version": "3.7.4"
  }
 },
 "nbformat": 4,
 "nbformat_minor": 1
}
